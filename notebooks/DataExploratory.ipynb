{
 "cells": [
  {
   "cell_type": "code",
   "execution_count": 1,
   "outputs": [],
   "source": [
    "import pandas as pd\n",
    "import numpy as np\n",
    "import matplotlib as plt\n",
    "import seaborn as sns\n",
    "from sklearn.preprocessing import OneHotEncoder,LabelEncoder\n",
    "\n",
    "\n",
    "%matplotlib inline"
   ],
   "metadata": {
    "collapsed": false
   }
  },
  {
   "cell_type": "markdown",
   "source": [
    "# Load Dataset dan Ekplorasi "
   ],
   "metadata": {
    "id": "n91Hh5X4X9Jd"
   }
  },
  {
   "cell_type": "code",
   "execution_count": 2,
   "metadata": {
    "executionInfo": {
     "elapsed": 1129,
     "status": "ok",
     "timestamp": 1666500834703,
     "user": {
      "displayName": "Farhan Rahmadi Fajar",
      "userId": "10785679253509263230"
     },
     "user_tz": -420
    },
    "id": "3cVEhkkK2AxG"
   },
   "outputs": [],
   "source": [
    "jenis_kunjungan = pd.read_excel('../data/Salinan Metadata.xlsx', sheet_name='Jenis Kunjungan FKTP')\n",
    "poli_faskes_tujuan_rujukan = pd.read_excel('../data/Salinan Metadata.xlsx',sheet_name='Poli faskes tujuan rujukan')\n",
    "tipe_faskes_tujuan_rujukan = pd.read_excel('../data/Salinan Metadata.xlsx',sheet_name='Tipe faskes tujuan rujukan')\n",
    "jenis_faskes_tujuan_rujukan = pd.read_excel('../data/Salinan Metadata.xlsx',sheet_name='Jenis faskes tujuan rujukan')\n",
    "provinsi_faskes_tujuan_rujukan = pd.read_excel('../data/Salinan Metadata.xlsx',sheet_name='Provinsi Faskes Tujuan Rujukan')\n",
    "segmen_perkerjaan = pd.read_excel('../data/Salinan Metadata.xlsx',sheet_name='Segmen Pekerjaan FTKP')\n",
    "jenis_poli = pd.read_excel('../data/Salinan Metadata.xlsx',sheet_name='Jenis Poli FTKP')\n",
    "tingkat_pelayanan = pd.read_excel('../data/Salinan Metadata.xlsx',sheet_name='Tingkat Pelayanan FTKP')\n",
    "tipe = pd.read_excel('../data/Salinan Metadata.xlsx',sheet_name='Tipe FTKP')\n",
    "jenis = pd.read_excel('../data/Salinan Metadata.xlsx',sheet_name='Jenis FTKP')\n",
    "kepemilikan = pd.read_excel('../data/Salinan Metadata.xlsx',sheet_name='Kepemilikan FTKP')\n",
    "columns = pd.read_excel('../data/Salinan Metadata.xlsx',sheet_name='Label')\n",
    "provinsi = pd.read_excel('../data/Salinan Metadata.xlsx',sheet_name='Provinsi')"
   ]
  },
  {
   "cell_type": "code",
   "execution_count": 3,
   "metadata": {
    "id": "QEru2BQ_px9S",
    "executionInfo": {
     "status": "ok",
     "timestamp": 1666500861820,
     "user_tz": -420,
     "elapsed": 27120,
     "user": {
      "displayName": "Farhan Rahmadi Fajar",
      "userId": "10785679253509263230"
     }
    }
   },
   "outputs": [],
   "source": [
    "dataset = pd.read_csv('../data/train_fktp.txt', names=columns['Label'])"
   ]
  },
  {
   "cell_type": "code",
   "execution_count": 4,
   "metadata": {
    "colab": {
     "base_uri": "https://localhost:8080/",
     "height": 543
    },
    "id": "cS00L9DyqCnb",
    "executionInfo": {
     "status": "ok",
     "timestamp": 1666500861821,
     "user_tz": -420,
     "elapsed": 40,
     "user": {
      "displayName": "Farhan Rahmadi Fajar",
      "userId": "10785679253509263230"
     }
    },
    "outputId": "b7cf5f4d-f17b-4e1a-cb63-5f56bd056d24"
   },
   "outputs": [
    {
     "data": {
      "text/plain": "   Nomor peserta  Nomor keluarga       Bobot ID Kunjungan FKTP  \\\n0    157978748.0        50765420   20.064983         958073632   \n1     95085112.0        26931775    2.626307  449590620P000054   \n2    224470578.0       227368233    1.051830  467490619P000001   \n3     63871289.0        62313678  364.741455  254321219Y002368   \n4     29915626.0       113446188    1.050523   88681119P000020   \n\n  Tanggal datang kunjungan FKTP Tanggal pulang kunjungan FKTP  Provinsi FKTP  \\\n0                    2019-08-01                    2019-08-01             61   \n1                    2020-06-17                    2020-06-17             51   \n2                    2019-06-01                    2019-06-01             35   \n3                    2019-12-21                    2019-12-21             34   \n4                    2019-11-04                    2019-11-04             35   \n\n   Kabupaten/Kota FKTP  Kepemilikan FKTP  Jenis FKTP  ...  \\\n0                 6108                 3           1  ...   \n1                 5171                 9           3  ...   \n2                 3516                 9           2  ...   \n3                 3402                 3           1  ...   \n4                 3509                 3           1  ...   \n\n   Kode diagnosis (beragam 3-5 digit)  \\\n0                                9999   \n1                                K297   \n2                                Z309   \n3                                 I10   \n4                                I110   \n\n    Nama diagnosis berasal dari kode diagnosis FKP15  \\\n0                                               9999   \n1                             Gastritis, unspecified   \n2              Contraceptive management, unspecified   \n3                   Essential (primary) hypertension   \n4  Hypertensive heart disease with (congestive) h...   \n\n   Provinsi faskes tujuan rujukan  Kabupaten/Kota faskes tujuan rujukan  \\\n0                              98                                  9998   \n1                              98                                  9998   \n2                              98                                  9998   \n3                              98                                  9998   \n4                              98                                  9998   \n\n   Kepemilikan faskes tujuan rujukan Jenis faskes tujuan rujukan  \\\n0                                 98                          98   \n1                                 98                          98   \n2                                 98                          98   \n3                                 98                          98   \n4                                 98                          98   \n\n  Tipe faskes tujuan rujukan Poli faskes tujuan rujukan  Jenis Kunjungan FKTP  \\\n0                         98                         98                     2   \n1                         98                         98                     1   \n2                         98                         98                     1   \n3                         98                         98                     1   \n4                         98                         98                     1   \n\n   Kelas Status Pulang Peserta  \n0                        Sehat  \n1                  Belum_Sehat  \n2                  Belum_Sehat  \n3                  Belum_Sehat  \n4                  Belum_Sehat  \n\n[5 rows x 26 columns]",
      "text/html": "<div>\n<style scoped>\n    .dataframe tbody tr th:only-of-type {\n        vertical-align: middle;\n    }\n\n    .dataframe tbody tr th {\n        vertical-align: top;\n    }\n\n    .dataframe thead th {\n        text-align: right;\n    }\n</style>\n<table border=\"1\" class=\"dataframe\">\n  <thead>\n    <tr style=\"text-align: right;\">\n      <th></th>\n      <th>Nomor peserta</th>\n      <th>Nomor keluarga</th>\n      <th>Bobot</th>\n      <th>ID Kunjungan FKTP</th>\n      <th>Tanggal datang kunjungan FKTP</th>\n      <th>Tanggal pulang kunjungan FKTP</th>\n      <th>Provinsi FKTP</th>\n      <th>Kabupaten/Kota FKTP</th>\n      <th>Kepemilikan FKTP</th>\n      <th>Jenis FKTP</th>\n      <th>...</th>\n      <th>Kode diagnosis (beragam 3-5 digit)</th>\n      <th>Nama diagnosis berasal dari kode diagnosis FKP15</th>\n      <th>Provinsi faskes tujuan rujukan</th>\n      <th>Kabupaten/Kota faskes tujuan rujukan</th>\n      <th>Kepemilikan faskes tujuan rujukan</th>\n      <th>Jenis faskes tujuan rujukan</th>\n      <th>Tipe faskes tujuan rujukan</th>\n      <th>Poli faskes tujuan rujukan</th>\n      <th>Jenis Kunjungan FKTP</th>\n      <th>Kelas Status Pulang Peserta</th>\n    </tr>\n  </thead>\n  <tbody>\n    <tr>\n      <th>0</th>\n      <td>157978748.0</td>\n      <td>50765420</td>\n      <td>20.064983</td>\n      <td>958073632</td>\n      <td>2019-08-01</td>\n      <td>2019-08-01</td>\n      <td>61</td>\n      <td>6108</td>\n      <td>3</td>\n      <td>1</td>\n      <td>...</td>\n      <td>9999</td>\n      <td>9999</td>\n      <td>98</td>\n      <td>9998</td>\n      <td>98</td>\n      <td>98</td>\n      <td>98</td>\n      <td>98</td>\n      <td>2</td>\n      <td>Sehat</td>\n    </tr>\n    <tr>\n      <th>1</th>\n      <td>95085112.0</td>\n      <td>26931775</td>\n      <td>2.626307</td>\n      <td>449590620P000054</td>\n      <td>2020-06-17</td>\n      <td>2020-06-17</td>\n      <td>51</td>\n      <td>5171</td>\n      <td>9</td>\n      <td>3</td>\n      <td>...</td>\n      <td>K297</td>\n      <td>Gastritis, unspecified</td>\n      <td>98</td>\n      <td>9998</td>\n      <td>98</td>\n      <td>98</td>\n      <td>98</td>\n      <td>98</td>\n      <td>1</td>\n      <td>Belum_Sehat</td>\n    </tr>\n    <tr>\n      <th>2</th>\n      <td>224470578.0</td>\n      <td>227368233</td>\n      <td>1.051830</td>\n      <td>467490619P000001</td>\n      <td>2019-06-01</td>\n      <td>2019-06-01</td>\n      <td>35</td>\n      <td>3516</td>\n      <td>9</td>\n      <td>2</td>\n      <td>...</td>\n      <td>Z309</td>\n      <td>Contraceptive management, unspecified</td>\n      <td>98</td>\n      <td>9998</td>\n      <td>98</td>\n      <td>98</td>\n      <td>98</td>\n      <td>98</td>\n      <td>1</td>\n      <td>Belum_Sehat</td>\n    </tr>\n    <tr>\n      <th>3</th>\n      <td>63871289.0</td>\n      <td>62313678</td>\n      <td>364.741455</td>\n      <td>254321219Y002368</td>\n      <td>2019-12-21</td>\n      <td>2019-12-21</td>\n      <td>34</td>\n      <td>3402</td>\n      <td>3</td>\n      <td>1</td>\n      <td>...</td>\n      <td>I10</td>\n      <td>Essential (primary) hypertension</td>\n      <td>98</td>\n      <td>9998</td>\n      <td>98</td>\n      <td>98</td>\n      <td>98</td>\n      <td>98</td>\n      <td>1</td>\n      <td>Belum_Sehat</td>\n    </tr>\n    <tr>\n      <th>4</th>\n      <td>29915626.0</td>\n      <td>113446188</td>\n      <td>1.050523</td>\n      <td>88681119P000020</td>\n      <td>2019-11-04</td>\n      <td>2019-11-04</td>\n      <td>35</td>\n      <td>3509</td>\n      <td>3</td>\n      <td>1</td>\n      <td>...</td>\n      <td>I110</td>\n      <td>Hypertensive heart disease with (congestive) h...</td>\n      <td>98</td>\n      <td>9998</td>\n      <td>98</td>\n      <td>98</td>\n      <td>98</td>\n      <td>98</td>\n      <td>1</td>\n      <td>Belum_Sehat</td>\n    </tr>\n  </tbody>\n</table>\n<p>5 rows × 26 columns</p>\n</div>"
     },
     "execution_count": 4,
     "metadata": {},
     "output_type": "execute_result"
    }
   ],
   "source": [
    "dataset.head()"
   ]
  },
  {
   "cell_type": "code",
   "execution_count": 5,
   "metadata": {
    "colab": {
     "base_uri": "https://localhost:8080/"
    },
    "id": "t58A1UDIzTVO",
    "executionInfo": {
     "status": "ok",
     "timestamp": 1666500862437,
     "user_tz": -420,
     "elapsed": 623,
     "user": {
      "displayName": "Farhan Rahmadi Fajar",
      "userId": "10785679253509263230"
     }
    },
    "outputId": "9ffa2a63-ced5-4588-9bbf-f216a56ea327"
   },
   "outputs": [
    {
     "data": {
      "text/plain": "(4056898, 26)"
     },
     "execution_count": 5,
     "metadata": {},
     "output_type": "execute_result"
    }
   ],
   "source": [
    "dataset.shape"
   ]
  },
  {
   "cell_type": "code",
   "execution_count": 6,
   "metadata": {
    "colab": {
     "base_uri": "https://localhost:8080/"
    },
    "id": "pxosabw9qEX6",
    "executionInfo": {
     "status": "ok",
     "timestamp": 1666500863321,
     "user_tz": -420,
     "elapsed": 349,
     "user": {
      "displayName": "Farhan Rahmadi Fajar",
      "userId": "10785679253509263230"
     }
    },
    "outputId": "fa555a1d-da4e-4c78-d41f-83946163442b"
   },
   "outputs": [
    {
     "data": {
      "text/plain": "Belum_Sehat    2634511\nSehat          1422387\nName: Kelas Status Pulang Peserta, dtype: int64"
     },
     "execution_count": 6,
     "metadata": {},
     "output_type": "execute_result"
    }
   ],
   "source": [
    "dataset['Kelas Status Pulang Peserta'].value_counts()"
   ]
  },
  {
   "cell_type": "code",
   "execution_count": 7,
   "metadata": {
    "colab": {
     "base_uri": "https://localhost:8080/"
    },
    "id": "_4DgxehhsO1S",
    "executionInfo": {
     "status": "ok",
     "timestamp": 1666500865958,
     "user_tz": -420,
     "elapsed": 2646,
     "user": {
      "displayName": "Farhan Rahmadi Fajar",
      "userId": "10785679253509263230"
     }
    },
    "outputId": "2348cafa-aa46-441a-f70d-e44f6d9d93fd"
   },
   "outputs": [
    {
     "data": {
      "text/plain": "Nomor peserta                                             0\nNomor keluarga                                            0\nBobot                                                     0\nID Kunjungan FKTP                                         0\nTanggal datang kunjungan FKTP                             0\nTanggal pulang kunjungan FKTP                             0\nProvinsi FKTP                                             0\nKabupaten/Kota FKTP                                       0\nKepemilikan FKTP                                          0\nJenis FKTP                                                0\nTipe FKTP                                                 0\nTingkat Pelayanan FKTP                                    0\nJenis Poli FKTP                                           1\nSegmen Peserta saat akses layanan FKTP                    0\nKode dan nama diagnosis ICD 10 (3 digit)                  0\nKode diagnosis ICD 10 (3 digit)                     1380241\nKode diagnosis (beragam 3-5 digit)                        0\nNama diagnosis berasal dari kode diagnosis FKP15          0\nProvinsi faskes tujuan rujukan                            0\nKabupaten/Kota faskes tujuan rujukan                      0\nKepemilikan faskes tujuan rujukan                         0\nJenis faskes tujuan rujukan                               0\nTipe faskes tujuan rujukan                                0\nPoli faskes tujuan rujukan                                0\nJenis Kunjungan FKTP                                      0\nKelas Status Pulang Peserta                               0\ndtype: int64"
     },
     "execution_count": 7,
     "metadata": {},
     "output_type": "execute_result"
    }
   ],
   "source": [
    "dataset.isnull().sum()"
   ]
  },
  {
   "cell_type": "code",
   "execution_count": 8,
   "metadata": {
    "colab": {
     "base_uri": "https://localhost:8080/"
    },
    "id": "WTaNOxadJvZ3",
    "executionInfo": {
     "status": "ok",
     "timestamp": 1666500866321,
     "user_tz": -420,
     "elapsed": 401,
     "user": {
      "displayName": "Farhan Rahmadi Fajar",
      "userId": "10785679253509263230"
     }
    },
    "outputId": "9d390a5b-77b9-40d4-df20-f9e07c0ef3d8"
   },
   "outputs": [
    {
     "data": {
      "text/plain": "0          NaN\n6          NaN\n7          NaN\n8          NaN\n10         NaN\n          ... \n4056890    NaN\n4056892    NaN\n4056893    NaN\n4056895    NaN\n4056897    NaN\nName: Kode diagnosis ICD 10 (3 digit), Length: 1380241, dtype: object"
     },
     "execution_count": 8,
     "metadata": {},
     "output_type": "execute_result"
    }
   ],
   "source": [
    "empty_data = dataset['Kode diagnosis ICD 10 (3 digit)'][dataset['Kode diagnosis ICD 10 (3 digit)'].isnull()]\n",
    "empty_data"
   ]
  },
  {
   "cell_type": "code",
   "execution_count": 9,
   "metadata": {
    "colab": {
     "base_uri": "https://localhost:8080/",
     "height": 865
    },
    "id": "mnJeoC5X0rAj",
    "executionInfo": {
     "status": "ok",
     "timestamp": 1666500866322,
     "user_tz": -420,
     "elapsed": 22,
     "user": {
      "displayName": "Farhan Rahmadi Fajar",
      "userId": "10785679253509263230"
     }
    },
    "outputId": "7a43590f-e174-496e-a79f-71a4ef97d14d"
   },
   "outputs": [
    {
     "data": {
      "text/plain": "      Variable  Position                                             Label\n0       PSTV01         1                                     Nomor peserta\n1       PSTV02         2                                    Nomor keluarga\n2       PSTV15         3                                             Bobot\n3        FKP02         4                                 ID Kunjungan FKTP\n4        FKP03         5                     Tanggal datang kunjungan FKTP\n5        FKP04         6                     Tanggal pulang kunjungan FKTP\n6        FKP05         7                                     Provinsi FKTP\n7        FKP06         8                               Kabupaten/Kota FKTP\n8        FKP07         9                                  Kepemilikan FKTP\n9        FKP08        10                                        Jenis FKTP\n10       FKP09        11                                         Tipe FKTP\n11       FKP10        12                            Tingkat Pelayanan FKTP\n12       FKP11        13                                   Jenis Poli FKTP\n13       FKP12        14            Segmen Peserta saat akses layanan FKTP\n14       FKP14        16          Kode dan nama diagnosis ICD 10 (3 digit)\n15      FKP14A        17                   Kode diagnosis ICD 10 (3 digit)\n16       FKP15        18                Kode diagnosis (beragam 3-5 digit)\n17      FKP15A        19  Nama diagnosis berasal dari kode diagnosis FKP15\n18       FKP16        20                    Provinsi faskes tujuan rujukan\n19       FKP17        21              Kabupaten/Kota faskes tujuan rujukan\n20       FKP18        22                 Kepemilikan faskes tujuan rujukan\n21       FKP19        23                       Jenis faskes tujuan rujukan\n22       FKP20        24                        Tipe faskes tujuan rujukan\n23       FKP21        25                        Poli faskes tujuan rujukan\n24       FKP22        26                              Jenis Kunjungan FKTP\n25  FKP13Class        26                       Kelas Status Pulang Peserta",
      "text/html": "<div>\n<style scoped>\n    .dataframe tbody tr th:only-of-type {\n        vertical-align: middle;\n    }\n\n    .dataframe tbody tr th {\n        vertical-align: top;\n    }\n\n    .dataframe thead th {\n        text-align: right;\n    }\n</style>\n<table border=\"1\" class=\"dataframe\">\n  <thead>\n    <tr style=\"text-align: right;\">\n      <th></th>\n      <th>Variable</th>\n      <th>Position</th>\n      <th>Label</th>\n    </tr>\n  </thead>\n  <tbody>\n    <tr>\n      <th>0</th>\n      <td>PSTV01</td>\n      <td>1</td>\n      <td>Nomor peserta</td>\n    </tr>\n    <tr>\n      <th>1</th>\n      <td>PSTV02</td>\n      <td>2</td>\n      <td>Nomor keluarga</td>\n    </tr>\n    <tr>\n      <th>2</th>\n      <td>PSTV15</td>\n      <td>3</td>\n      <td>Bobot</td>\n    </tr>\n    <tr>\n      <th>3</th>\n      <td>FKP02</td>\n      <td>4</td>\n      <td>ID Kunjungan FKTP</td>\n    </tr>\n    <tr>\n      <th>4</th>\n      <td>FKP03</td>\n      <td>5</td>\n      <td>Tanggal datang kunjungan FKTP</td>\n    </tr>\n    <tr>\n      <th>5</th>\n      <td>FKP04</td>\n      <td>6</td>\n      <td>Tanggal pulang kunjungan FKTP</td>\n    </tr>\n    <tr>\n      <th>6</th>\n      <td>FKP05</td>\n      <td>7</td>\n      <td>Provinsi FKTP</td>\n    </tr>\n    <tr>\n      <th>7</th>\n      <td>FKP06</td>\n      <td>8</td>\n      <td>Kabupaten/Kota FKTP</td>\n    </tr>\n    <tr>\n      <th>8</th>\n      <td>FKP07</td>\n      <td>9</td>\n      <td>Kepemilikan FKTP</td>\n    </tr>\n    <tr>\n      <th>9</th>\n      <td>FKP08</td>\n      <td>10</td>\n      <td>Jenis FKTP</td>\n    </tr>\n    <tr>\n      <th>10</th>\n      <td>FKP09</td>\n      <td>11</td>\n      <td>Tipe FKTP</td>\n    </tr>\n    <tr>\n      <th>11</th>\n      <td>FKP10</td>\n      <td>12</td>\n      <td>Tingkat Pelayanan FKTP</td>\n    </tr>\n    <tr>\n      <th>12</th>\n      <td>FKP11</td>\n      <td>13</td>\n      <td>Jenis Poli FKTP</td>\n    </tr>\n    <tr>\n      <th>13</th>\n      <td>FKP12</td>\n      <td>14</td>\n      <td>Segmen Peserta saat akses layanan FKTP</td>\n    </tr>\n    <tr>\n      <th>14</th>\n      <td>FKP14</td>\n      <td>16</td>\n      <td>Kode dan nama diagnosis ICD 10 (3 digit)</td>\n    </tr>\n    <tr>\n      <th>15</th>\n      <td>FKP14A</td>\n      <td>17</td>\n      <td>Kode diagnosis ICD 10 (3 digit)</td>\n    </tr>\n    <tr>\n      <th>16</th>\n      <td>FKP15</td>\n      <td>18</td>\n      <td>Kode diagnosis (beragam 3-5 digit)</td>\n    </tr>\n    <tr>\n      <th>17</th>\n      <td>FKP15A</td>\n      <td>19</td>\n      <td>Nama diagnosis berasal dari kode diagnosis FKP15</td>\n    </tr>\n    <tr>\n      <th>18</th>\n      <td>FKP16</td>\n      <td>20</td>\n      <td>Provinsi faskes tujuan rujukan</td>\n    </tr>\n    <tr>\n      <th>19</th>\n      <td>FKP17</td>\n      <td>21</td>\n      <td>Kabupaten/Kota faskes tujuan rujukan</td>\n    </tr>\n    <tr>\n      <th>20</th>\n      <td>FKP18</td>\n      <td>22</td>\n      <td>Kepemilikan faskes tujuan rujukan</td>\n    </tr>\n    <tr>\n      <th>21</th>\n      <td>FKP19</td>\n      <td>23</td>\n      <td>Jenis faskes tujuan rujukan</td>\n    </tr>\n    <tr>\n      <th>22</th>\n      <td>FKP20</td>\n      <td>24</td>\n      <td>Tipe faskes tujuan rujukan</td>\n    </tr>\n    <tr>\n      <th>23</th>\n      <td>FKP21</td>\n      <td>25</td>\n      <td>Poli faskes tujuan rujukan</td>\n    </tr>\n    <tr>\n      <th>24</th>\n      <td>FKP22</td>\n      <td>26</td>\n      <td>Jenis Kunjungan FKTP</td>\n    </tr>\n    <tr>\n      <th>25</th>\n      <td>FKP13Class</td>\n      <td>26</td>\n      <td>Kelas Status Pulang Peserta</td>\n    </tr>\n  </tbody>\n</table>\n</div>"
     },
     "execution_count": 9,
     "metadata": {},
     "output_type": "execute_result"
    }
   ],
   "source": [
    "columns"
   ]
  },
  {
   "cell_type": "code",
   "source": [
    "dataset['Bobot'].describe()"
   ],
   "metadata": {
    "colab": {
     "base_uri": "https://localhost:8080/"
    },
    "id": "Xuk2dEDwCAsg",
    "executionInfo": {
     "status": "ok",
     "timestamp": 1666500866323,
     "user_tz": -420,
     "elapsed": 20,
     "user": {
      "displayName": "Farhan Rahmadi Fajar",
      "userId": "10785679253509263230"
     }
    },
    "outputId": "e7d65213-0498-4e46-e5fb-57b36ca6b406"
   },
   "execution_count": 10,
   "outputs": [
    {
     "data": {
      "text/plain": "count    4.056898e+06\nmean     1.056512e+02\nstd      1.886474e+02\nmin      5.106980e-01\n25%      1.676808e+01\n50%      5.147561e+01\n75%      1.282688e+02\nmax      3.035342e+04\nName: Bobot, dtype: float64"
     },
     "execution_count": 10,
     "metadata": {},
     "output_type": "execute_result"
    }
   ]
  },
  {
   "cell_type": "markdown",
   "source": [
    "## Melakukan scaling terhadap column bobot agar data bisa seraga "
   ],
   "metadata": {
    "id": "7jyrUPxgYNZy"
   }
  },
  {
   "cell_type": "code",
   "source": [
    "dataset['Bobot'] = dataset['Bobot'] / dataset['Bobot'].max()\n",
    "dataset['Bobot']"
   ],
   "metadata": {
    "colab": {
     "base_uri": "https://localhost:8080/"
    },
    "id": "Z_XvWKSG0Tyl",
    "executionInfo": {
     "status": "ok",
     "timestamp": 1666500866837,
     "user_tz": -420,
     "elapsed": 27,
     "user": {
      "displayName": "Farhan Rahmadi Fajar",
      "userId": "10785679253509263230"
     }
    },
    "outputId": "700db5ba-a80f-4083-bfb8-ed22d39a2f7c"
   },
   "execution_count": 11,
   "outputs": [
    {
     "data": {
      "text/plain": "0          0.000661\n1          0.000087\n2          0.000035\n3          0.012016\n4          0.000035\n             ...   \n4056893    0.000469\n4056894    0.000128\n4056895    0.000202\n4056896    0.000875\n4056897    0.002911\nName: Bobot, Length: 4056898, dtype: float64"
     },
     "execution_count": 11,
     "metadata": {},
     "output_type": "execute_result"
    }
   ]
  },
  {
   "cell_type": "code",
   "source": [
    "dataset = dataset.drop(['Nomor peserta', 'Nomor keluarga', 'ID Kunjungan FKTP'], axis=1)"
   ],
   "metadata": {
    "id": "ulHCnPkw0xfj",
    "executionInfo": {
     "status": "ok",
     "timestamp": 1666500866839,
     "user_tz": -420,
     "elapsed": 15,
     "user": {
      "displayName": "Farhan Rahmadi Fajar",
      "userId": "10785679253509263230"
     }
    }
   },
   "execution_count": 12,
   "outputs": []
  },
  {
   "cell_type": "markdown",
   "source": [
    "## Merge data Provinsi FKTP dengan Label Provinsi"
   ],
   "metadata": {
    "id": "HG8V3M0dYZyT"
   }
  },
  {
   "cell_type": "code",
   "source": [
    "dataset['Provinsi FKTP'] = dataset['Provinsi FKTP'].astype(int)"
   ],
   "metadata": {
    "id": "agCfFRay2fp0",
    "executionInfo": {
     "status": "ok",
     "timestamp": 1666500866840,
     "user_tz": -420,
     "elapsed": 14,
     "user": {
      "displayName": "Farhan Rahmadi Fajar",
      "userId": "10785679253509263230"
     }
    }
   },
   "execution_count": 13,
   "outputs": []
  },
  {
   "cell_type": "code",
   "source": [
    "provinsi['value'] = provinsi['value'].astype(int)"
   ],
   "metadata": {
    "id": "WueR2_lr5kOL",
    "executionInfo": {
     "status": "ok",
     "timestamp": 1666500866841,
     "user_tz": -420,
     "elapsed": 14,
     "user": {
      "displayName": "Farhan Rahmadi Fajar",
      "userId": "10785679253509263230"
     }
    }
   },
   "execution_count": 14,
   "outputs": []
  },
  {
   "cell_type": "code",
   "source": [
    "merged_data = pd.merge(left=dataset, right=provinsi, how='inner',left_on='Provinsi FKTP',right_on='value')"
   ],
   "metadata": {
    "id": "N4dGJorsRPaR",
    "executionInfo": {
     "status": "ok",
     "timestamp": 1666500873438,
     "user_tz": -420,
     "elapsed": 6610,
     "user": {
      "displayName": "Farhan Rahmadi Fajar",
      "userId": "10785679253509263230"
     }
    }
   },
   "execution_count": 15,
   "outputs": []
  },
  {
   "cell_type": "code",
   "source": [
    "merged_data.sample(10).filter(items=['Provinsi FKTP', 'label'])"
   ],
   "metadata": {
    "colab": {
     "base_uri": "https://localhost:8080/",
     "height": 363
    },
    "id": "dl8ec_dlRtov",
    "executionInfo": {
     "status": "ok",
     "timestamp": 1666500875865,
     "user_tz": -420,
     "elapsed": 2475,
     "user": {
      "displayName": "Farhan Rahmadi Fajar",
      "userId": "10785679253509263230"
     }
    },
    "outputId": "5108406f-b5ad-4cc7-aa12-fd95044c72cf"
   },
   "execution_count": 16,
   "outputs": [
    {
     "data": {
      "text/plain": "         Provinsi FKTP               label\n3723902             74   Sulawesi Tenggara\n1910070             73    Sulawesi Selatan\n3000410             36              Banten\n1105839             33         Jawa Tengah\n2568886             12      Sumatera Utara\n3098126             36              Banten\n2187454             31         DKI Jakarta\n3432289             32          Jawa Barat\n48208               61    Kalimantan Barat\n1731354             63  Kalimantan Selatan",
      "text/html": "<div>\n<style scoped>\n    .dataframe tbody tr th:only-of-type {\n        vertical-align: middle;\n    }\n\n    .dataframe tbody tr th {\n        vertical-align: top;\n    }\n\n    .dataframe thead th {\n        text-align: right;\n    }\n</style>\n<table border=\"1\" class=\"dataframe\">\n  <thead>\n    <tr style=\"text-align: right;\">\n      <th></th>\n      <th>Provinsi FKTP</th>\n      <th>label</th>\n    </tr>\n  </thead>\n  <tbody>\n    <tr>\n      <th>3723902</th>\n      <td>74</td>\n      <td>Sulawesi Tenggara</td>\n    </tr>\n    <tr>\n      <th>1910070</th>\n      <td>73</td>\n      <td>Sulawesi Selatan</td>\n    </tr>\n    <tr>\n      <th>3000410</th>\n      <td>36</td>\n      <td>Banten</td>\n    </tr>\n    <tr>\n      <th>1105839</th>\n      <td>33</td>\n      <td>Jawa Tengah</td>\n    </tr>\n    <tr>\n      <th>2568886</th>\n      <td>12</td>\n      <td>Sumatera Utara</td>\n    </tr>\n    <tr>\n      <th>3098126</th>\n      <td>36</td>\n      <td>Banten</td>\n    </tr>\n    <tr>\n      <th>2187454</th>\n      <td>31</td>\n      <td>DKI Jakarta</td>\n    </tr>\n    <tr>\n      <th>3432289</th>\n      <td>32</td>\n      <td>Jawa Barat</td>\n    </tr>\n    <tr>\n      <th>48208</th>\n      <td>61</td>\n      <td>Kalimantan Barat</td>\n    </tr>\n    <tr>\n      <th>1731354</th>\n      <td>63</td>\n      <td>Kalimantan Selatan</td>\n    </tr>\n  </tbody>\n</table>\n</div>"
     },
     "execution_count": 16,
     "metadata": {},
     "output_type": "execute_result"
    }
   ]
  },
  {
   "cell_type": "code",
   "source": [
    "dataset['Provinsi'] = merged_data['label']\n",
    "dataset.sample(10).filter(items=['Provinsi FKTP', 'Provinsi'])"
   ],
   "metadata": {
    "colab": {
     "base_uri": "https://localhost:8080/",
     "height": 363
    },
    "id": "2vyFBTEnVXi4",
    "executionInfo": {
     "status": "ok",
     "timestamp": 1666500876444,
     "user_tz": -420,
     "elapsed": 582,
     "user": {
      "displayName": "Farhan Rahmadi Fajar",
      "userId": "10785679253509263230"
     }
    },
    "outputId": "b35214ce-f817-47ca-a3ef-7aaa3a38b823"
   },
   "execution_count": 17,
   "outputs": [
    {
     "data": {
      "text/plain": "         Provinsi FKTP          Provinsi\n3117012             18            Banten\n3293750             74        Jawa Barat\n3190453             12        Jawa Barat\n1859820             33    Sumatera Barat\n1628121             31              Riau\n3848967             11              Aceh\n2851307             21             Jambi\n748835              63     DI Yogyakarta\n1953102             32  Sulawesi Selatan\n2395325             12  Sumatera Selatan",
      "text/html": "<div>\n<style scoped>\n    .dataframe tbody tr th:only-of-type {\n        vertical-align: middle;\n    }\n\n    .dataframe tbody tr th {\n        vertical-align: top;\n    }\n\n    .dataframe thead th {\n        text-align: right;\n    }\n</style>\n<table border=\"1\" class=\"dataframe\">\n  <thead>\n    <tr style=\"text-align: right;\">\n      <th></th>\n      <th>Provinsi FKTP</th>\n      <th>Provinsi</th>\n    </tr>\n  </thead>\n  <tbody>\n    <tr>\n      <th>3117012</th>\n      <td>18</td>\n      <td>Banten</td>\n    </tr>\n    <tr>\n      <th>3293750</th>\n      <td>74</td>\n      <td>Jawa Barat</td>\n    </tr>\n    <tr>\n      <th>3190453</th>\n      <td>12</td>\n      <td>Jawa Barat</td>\n    </tr>\n    <tr>\n      <th>1859820</th>\n      <td>33</td>\n      <td>Sumatera Barat</td>\n    </tr>\n    <tr>\n      <th>1628121</th>\n      <td>31</td>\n      <td>Riau</td>\n    </tr>\n    <tr>\n      <th>3848967</th>\n      <td>11</td>\n      <td>Aceh</td>\n    </tr>\n    <tr>\n      <th>2851307</th>\n      <td>21</td>\n      <td>Jambi</td>\n    </tr>\n    <tr>\n      <th>748835</th>\n      <td>63</td>\n      <td>DI Yogyakarta</td>\n    </tr>\n    <tr>\n      <th>1953102</th>\n      <td>32</td>\n      <td>Sulawesi Selatan</td>\n    </tr>\n    <tr>\n      <th>2395325</th>\n      <td>12</td>\n      <td>Sumatera Selatan</td>\n    </tr>\n  </tbody>\n</table>\n</div>"
     },
     "execution_count": 17,
     "metadata": {},
     "output_type": "execute_result"
    }
   ]
  },
  {
   "cell_type": "markdown",
   "source": [
    "## Merge Kepemilikan FTKP dengan Label Kepemilikan"
   ],
   "metadata": {
    "id": "4ZR3pdw8YnmE"
   }
  },
  {
   "cell_type": "code",
   "source": [
    "kepemilikan['value'] = kepemilikan['value'].astype(int)\n",
    "merged_data = pd.merge(left=dataset, right=kepemilikan, how='inner',left_on='Kepemilikan FKTP',right_on='value')\n",
    "merged_data.sample(10).filter(items=['Kepemilikan FKTP', 'label'])"
   ],
   "metadata": {
    "colab": {
     "base_uri": "https://localhost:8080/",
     "height": 363
    },
    "id": "V-KaD_P7VlCq",
    "executionInfo": {
     "status": "ok",
     "timestamp": 1666500879914,
     "user_tz": -420,
     "elapsed": 3478,
     "user": {
      "displayName": "Farhan Rahmadi Fajar",
      "userId": "10785679253509263230"
     }
    },
    "outputId": "e6e63579-1fbf-4329-ca75-64511070d5a1"
   },
   "execution_count": 18,
   "outputs": [
    {
     "data": {
      "text/plain": "         Kepemilikan FKTP    label\n1435426                 3   PemKab\n1258058                 3   PemKab\n1936974                 3   PemKab\n518986                  3   PemKab\n1184453                 3   PemKab\n105426                  3   PemKab\n3090665                 9  Swasta \n2342611                 9  Swasta \n258696                  3   PemKab\n2709295                 9  Swasta ",
      "text/html": "<div>\n<style scoped>\n    .dataframe tbody tr th:only-of-type {\n        vertical-align: middle;\n    }\n\n    .dataframe tbody tr th {\n        vertical-align: top;\n    }\n\n    .dataframe thead th {\n        text-align: right;\n    }\n</style>\n<table border=\"1\" class=\"dataframe\">\n  <thead>\n    <tr style=\"text-align: right;\">\n      <th></th>\n      <th>Kepemilikan FKTP</th>\n      <th>label</th>\n    </tr>\n  </thead>\n  <tbody>\n    <tr>\n      <th>1435426</th>\n      <td>3</td>\n      <td>PemKab</td>\n    </tr>\n    <tr>\n      <th>1258058</th>\n      <td>3</td>\n      <td>PemKab</td>\n    </tr>\n    <tr>\n      <th>1936974</th>\n      <td>3</td>\n      <td>PemKab</td>\n    </tr>\n    <tr>\n      <th>518986</th>\n      <td>3</td>\n      <td>PemKab</td>\n    </tr>\n    <tr>\n      <th>1184453</th>\n      <td>3</td>\n      <td>PemKab</td>\n    </tr>\n    <tr>\n      <th>105426</th>\n      <td>3</td>\n      <td>PemKab</td>\n    </tr>\n    <tr>\n      <th>3090665</th>\n      <td>9</td>\n      <td>Swasta</td>\n    </tr>\n    <tr>\n      <th>2342611</th>\n      <td>9</td>\n      <td>Swasta</td>\n    </tr>\n    <tr>\n      <th>258696</th>\n      <td>3</td>\n      <td>PemKab</td>\n    </tr>\n    <tr>\n      <th>2709295</th>\n      <td>9</td>\n      <td>Swasta</td>\n    </tr>\n  </tbody>\n</table>\n</div>"
     },
     "execution_count": 18,
     "metadata": {},
     "output_type": "execute_result"
    }
   ]
  },
  {
   "cell_type": "code",
   "source": [
    "dataset['Kepemilikan'] = merged_data['label']\n",
    "dataset.sample(10).filter(items=['Kepemilikan FKTP', 'Kepemilikan'])"
   ],
   "metadata": {
    "colab": {
     "base_uri": "https://localhost:8080/",
     "height": 363
    },
    "id": "gbB555AvaqvU",
    "executionInfo": {
     "status": "ok",
     "timestamp": 1666500880465,
     "user_tz": -420,
     "elapsed": 554,
     "user": {
      "displayName": "Farhan Rahmadi Fajar",
      "userId": "10785679253509263230"
     }
    },
    "outputId": "f710435e-7bbd-4ca9-b790-0d19fe55d6de"
   },
   "execution_count": 19,
   "outputs": [
    {
     "data": {
      "text/plain": "         Kepemilikan FKTP Kepemilikan\n882080                  3      PemKab\n3186922                 3     Swasta \n2513335                 3     Swasta \n1315874                 3      PemKab\n10086                   3      PemKab\n1258971                 9      PemKab\n1500312                 7      PemKab\n1395768                 9      PemKab\n2989412                 3     Swasta \n3356366                 3     Swasta ",
      "text/html": "<div>\n<style scoped>\n    .dataframe tbody tr th:only-of-type {\n        vertical-align: middle;\n    }\n\n    .dataframe tbody tr th {\n        vertical-align: top;\n    }\n\n    .dataframe thead th {\n        text-align: right;\n    }\n</style>\n<table border=\"1\" class=\"dataframe\">\n  <thead>\n    <tr style=\"text-align: right;\">\n      <th></th>\n      <th>Kepemilikan FKTP</th>\n      <th>Kepemilikan</th>\n    </tr>\n  </thead>\n  <tbody>\n    <tr>\n      <th>882080</th>\n      <td>3</td>\n      <td>PemKab</td>\n    </tr>\n    <tr>\n      <th>3186922</th>\n      <td>3</td>\n      <td>Swasta</td>\n    </tr>\n    <tr>\n      <th>2513335</th>\n      <td>3</td>\n      <td>Swasta</td>\n    </tr>\n    <tr>\n      <th>1315874</th>\n      <td>3</td>\n      <td>PemKab</td>\n    </tr>\n    <tr>\n      <th>10086</th>\n      <td>3</td>\n      <td>PemKab</td>\n    </tr>\n    <tr>\n      <th>1258971</th>\n      <td>9</td>\n      <td>PemKab</td>\n    </tr>\n    <tr>\n      <th>1500312</th>\n      <td>7</td>\n      <td>PemKab</td>\n    </tr>\n    <tr>\n      <th>1395768</th>\n      <td>9</td>\n      <td>PemKab</td>\n    </tr>\n    <tr>\n      <th>2989412</th>\n      <td>3</td>\n      <td>Swasta</td>\n    </tr>\n    <tr>\n      <th>3356366</th>\n      <td>3</td>\n      <td>Swasta</td>\n    </tr>\n  </tbody>\n</table>\n</div>"
     },
     "execution_count": 19,
     "metadata": {},
     "output_type": "execute_result"
    }
   ]
  },
  {
   "cell_type": "markdown",
   "source": [
    "## Merge Jenis FKTP dengan Label Jenis"
   ],
   "metadata": {
    "id": "DUbmHK6mbITA"
   }
  },
  {
   "cell_type": "code",
   "source": [
    "jenis['value'] = jenis['value'].astype(int)\n",
    "merged_data = pd.merge(left=dataset, right=jenis, how='inner',left_on='Jenis FKTP',right_on='value')\n",
    "merged_data.sample(10).filter(items=['Jenis FKTP', 'label'])"
   ],
   "metadata": {
    "colab": {
     "base_uri": "https://localhost:8080/",
     "height": 363
    },
    "id": "v17DrKSlawwQ",
    "executionInfo": {
     "status": "ok",
     "timestamp": 1666500884823,
     "user_tz": -420,
     "elapsed": 4362,
     "user": {
      "displayName": "Farhan Rahmadi Fajar",
      "userId": "10785679253509263230"
     }
    },
    "outputId": "edb00b7a-31b8-4e40-fe3f-0d50f18f3bdb"
   },
   "execution_count": 20,
   "outputs": [
    {
     "data": {
      "text/plain": "         Jenis FKTP           label\n3856307           2  Klinik Pratama\n3518145           2  Klinik Pratama\n206326            1       Puskesmas\n2875091           2  Klinik Pratama\n2864332           2  Klinik Pratama\n13053             1       Puskesmas\n2653238           3     Dokter Umum\n3637810           2  Klinik Pratama\n1447587           1       Puskesmas\n2609273           3     Dokter Umum",
      "text/html": "<div>\n<style scoped>\n    .dataframe tbody tr th:only-of-type {\n        vertical-align: middle;\n    }\n\n    .dataframe tbody tr th {\n        vertical-align: top;\n    }\n\n    .dataframe thead th {\n        text-align: right;\n    }\n</style>\n<table border=\"1\" class=\"dataframe\">\n  <thead>\n    <tr style=\"text-align: right;\">\n      <th></th>\n      <th>Jenis FKTP</th>\n      <th>label</th>\n    </tr>\n  </thead>\n  <tbody>\n    <tr>\n      <th>3856307</th>\n      <td>2</td>\n      <td>Klinik Pratama</td>\n    </tr>\n    <tr>\n      <th>3518145</th>\n      <td>2</td>\n      <td>Klinik Pratama</td>\n    </tr>\n    <tr>\n      <th>206326</th>\n      <td>1</td>\n      <td>Puskesmas</td>\n    </tr>\n    <tr>\n      <th>2875091</th>\n      <td>2</td>\n      <td>Klinik Pratama</td>\n    </tr>\n    <tr>\n      <th>2864332</th>\n      <td>2</td>\n      <td>Klinik Pratama</td>\n    </tr>\n    <tr>\n      <th>13053</th>\n      <td>1</td>\n      <td>Puskesmas</td>\n    </tr>\n    <tr>\n      <th>2653238</th>\n      <td>3</td>\n      <td>Dokter Umum</td>\n    </tr>\n    <tr>\n      <th>3637810</th>\n      <td>2</td>\n      <td>Klinik Pratama</td>\n    </tr>\n    <tr>\n      <th>1447587</th>\n      <td>1</td>\n      <td>Puskesmas</td>\n    </tr>\n    <tr>\n      <th>2609273</th>\n      <td>3</td>\n      <td>Dokter Umum</td>\n    </tr>\n  </tbody>\n</table>\n</div>"
     },
     "execution_count": 20,
     "metadata": {},
     "output_type": "execute_result"
    }
   ]
  },
  {
   "cell_type": "code",
   "source": [
    "dataset['Jenis'] = merged_data['label']\n",
    "dataset.sample(10).filter(items=['Kepemilikan FKTP', 'Jenis'])"
   ],
   "metadata": {
    "colab": {
     "base_uri": "https://localhost:8080/",
     "height": 363
    },
    "id": "PyqNiHQccBdv",
    "executionInfo": {
     "status": "ok",
     "timestamp": 1666500885163,
     "user_tz": -420,
     "elapsed": 348,
     "user": {
      "displayName": "Farhan Rahmadi Fajar",
      "userId": "10785679253509263230"
     }
    },
    "outputId": "b2b549d1-6564-4401-976b-707a8afa492d"
   },
   "execution_count": 21,
   "outputs": [
    {
     "data": {
      "text/plain": "         Kepemilikan FKTP           Jenis\n3454357                 9  Klinik Pratama\n4018049                 3     Dokter gigi\n1938355                 9       Puskesmas\n3200500                 3  Klinik Pratama\n821751                  3       Puskesmas\n2471802                 9     Dokter Umum\n2865067                 9  Klinik Pratama\n1853702                 3       Puskesmas\n3648261                 9  Klinik Pratama\n999864                  9       Puskesmas",
      "text/html": "<div>\n<style scoped>\n    .dataframe tbody tr th:only-of-type {\n        vertical-align: middle;\n    }\n\n    .dataframe tbody tr th {\n        vertical-align: top;\n    }\n\n    .dataframe thead th {\n        text-align: right;\n    }\n</style>\n<table border=\"1\" class=\"dataframe\">\n  <thead>\n    <tr style=\"text-align: right;\">\n      <th></th>\n      <th>Kepemilikan FKTP</th>\n      <th>Jenis</th>\n    </tr>\n  </thead>\n  <tbody>\n    <tr>\n      <th>3454357</th>\n      <td>9</td>\n      <td>Klinik Pratama</td>\n    </tr>\n    <tr>\n      <th>4018049</th>\n      <td>3</td>\n      <td>Dokter gigi</td>\n    </tr>\n    <tr>\n      <th>1938355</th>\n      <td>9</td>\n      <td>Puskesmas</td>\n    </tr>\n    <tr>\n      <th>3200500</th>\n      <td>3</td>\n      <td>Klinik Pratama</td>\n    </tr>\n    <tr>\n      <th>821751</th>\n      <td>3</td>\n      <td>Puskesmas</td>\n    </tr>\n    <tr>\n      <th>2471802</th>\n      <td>9</td>\n      <td>Dokter Umum</td>\n    </tr>\n    <tr>\n      <th>2865067</th>\n      <td>9</td>\n      <td>Klinik Pratama</td>\n    </tr>\n    <tr>\n      <th>1853702</th>\n      <td>3</td>\n      <td>Puskesmas</td>\n    </tr>\n    <tr>\n      <th>3648261</th>\n      <td>9</td>\n      <td>Klinik Pratama</td>\n    </tr>\n    <tr>\n      <th>999864</th>\n      <td>9</td>\n      <td>Puskesmas</td>\n    </tr>\n  </tbody>\n</table>\n</div>"
     },
     "execution_count": 21,
     "metadata": {},
     "output_type": "execute_result"
    }
   ]
  },
  {
   "cell_type": "markdown",
   "source": [
    "##Merge Tipe FTKP dengan Label Kepemilikan"
   ],
   "metadata": {
    "id": "cMIOV-0Vcrz8"
   }
  },
  {
   "cell_type": "code",
   "source": [
    "tipe['value'] = tipe['value'].astype(int)\n",
    "merged_data = pd.merge(left=dataset, right=tipe, how='inner',left_on='Tipe FKTP',right_on='value')\n",
    "merged_data.sample(10).filter(items=['Tipe FKTP', 'label'])"
   ],
   "metadata": {
    "colab": {
     "base_uri": "https://localhost:8080/",
     "height": 363
    },
    "id": "JLKR4sUocaix",
    "executionInfo": {
     "status": "ok",
     "timestamp": 1666500890079,
     "user_tz": -420,
     "elapsed": 4920,
     "user": {
      "displayName": "Farhan Rahmadi Fajar",
      "userId": "10785679253509263230"
     }
    },
    "outputId": "68dce2c5-405d-493a-cc78-44eabdc05a04"
   },
   "execution_count": 22,
   "outputs": [
    {
     "data": {
      "text/plain": "         Tipe FKTP                      label\n3262173          3             Non Rawat Inap\n3721294          3             Non Rawat Inap\n2170771          1      Klinik Non Rawat Inap\n2070895          1      Klinik Non Rawat Inap\n3560664          3             Non Rawat Inap\n993304           2  Dokter Prakter Perorangan\n1256202          2  Dokter Prakter Perorangan\n3126463          3             Non Rawat Inap\n3877560          5          Klinik Rawat Inap\n1538075          2  Dokter Prakter Perorangan",
      "text/html": "<div>\n<style scoped>\n    .dataframe tbody tr th:only-of-type {\n        vertical-align: middle;\n    }\n\n    .dataframe tbody tr th {\n        vertical-align: top;\n    }\n\n    .dataframe thead th {\n        text-align: right;\n    }\n</style>\n<table border=\"1\" class=\"dataframe\">\n  <thead>\n    <tr style=\"text-align: right;\">\n      <th></th>\n      <th>Tipe FKTP</th>\n      <th>label</th>\n    </tr>\n  </thead>\n  <tbody>\n    <tr>\n      <th>3262173</th>\n      <td>3</td>\n      <td>Non Rawat Inap</td>\n    </tr>\n    <tr>\n      <th>3721294</th>\n      <td>3</td>\n      <td>Non Rawat Inap</td>\n    </tr>\n    <tr>\n      <th>2170771</th>\n      <td>1</td>\n      <td>Klinik Non Rawat Inap</td>\n    </tr>\n    <tr>\n      <th>2070895</th>\n      <td>1</td>\n      <td>Klinik Non Rawat Inap</td>\n    </tr>\n    <tr>\n      <th>3560664</th>\n      <td>3</td>\n      <td>Non Rawat Inap</td>\n    </tr>\n    <tr>\n      <th>993304</th>\n      <td>2</td>\n      <td>Dokter Prakter Perorangan</td>\n    </tr>\n    <tr>\n      <th>1256202</th>\n      <td>2</td>\n      <td>Dokter Prakter Perorangan</td>\n    </tr>\n    <tr>\n      <th>3126463</th>\n      <td>3</td>\n      <td>Non Rawat Inap</td>\n    </tr>\n    <tr>\n      <th>3877560</th>\n      <td>5</td>\n      <td>Klinik Rawat Inap</td>\n    </tr>\n    <tr>\n      <th>1538075</th>\n      <td>2</td>\n      <td>Dokter Prakter Perorangan</td>\n    </tr>\n  </tbody>\n</table>\n</div>"
     },
     "execution_count": 22,
     "metadata": {},
     "output_type": "execute_result"
    }
   ]
  },
  {
   "cell_type": "code",
   "source": [
    "dataset['Tipe'] = merged_data['label']\n",
    "dataset.sample(10).filter(items=['Tipe FKTP', 'Tipe'])"
   ],
   "metadata": {
    "colab": {
     "base_uri": "https://localhost:8080/",
     "height": 363
    },
    "id": "o-NJ1wToc6jy",
    "executionInfo": {
     "status": "ok",
     "timestamp": 1666500890619,
     "user_tz": -420,
     "elapsed": 544,
     "user": {
      "displayName": "Farhan Rahmadi Fajar",
      "userId": "10785679253509263230"
     }
    },
    "outputId": "13ca4f8b-8460-4505-c252-f1ae8a973d0c"
   },
   "execution_count": 23,
   "outputs": [
    {
     "data": {
      "text/plain": "         Tipe FKTP                       Tipe\n3580816          4             Non Rawat Inap\n792814           1                 Rawat Inap\n2555581          3      Klinik Non Rawat Inap\n1373368          3  Dokter Prakter Perorangan\n1986727          1      Klinik Non Rawat Inap\n1651521          1      Klinik Non Rawat Inap\n795061           1                 Rawat Inap\n324402           1                 Rawat Inap\n3135662          4             Non Rawat Inap\n2041673          1      Klinik Non Rawat Inap",
      "text/html": "<div>\n<style scoped>\n    .dataframe tbody tr th:only-of-type {\n        vertical-align: middle;\n    }\n\n    .dataframe tbody tr th {\n        vertical-align: top;\n    }\n\n    .dataframe thead th {\n        text-align: right;\n    }\n</style>\n<table border=\"1\" class=\"dataframe\">\n  <thead>\n    <tr style=\"text-align: right;\">\n      <th></th>\n      <th>Tipe FKTP</th>\n      <th>Tipe</th>\n    </tr>\n  </thead>\n  <tbody>\n    <tr>\n      <th>3580816</th>\n      <td>4</td>\n      <td>Non Rawat Inap</td>\n    </tr>\n    <tr>\n      <th>792814</th>\n      <td>1</td>\n      <td>Rawat Inap</td>\n    </tr>\n    <tr>\n      <th>2555581</th>\n      <td>3</td>\n      <td>Klinik Non Rawat Inap</td>\n    </tr>\n    <tr>\n      <th>1373368</th>\n      <td>3</td>\n      <td>Dokter Prakter Perorangan</td>\n    </tr>\n    <tr>\n      <th>1986727</th>\n      <td>1</td>\n      <td>Klinik Non Rawat Inap</td>\n    </tr>\n    <tr>\n      <th>1651521</th>\n      <td>1</td>\n      <td>Klinik Non Rawat Inap</td>\n    </tr>\n    <tr>\n      <th>795061</th>\n      <td>1</td>\n      <td>Rawat Inap</td>\n    </tr>\n    <tr>\n      <th>324402</th>\n      <td>1</td>\n      <td>Rawat Inap</td>\n    </tr>\n    <tr>\n      <th>3135662</th>\n      <td>4</td>\n      <td>Non Rawat Inap</td>\n    </tr>\n    <tr>\n      <th>2041673</th>\n      <td>1</td>\n      <td>Klinik Non Rawat Inap</td>\n    </tr>\n  </tbody>\n</table>\n</div>"
     },
     "execution_count": 23,
     "metadata": {},
     "output_type": "execute_result"
    }
   ]
  },
  {
   "cell_type": "markdown",
   "source": [
    "## Merge Tingkat Pelayanan FTKP dengan Label Tingkat Pelayanan"
   ],
   "metadata": {
    "id": "0M3rZuu6dWsU"
   }
  },
  {
   "cell_type": "code",
   "source": [
    "tingkat_pelayanan['value'] = tingkat_pelayanan['value'].astype(int)\n",
    "merged_data = pd.merge(left=dataset, right=tingkat_pelayanan, how='inner',left_on='Tingkat Pelayanan FKTP',right_on='value')\n",
    "merged_data.sample(10).filter(items=['Tingkat Pelayanan FKTP', 'label'])"
   ],
   "metadata": {
    "colab": {
     "base_uri": "https://localhost:8080/",
     "height": 363
    },
    "id": "65bsNR87eEFz",
    "executionInfo": {
     "status": "ok",
     "timestamp": 1666500894392,
     "user_tz": -420,
     "elapsed": 3777,
     "user": {
      "displayName": "Farhan Rahmadi Fajar",
      "userId": "10785679253509263230"
     }
    },
    "outputId": "7b8c5511-fe00-4d07-ccde-ed3762fc881b"
   },
   "execution_count": 24,
   "outputs": [
    {
     "data": {
      "text/plain": "         Tingkat Pelayanan FKTP label\n1955419                       1  RJTP\n1417192                       1  RJTP\n3144137                       1  RJTP\n2328062                       1  RJTP\n3042643                       1  RJTP\n2429807                       1  RJTP\n2770378                       1  RJTP\n118122                        1  RJTP\n2258672                       1  RJTP\n3424688                       1  RJTP",
      "text/html": "<div>\n<style scoped>\n    .dataframe tbody tr th:only-of-type {\n        vertical-align: middle;\n    }\n\n    .dataframe tbody tr th {\n        vertical-align: top;\n    }\n\n    .dataframe thead th {\n        text-align: right;\n    }\n</style>\n<table border=\"1\" class=\"dataframe\">\n  <thead>\n    <tr style=\"text-align: right;\">\n      <th></th>\n      <th>Tingkat Pelayanan FKTP</th>\n      <th>label</th>\n    </tr>\n  </thead>\n  <tbody>\n    <tr>\n      <th>1955419</th>\n      <td>1</td>\n      <td>RJTP</td>\n    </tr>\n    <tr>\n      <th>1417192</th>\n      <td>1</td>\n      <td>RJTP</td>\n    </tr>\n    <tr>\n      <th>3144137</th>\n      <td>1</td>\n      <td>RJTP</td>\n    </tr>\n    <tr>\n      <th>2328062</th>\n      <td>1</td>\n      <td>RJTP</td>\n    </tr>\n    <tr>\n      <th>3042643</th>\n      <td>1</td>\n      <td>RJTP</td>\n    </tr>\n    <tr>\n      <th>2429807</th>\n      <td>1</td>\n      <td>RJTP</td>\n    </tr>\n    <tr>\n      <th>2770378</th>\n      <td>1</td>\n      <td>RJTP</td>\n    </tr>\n    <tr>\n      <th>118122</th>\n      <td>1</td>\n      <td>RJTP</td>\n    </tr>\n    <tr>\n      <th>2258672</th>\n      <td>1</td>\n      <td>RJTP</td>\n    </tr>\n    <tr>\n      <th>3424688</th>\n      <td>1</td>\n      <td>RJTP</td>\n    </tr>\n  </tbody>\n</table>\n</div>"
     },
     "execution_count": 24,
     "metadata": {},
     "output_type": "execute_result"
    }
   ]
  },
  {
   "cell_type": "code",
   "source": [
    "dataset['Tingkat Pelayanan'] = merged_data['label']\n",
    "dataset.sample(10).filter(items=['Tingkat Pelayanan FKTP', 'Tingkat Pelayanan'])"
   ],
   "metadata": {
    "colab": {
     "base_uri": "https://localhost:8080/",
     "height": 363
    },
    "id": "NduIWjgfecrR",
    "executionInfo": {
     "status": "ok",
     "timestamp": 1666500894914,
     "user_tz": -420,
     "elapsed": 530,
     "user": {
      "displayName": "Farhan Rahmadi Fajar",
      "userId": "10785679253509263230"
     }
    },
    "outputId": "8303c394-ada2-43de-ea93-f7466ebfaa9c"
   },
   "execution_count": 25,
   "outputs": [
    {
     "data": {
      "text/plain": "         Tingkat Pelayanan FKTP Tingkat Pelayanan\n999957                        1              RJTP\n195174                        1              RJTP\n2859183                       1              RJTP\n1114703                       1              RJTP\n226793                        1              RJTP\n2204701                       1              RJTP\n948708                        1              RJTP\n3395091                       1              RJTP\n1316368                       1              RJTP\n2063165                       1              RJTP",
      "text/html": "<div>\n<style scoped>\n    .dataframe tbody tr th:only-of-type {\n        vertical-align: middle;\n    }\n\n    .dataframe tbody tr th {\n        vertical-align: top;\n    }\n\n    .dataframe thead th {\n        text-align: right;\n    }\n</style>\n<table border=\"1\" class=\"dataframe\">\n  <thead>\n    <tr style=\"text-align: right;\">\n      <th></th>\n      <th>Tingkat Pelayanan FKTP</th>\n      <th>Tingkat Pelayanan</th>\n    </tr>\n  </thead>\n  <tbody>\n    <tr>\n      <th>999957</th>\n      <td>1</td>\n      <td>RJTP</td>\n    </tr>\n    <tr>\n      <th>195174</th>\n      <td>1</td>\n      <td>RJTP</td>\n    </tr>\n    <tr>\n      <th>2859183</th>\n      <td>1</td>\n      <td>RJTP</td>\n    </tr>\n    <tr>\n      <th>1114703</th>\n      <td>1</td>\n      <td>RJTP</td>\n    </tr>\n    <tr>\n      <th>226793</th>\n      <td>1</td>\n      <td>RJTP</td>\n    </tr>\n    <tr>\n      <th>2204701</th>\n      <td>1</td>\n      <td>RJTP</td>\n    </tr>\n    <tr>\n      <th>948708</th>\n      <td>1</td>\n      <td>RJTP</td>\n    </tr>\n    <tr>\n      <th>3395091</th>\n      <td>1</td>\n      <td>RJTP</td>\n    </tr>\n    <tr>\n      <th>1316368</th>\n      <td>1</td>\n      <td>RJTP</td>\n    </tr>\n    <tr>\n      <th>2063165</th>\n      <td>1</td>\n      <td>RJTP</td>\n    </tr>\n  </tbody>\n</table>\n</div>"
     },
     "execution_count": 25,
     "metadata": {},
     "output_type": "execute_result"
    }
   ]
  },
  {
   "cell_type": "markdown",
   "source": [
    "## Merge Jenis Poli FTKP dengan Label Jenis Poli"
   ],
   "metadata": {
    "collapsed": false
   }
  },
  {
   "cell_type": "code",
   "source": [
    "jenis_poli['value'] = jenis_poli['value'].astype(int)\n",
    "merged_data = pd.merge(left=dataset, right=jenis_poli, how='inner',left_on='Jenis Poli FKTP',right_on='value')\n",
    "merged_data.sample(10).filter(items=['Tingkat Pelayanan FKTP', 'label'])"
   ],
   "metadata": {
    "colab": {
     "base_uri": "https://localhost:8080/",
     "height": 363
    },
    "id": "Ys-sGAXue4yZ",
    "executionInfo": {
     "status": "ok",
     "timestamp": 1666500900402,
     "user_tz": -420,
     "elapsed": 5490,
     "user": {
      "displayName": "Farhan Rahmadi Fajar",
      "userId": "10785679253509263230"
     }
    },
    "outputId": "1de8e98d-bb4d-4b14-c4cc-7047fd372268"
   },
   "execution_count": 26,
   "outputs": [
    {
     "data": {
      "text/plain": "         Tingkat Pelayanan FKTP              label\n1175129                       1          POLI UMUM\n1616067                       1          POLI UMUM\n72512                         1         Home-Visit\n4013523                       1            POLI KB\n3568710                       1          Konseling\n1112775                       1          POLI UMUM\n270246                        1         Home-Visit\n375584                        1         Home-Visit\n3845858                       1  POLI GIGI & MULUT\n3266714                       1          Konseling",
      "text/html": "<div>\n<style scoped>\n    .dataframe tbody tr th:only-of-type {\n        vertical-align: middle;\n    }\n\n    .dataframe tbody tr th {\n        vertical-align: top;\n    }\n\n    .dataframe thead th {\n        text-align: right;\n    }\n</style>\n<table border=\"1\" class=\"dataframe\">\n  <thead>\n    <tr style=\"text-align: right;\">\n      <th></th>\n      <th>Tingkat Pelayanan FKTP</th>\n      <th>label</th>\n    </tr>\n  </thead>\n  <tbody>\n    <tr>\n      <th>1175129</th>\n      <td>1</td>\n      <td>POLI UMUM</td>\n    </tr>\n    <tr>\n      <th>1616067</th>\n      <td>1</td>\n      <td>POLI UMUM</td>\n    </tr>\n    <tr>\n      <th>72512</th>\n      <td>1</td>\n      <td>Home-Visit</td>\n    </tr>\n    <tr>\n      <th>4013523</th>\n      <td>1</td>\n      <td>POLI KB</td>\n    </tr>\n    <tr>\n      <th>3568710</th>\n      <td>1</td>\n      <td>Konseling</td>\n    </tr>\n    <tr>\n      <th>1112775</th>\n      <td>1</td>\n      <td>POLI UMUM</td>\n    </tr>\n    <tr>\n      <th>270246</th>\n      <td>1</td>\n      <td>Home-Visit</td>\n    </tr>\n    <tr>\n      <th>375584</th>\n      <td>1</td>\n      <td>Home-Visit</td>\n    </tr>\n    <tr>\n      <th>3845858</th>\n      <td>1</td>\n      <td>POLI GIGI &amp; MULUT</td>\n    </tr>\n    <tr>\n      <th>3266714</th>\n      <td>1</td>\n      <td>Konseling</td>\n    </tr>\n  </tbody>\n</table>\n</div>"
     },
     "execution_count": 26,
     "metadata": {},
     "output_type": "execute_result"
    }
   ]
  },
  {
   "cell_type": "code",
   "source": [
    "dataset['Jenis Poli'] = merged_data['label']\n",
    "dataset.sample(10).filter(items=['Tingkat Pelayanan FKTP', 'Jenis Poli'])"
   ],
   "metadata": {
    "colab": {
     "base_uri": "https://localhost:8080/",
     "height": 363
    },
    "id": "NG68enaMfqy_",
    "executionInfo": {
     "status": "ok",
     "timestamp": 1666500901587,
     "user_tz": -420,
     "elapsed": 1196,
     "user": {
      "displayName": "Farhan Rahmadi Fajar",
      "userId": "10785679253509263230"
     }
    },
    "outputId": "bdbf2855-96e1-40a1-9112-f0774f7ecda6"
   },
   "execution_count": 27,
   "outputs": [
    {
     "data": {
      "text/plain": "         Tingkat Pelayanan FKTP         Jenis Poli\n166797                        1         Home-Visit\n1542407                       1          POLI UMUM\n568467                        1          POLI UMUM\n1065275                       1          POLI UMUM\n1731753                       1          POLI UMUM\n1078366                       1          POLI UMUM\n3854660                       1  POLI GIGI & MULUT\n2320728                       1          POLI UMUM\n87196                         1         Home-Visit\n3114935                       1          Konseling",
      "text/html": "<div>\n<style scoped>\n    .dataframe tbody tr th:only-of-type {\n        vertical-align: middle;\n    }\n\n    .dataframe tbody tr th {\n        vertical-align: top;\n    }\n\n    .dataframe thead th {\n        text-align: right;\n    }\n</style>\n<table border=\"1\" class=\"dataframe\">\n  <thead>\n    <tr style=\"text-align: right;\">\n      <th></th>\n      <th>Tingkat Pelayanan FKTP</th>\n      <th>Jenis Poli</th>\n    </tr>\n  </thead>\n  <tbody>\n    <tr>\n      <th>166797</th>\n      <td>1</td>\n      <td>Home-Visit</td>\n    </tr>\n    <tr>\n      <th>1542407</th>\n      <td>1</td>\n      <td>POLI UMUM</td>\n    </tr>\n    <tr>\n      <th>568467</th>\n      <td>1</td>\n      <td>POLI UMUM</td>\n    </tr>\n    <tr>\n      <th>1065275</th>\n      <td>1</td>\n      <td>POLI UMUM</td>\n    </tr>\n    <tr>\n      <th>1731753</th>\n      <td>1</td>\n      <td>POLI UMUM</td>\n    </tr>\n    <tr>\n      <th>1078366</th>\n      <td>1</td>\n      <td>POLI UMUM</td>\n    </tr>\n    <tr>\n      <th>3854660</th>\n      <td>1</td>\n      <td>POLI GIGI &amp; MULUT</td>\n    </tr>\n    <tr>\n      <th>2320728</th>\n      <td>1</td>\n      <td>POLI UMUM</td>\n    </tr>\n    <tr>\n      <th>87196</th>\n      <td>1</td>\n      <td>Home-Visit</td>\n    </tr>\n    <tr>\n      <th>3114935</th>\n      <td>1</td>\n      <td>Konseling</td>\n    </tr>\n  </tbody>\n</table>\n</div>"
     },
     "execution_count": 27,
     "metadata": {},
     "output_type": "execute_result"
    }
   ]
  },
  {
   "cell_type": "markdown",
   "source": [
    "## Merge Segmen Peserta saat akses layanan FKTP dengan Label Segmen Peserta saat akses layanan FKTP"
   ],
   "metadata": {
    "id": "lNqxyKUvgFkj"
   }
  },
  {
   "cell_type": "code",
   "source": [
    "segmen_perkerjaan['value'] = segmen_perkerjaan['value'].astype(int)\n",
    "merged_data = pd.merge(left=dataset, right=segmen_perkerjaan, how='inner',left_on='Segmen Peserta saat akses layanan FKTP',right_on='value')\n",
    "merged_data.sample(10).filter(items=['Segmen Peserta saat akses layanan FKTP', 'label'])"
   ],
   "metadata": {
    "colab": {
     "base_uri": "https://localhost:8080/",
     "height": 363
    },
    "id": "NhN2NWVGgIj3",
    "executionInfo": {
     "status": "ok",
     "timestamp": 1666500906859,
     "user_tz": -420,
     "elapsed": 5275,
     "user": {
      "displayName": "Farhan Rahmadi Fajar",
      "userId": "10785679253509263230"
     }
    },
    "outputId": "53490012-8816-478d-bda0-aa91b6379fa0"
   },
   "execution_count": 28,
   "outputs": [
    {
     "data": {
      "text/plain": "         Segmen Peserta saat akses layanan FKTP          label\n3535191                                       1  Bukan pekerja\n2418563                                       5           PPU \n2137535                                       5           PPU \n3934139                                       3       PBI APBD\n1248283                                       2       PBI APBN\n2858732                                       5           PPU \n531124                                        2       PBI APBN\n3325068                                       5           PPU \n751494                                        2       PBI APBN\n3710740                                       3       PBI APBD",
      "text/html": "<div>\n<style scoped>\n    .dataframe tbody tr th:only-of-type {\n        vertical-align: middle;\n    }\n\n    .dataframe tbody tr th {\n        vertical-align: top;\n    }\n\n    .dataframe thead th {\n        text-align: right;\n    }\n</style>\n<table border=\"1\" class=\"dataframe\">\n  <thead>\n    <tr style=\"text-align: right;\">\n      <th></th>\n      <th>Segmen Peserta saat akses layanan FKTP</th>\n      <th>label</th>\n    </tr>\n  </thead>\n  <tbody>\n    <tr>\n      <th>3535191</th>\n      <td>1</td>\n      <td>Bukan pekerja</td>\n    </tr>\n    <tr>\n      <th>2418563</th>\n      <td>5</td>\n      <td>PPU</td>\n    </tr>\n    <tr>\n      <th>2137535</th>\n      <td>5</td>\n      <td>PPU</td>\n    </tr>\n    <tr>\n      <th>3934139</th>\n      <td>3</td>\n      <td>PBI APBD</td>\n    </tr>\n    <tr>\n      <th>1248283</th>\n      <td>2</td>\n      <td>PBI APBN</td>\n    </tr>\n    <tr>\n      <th>2858732</th>\n      <td>5</td>\n      <td>PPU</td>\n    </tr>\n    <tr>\n      <th>531124</th>\n      <td>2</td>\n      <td>PBI APBN</td>\n    </tr>\n    <tr>\n      <th>3325068</th>\n      <td>5</td>\n      <td>PPU</td>\n    </tr>\n    <tr>\n      <th>751494</th>\n      <td>2</td>\n      <td>PBI APBN</td>\n    </tr>\n    <tr>\n      <th>3710740</th>\n      <td>3</td>\n      <td>PBI APBD</td>\n    </tr>\n  </tbody>\n</table>\n</div>"
     },
     "execution_count": 28,
     "metadata": {},
     "output_type": "execute_result"
    }
   ]
  },
  {
   "cell_type": "code",
   "source": [
    "dataset['Segemen Akses'] = merged_data['label']\n",
    "dataset.sample(10).filter(items=['Segmen Peserta saat akses layanan FKTP', 'Segemen Akses'])"
   ],
   "metadata": {
    "colab": {
     "base_uri": "https://localhost:8080/",
     "height": 363
    },
    "id": "U_Qa5rVjhTSY",
    "executionInfo": {
     "status": "ok",
     "timestamp": 1666500907491,
     "user_tz": -420,
     "elapsed": 644,
     "user": {
      "displayName": "Farhan Rahmadi Fajar",
      "userId": "10785679253509263230"
     }
    },
    "outputId": "26f55380-7eea-4808-9b0d-3cf55c0195ee"
   },
   "execution_count": 29,
   "outputs": [
    {
     "data": {
      "text/plain": "         Segmen Peserta saat akses layanan FKTP Segemen Akses\n2775389                                       2          PPU \n19762                                         2      PBI APBN\n1371403                                       5          PBPU\n1010644                                       2      PBI APBN\n1240053                                       5      PBI APBN\n1401377                                       5          PBPU\n119003                                        4      PBI APBN\n1943249                                       5          PBPU\n1791860                                       2          PBPU\n3051940                                       5          PPU ",
      "text/html": "<div>\n<style scoped>\n    .dataframe tbody tr th:only-of-type {\n        vertical-align: middle;\n    }\n\n    .dataframe tbody tr th {\n        vertical-align: top;\n    }\n\n    .dataframe thead th {\n        text-align: right;\n    }\n</style>\n<table border=\"1\" class=\"dataframe\">\n  <thead>\n    <tr style=\"text-align: right;\">\n      <th></th>\n      <th>Segmen Peserta saat akses layanan FKTP</th>\n      <th>Segemen Akses</th>\n    </tr>\n  </thead>\n  <tbody>\n    <tr>\n      <th>2775389</th>\n      <td>2</td>\n      <td>PPU</td>\n    </tr>\n    <tr>\n      <th>19762</th>\n      <td>2</td>\n      <td>PBI APBN</td>\n    </tr>\n    <tr>\n      <th>1371403</th>\n      <td>5</td>\n      <td>PBPU</td>\n    </tr>\n    <tr>\n      <th>1010644</th>\n      <td>2</td>\n      <td>PBI APBN</td>\n    </tr>\n    <tr>\n      <th>1240053</th>\n      <td>5</td>\n      <td>PBI APBN</td>\n    </tr>\n    <tr>\n      <th>1401377</th>\n      <td>5</td>\n      <td>PBPU</td>\n    </tr>\n    <tr>\n      <th>119003</th>\n      <td>4</td>\n      <td>PBI APBN</td>\n    </tr>\n    <tr>\n      <th>1943249</th>\n      <td>5</td>\n      <td>PBPU</td>\n    </tr>\n    <tr>\n      <th>1791860</th>\n      <td>2</td>\n      <td>PBPU</td>\n    </tr>\n    <tr>\n      <th>3051940</th>\n      <td>5</td>\n      <td>PPU</td>\n    </tr>\n  </tbody>\n</table>\n</div>"
     },
     "execution_count": 29,
     "metadata": {},
     "output_type": "execute_result"
    }
   ]
  },
  {
   "cell_type": "markdown",
   "source": [
    "## Merge Provinsi faskes tujuan rujukan Dengan Label Provinsi\n"
   ],
   "metadata": {
    "id": "hdOYA2THjYns"
   }
  },
  {
   "cell_type": "code",
   "source": [
    "dataset['Provinsi faskes tujuan rujukan'] = dataset['Provinsi faskes tujuan rujukan'].replace(98,99)\n",
    "dataset['Provinsi faskes tujuan rujukan'] "
   ],
   "metadata": {
    "colab": {
     "base_uri": "https://localhost:8080/"
    },
    "id": "SufAa11_iV4p",
    "executionInfo": {
     "status": "ok",
     "timestamp": 1666500907491,
     "user_tz": -420,
     "elapsed": 10,
     "user": {
      "displayName": "Farhan Rahmadi Fajar",
      "userId": "10785679253509263230"
     }
    },
    "outputId": "056cd37a-0f26-4155-ddc1-183d50b9f2d9"
   },
   "execution_count": 30,
   "outputs": [
    {
     "data": {
      "text/plain": "0          99\n1          99\n2          99\n3          99\n4          99\n           ..\n4056893    99\n4056894    35\n4056895    99\n4056896    99\n4056897    99\nName: Provinsi faskes tujuan rujukan, Length: 4056898, dtype: int64"
     },
     "execution_count": 30,
     "metadata": {},
     "output_type": "execute_result"
    }
   ]
  },
  {
   "cell_type": "code",
   "source": [
    "provinsi_faskes_tujuan_rujukan['value'] = provinsi_faskes_tujuan_rujukan['value'].astype(int)\n",
    "merged_data = pd.merge(left=dataset, right=provinsi_faskes_tujuan_rujukan, how='inner',left_on='Provinsi faskes tujuan rujukan',right_on='value')\n",
    "merged_data.sample(10).filter(items=['Provinsi faskes tujuan rujukan', 'label'])"
   ],
   "metadata": {
    "colab": {
     "base_uri": "https://localhost:8080/",
     "height": 363
    },
    "id": "mzTmY7aPjc7x",
    "executionInfo": {
     "status": "ok",
     "timestamp": 1666500913790,
     "user_tz": -420,
     "elapsed": 6304,
     "user": {
      "displayName": "Farhan Rahmadi Fajar",
      "userId": "10785679253509263230"
     }
    },
    "outputId": "ac0ad8eb-9896-4a19-ad4b-6f3accb21f96"
   },
   "execution_count": 31,
   "outputs": [
    {
     "data": {
      "text/plain": "         Provinsi faskes tujuan rujukan                    label\n2025969                              99  Tidak dilakukan rujukan\n2486750                              99  Tidak dilakukan rujukan\n1506783                              99  Tidak dilakukan rujukan\n1482713                              99  Tidak dilakukan rujukan\n3533766                              99  Tidak dilakukan rujukan\n2008373                              99  Tidak dilakukan rujukan\n2692576                              99  Tidak dilakukan rujukan\n2697823                              99  Tidak dilakukan rujukan\n3016443                              99  Tidak dilakukan rujukan\n3293267                              99  Tidak dilakukan rujukan",
      "text/html": "<div>\n<style scoped>\n    .dataframe tbody tr th:only-of-type {\n        vertical-align: middle;\n    }\n\n    .dataframe tbody tr th {\n        vertical-align: top;\n    }\n\n    .dataframe thead th {\n        text-align: right;\n    }\n</style>\n<table border=\"1\" class=\"dataframe\">\n  <thead>\n    <tr style=\"text-align: right;\">\n      <th></th>\n      <th>Provinsi faskes tujuan rujukan</th>\n      <th>label</th>\n    </tr>\n  </thead>\n  <tbody>\n    <tr>\n      <th>2025969</th>\n      <td>99</td>\n      <td>Tidak dilakukan rujukan</td>\n    </tr>\n    <tr>\n      <th>2486750</th>\n      <td>99</td>\n      <td>Tidak dilakukan rujukan</td>\n    </tr>\n    <tr>\n      <th>1506783</th>\n      <td>99</td>\n      <td>Tidak dilakukan rujukan</td>\n    </tr>\n    <tr>\n      <th>1482713</th>\n      <td>99</td>\n      <td>Tidak dilakukan rujukan</td>\n    </tr>\n    <tr>\n      <th>3533766</th>\n      <td>99</td>\n      <td>Tidak dilakukan rujukan</td>\n    </tr>\n    <tr>\n      <th>2008373</th>\n      <td>99</td>\n      <td>Tidak dilakukan rujukan</td>\n    </tr>\n    <tr>\n      <th>2692576</th>\n      <td>99</td>\n      <td>Tidak dilakukan rujukan</td>\n    </tr>\n    <tr>\n      <th>2697823</th>\n      <td>99</td>\n      <td>Tidak dilakukan rujukan</td>\n    </tr>\n    <tr>\n      <th>3016443</th>\n      <td>99</td>\n      <td>Tidak dilakukan rujukan</td>\n    </tr>\n    <tr>\n      <th>3293267</th>\n      <td>99</td>\n      <td>Tidak dilakukan rujukan</td>\n    </tr>\n  </tbody>\n</table>\n</div>"
     },
     "execution_count": 31,
     "metadata": {},
     "output_type": "execute_result"
    }
   ]
  },
  {
   "cell_type": "code",
   "source": [
    "merged_data.shape"
   ],
   "metadata": {
    "colab": {
     "base_uri": "https://localhost:8080/"
    },
    "id": "vRpnO0rrguQy",
    "executionInfo": {
     "status": "ok",
     "timestamp": 1666500913792,
     "user_tz": -420,
     "elapsed": 15,
     "user": {
      "displayName": "Farhan Rahmadi Fajar",
      "userId": "10785679253509263230"
     }
    },
    "outputId": "a1049c8f-d00d-4c10-e2d5-f47fb7fc8f2a"
   },
   "execution_count": 32,
   "outputs": [
    {
     "data": {
      "text/plain": "(4056898, 32)"
     },
     "execution_count": 32,
     "metadata": {},
     "output_type": "execute_result"
    }
   ]
  },
  {
   "cell_type": "code",
   "source": [
    "dataset['Provinsi faskes tujuan rujukan label'] = merged_data['label']\n",
    "dataset.sample(10).filter(items=['Provinsi faskes tujuan rujukan label', 'Provinsi faskes tujuan rujukan label'])"
   ],
   "metadata": {
    "colab": {
     "base_uri": "https://localhost:8080/",
     "height": 363
    },
    "id": "BYhKMg_ujtcs",
    "executionInfo": {
     "status": "ok",
     "timestamp": 1666500914919,
     "user_tz": -420,
     "elapsed": 1136,
     "user": {
      "displayName": "Farhan Rahmadi Fajar",
      "userId": "10785679253509263230"
     }
    },
    "outputId": "dbaa2de9-6b92-4a20-f2bc-53b4036a41ff"
   },
   "execution_count": 33,
   "outputs": [
    {
     "data": {
      "text/plain": "        Provinsi faskes tujuan rujukan label  \\\n1497891              Tidak dilakukan rujukan   \n3558698              Tidak dilakukan rujukan   \n424876               Tidak dilakukan rujukan   \n2446030              Tidak dilakukan rujukan   \n853175               Tidak dilakukan rujukan   \n2648674              Tidak dilakukan rujukan   \n165081               Tidak dilakukan rujukan   \n2616123              Tidak dilakukan rujukan   \n3599058              Tidak dilakukan rujukan   \n1567982              Tidak dilakukan rujukan   \n\n        Provinsi faskes tujuan rujukan label  \n1497891              Tidak dilakukan rujukan  \n3558698              Tidak dilakukan rujukan  \n424876               Tidak dilakukan rujukan  \n2446030              Tidak dilakukan rujukan  \n853175               Tidak dilakukan rujukan  \n2648674              Tidak dilakukan rujukan  \n165081               Tidak dilakukan rujukan  \n2616123              Tidak dilakukan rujukan  \n3599058              Tidak dilakukan rujukan  \n1567982              Tidak dilakukan rujukan  ",
      "text/html": "<div>\n<style scoped>\n    .dataframe tbody tr th:only-of-type {\n        vertical-align: middle;\n    }\n\n    .dataframe tbody tr th {\n        vertical-align: top;\n    }\n\n    .dataframe thead th {\n        text-align: right;\n    }\n</style>\n<table border=\"1\" class=\"dataframe\">\n  <thead>\n    <tr style=\"text-align: right;\">\n      <th></th>\n      <th>Provinsi faskes tujuan rujukan label</th>\n      <th>Provinsi faskes tujuan rujukan label</th>\n    </tr>\n  </thead>\n  <tbody>\n    <tr>\n      <th>1497891</th>\n      <td>Tidak dilakukan rujukan</td>\n      <td>Tidak dilakukan rujukan</td>\n    </tr>\n    <tr>\n      <th>3558698</th>\n      <td>Tidak dilakukan rujukan</td>\n      <td>Tidak dilakukan rujukan</td>\n    </tr>\n    <tr>\n      <th>424876</th>\n      <td>Tidak dilakukan rujukan</td>\n      <td>Tidak dilakukan rujukan</td>\n    </tr>\n    <tr>\n      <th>2446030</th>\n      <td>Tidak dilakukan rujukan</td>\n      <td>Tidak dilakukan rujukan</td>\n    </tr>\n    <tr>\n      <th>853175</th>\n      <td>Tidak dilakukan rujukan</td>\n      <td>Tidak dilakukan rujukan</td>\n    </tr>\n    <tr>\n      <th>2648674</th>\n      <td>Tidak dilakukan rujukan</td>\n      <td>Tidak dilakukan rujukan</td>\n    </tr>\n    <tr>\n      <th>165081</th>\n      <td>Tidak dilakukan rujukan</td>\n      <td>Tidak dilakukan rujukan</td>\n    </tr>\n    <tr>\n      <th>2616123</th>\n      <td>Tidak dilakukan rujukan</td>\n      <td>Tidak dilakukan rujukan</td>\n    </tr>\n    <tr>\n      <th>3599058</th>\n      <td>Tidak dilakukan rujukan</td>\n      <td>Tidak dilakukan rujukan</td>\n    </tr>\n    <tr>\n      <th>1567982</th>\n      <td>Tidak dilakukan rujukan</td>\n      <td>Tidak dilakukan rujukan</td>\n    </tr>\n  </tbody>\n</table>\n</div>"
     },
     "execution_count": 33,
     "metadata": {},
     "output_type": "execute_result"
    }
   ]
  },
  {
   "cell_type": "markdown",
   "source": [
    "## Merge Kepemilikan faskes tujuan rujukan Dengan Label Kepemilikan faskes tujuan rujukan"
   ],
   "metadata": {
    "id": "OG8km4-fkD2t"
   }
  },
  {
   "cell_type": "code",
   "source": [
    "dataset['Kepemilikan faskes tujuan rujukan'].value_counts()"
   ],
   "metadata": {
    "colab": {
     "base_uri": "https://localhost:8080/"
    },
    "id": "oQ825G3Dmyqb",
    "executionInfo": {
     "status": "ok",
     "timestamp": 1666500914921,
     "user_tz": -420,
     "elapsed": 19,
     "user": {
      "displayName": "Farhan Rahmadi Fajar",
      "userId": "10785679253509263230"
     }
    },
    "outputId": "2227aa64-d27d-45cc-c712-e14474ea21a3"
   },
   "execution_count": 34,
   "outputs": [
    {
     "data": {
      "text/plain": "98    3677528\n9      208800\n3      117312\n2       16614\n5       13834\n4        8464\n8        7550\n7        2329\n1        2244\n6        2223\nName: Kepemilikan faskes tujuan rujukan, dtype: int64"
     },
     "execution_count": 34,
     "metadata": {},
     "output_type": "execute_result"
    }
   ]
  },
  {
   "cell_type": "code",
   "source": [
    "kepemilikan['value'] = kepemilikan['value'].astype(int)\n",
    "merged_data = pd.merge(left=dataset, right=kepemilikan, how='left',left_on='Kepemilikan faskes tujuan rujukan',right_on='value')\n",
    "merged_data.sample(10).filter(items=['Kepemilikan faskes tujuan rujukan', 'label'])"
   ],
   "metadata": {
    "colab": {
     "base_uri": "https://localhost:8080/",
     "height": 363
    },
    "id": "cckXsPBbkaug",
    "executionInfo": {
     "status": "ok",
     "timestamp": 1666500919118,
     "user_tz": -420,
     "elapsed": 4211,
     "user": {
      "displayName": "Farhan Rahmadi Fajar",
      "userId": "10785679253509263230"
     }
    },
    "outputId": "2b909442-51e6-4060-ddd4-21c3b7c82efb"
   },
   "execution_count": 35,
   "outputs": [
    {
     "data": {
      "text/plain": "         Kepemilikan faskes tujuan rujukan   label\n1223345                                  3  PemKab\n1630642                                 98     NaN\n2662303                                 98     NaN\n3112403                                 98     NaN\n2326546                                 98     NaN\n1431363                                 98     NaN\n2823716                                 98     NaN\n1069181                                 98     NaN\n70637                                   98     NaN\n2553736                                 98     NaN",
      "text/html": "<div>\n<style scoped>\n    .dataframe tbody tr th:only-of-type {\n        vertical-align: middle;\n    }\n\n    .dataframe tbody tr th {\n        vertical-align: top;\n    }\n\n    .dataframe thead th {\n        text-align: right;\n    }\n</style>\n<table border=\"1\" class=\"dataframe\">\n  <thead>\n    <tr style=\"text-align: right;\">\n      <th></th>\n      <th>Kepemilikan faskes tujuan rujukan</th>\n      <th>label</th>\n    </tr>\n  </thead>\n  <tbody>\n    <tr>\n      <th>1223345</th>\n      <td>3</td>\n      <td>PemKab</td>\n    </tr>\n    <tr>\n      <th>1630642</th>\n      <td>98</td>\n      <td>NaN</td>\n    </tr>\n    <tr>\n      <th>2662303</th>\n      <td>98</td>\n      <td>NaN</td>\n    </tr>\n    <tr>\n      <th>3112403</th>\n      <td>98</td>\n      <td>NaN</td>\n    </tr>\n    <tr>\n      <th>2326546</th>\n      <td>98</td>\n      <td>NaN</td>\n    </tr>\n    <tr>\n      <th>1431363</th>\n      <td>98</td>\n      <td>NaN</td>\n    </tr>\n    <tr>\n      <th>2823716</th>\n      <td>98</td>\n      <td>NaN</td>\n    </tr>\n    <tr>\n      <th>1069181</th>\n      <td>98</td>\n      <td>NaN</td>\n    </tr>\n    <tr>\n      <th>70637</th>\n      <td>98</td>\n      <td>NaN</td>\n    </tr>\n    <tr>\n      <th>2553736</th>\n      <td>98</td>\n      <td>NaN</td>\n    </tr>\n  </tbody>\n</table>\n</div>"
     },
     "execution_count": 35,
     "metadata": {},
     "output_type": "execute_result"
    }
   ]
  },
  {
   "cell_type": "code",
   "source": [
    "merged_data['label'] = merged_data['label'].fillna('Tidak dirujuk')\n",
    "merged_data['label'].isnull().sum()"
   ],
   "metadata": {
    "colab": {
     "base_uri": "https://localhost:8080/"
    },
    "id": "9mhO9t9cnjH2",
    "executionInfo": {
     "status": "ok",
     "timestamp": 1666500919666,
     "user_tz": -420,
     "elapsed": 556,
     "user": {
      "displayName": "Farhan Rahmadi Fajar",
      "userId": "10785679253509263230"
     }
    },
    "outputId": "61082d25-beac-41dd-81a3-e6cf42474b01"
   },
   "execution_count": 36,
   "outputs": [
    {
     "data": {
      "text/plain": "0"
     },
     "execution_count": 36,
     "metadata": {},
     "output_type": "execute_result"
    }
   ]
  },
  {
   "cell_type": "code",
   "source": [
    "dataset['Kepemilikan faskes tujuan rujukan label'] = merged_data['label']\n",
    "dataset.sample(10).filter(items=['Kepemilikan faskes tujuan rujukan', 'Kepemilikan faskes tujuan rujukan label'])"
   ],
   "metadata": {
    "colab": {
     "base_uri": "https://localhost:8080/",
     "height": 363
    },
    "id": "Qc7blbkLklut",
    "executionInfo": {
     "status": "ok",
     "timestamp": 1666500920555,
     "user_tz": -420,
     "elapsed": 891,
     "user": {
      "displayName": "Farhan Rahmadi Fajar",
      "userId": "10785679253509263230"
     }
    },
    "outputId": "6d48ace6-20f2-46b5-f3ac-5ffb26b8bfb2"
   },
   "execution_count": 37,
   "outputs": [
    {
     "data": {
      "text/plain": "         Kepemilikan faskes tujuan rujukan  \\\n1513717                                 98   \n662598                                  98   \n2369694                                 98   \n2217673                                 98   \n594441                                  98   \n3579751                                  3   \n2022491                                  3   \n1842092                                 98   \n334661                                  98   \n3185243                                 98   \n\n        Kepemilikan faskes tujuan rujukan label  \n1513717                           Tidak dirujuk  \n662598                            Tidak dirujuk  \n2369694                           Tidak dirujuk  \n2217673                           Tidak dirujuk  \n594441                            Tidak dirujuk  \n3579751                                  PemKab  \n2022491                                  PemKab  \n1842092                           Tidak dirujuk  \n334661                            Tidak dirujuk  \n3185243                           Tidak dirujuk  ",
      "text/html": "<div>\n<style scoped>\n    .dataframe tbody tr th:only-of-type {\n        vertical-align: middle;\n    }\n\n    .dataframe tbody tr th {\n        vertical-align: top;\n    }\n\n    .dataframe thead th {\n        text-align: right;\n    }\n</style>\n<table border=\"1\" class=\"dataframe\">\n  <thead>\n    <tr style=\"text-align: right;\">\n      <th></th>\n      <th>Kepemilikan faskes tujuan rujukan</th>\n      <th>Kepemilikan faskes tujuan rujukan label</th>\n    </tr>\n  </thead>\n  <tbody>\n    <tr>\n      <th>1513717</th>\n      <td>98</td>\n      <td>Tidak dirujuk</td>\n    </tr>\n    <tr>\n      <th>662598</th>\n      <td>98</td>\n      <td>Tidak dirujuk</td>\n    </tr>\n    <tr>\n      <th>2369694</th>\n      <td>98</td>\n      <td>Tidak dirujuk</td>\n    </tr>\n    <tr>\n      <th>2217673</th>\n      <td>98</td>\n      <td>Tidak dirujuk</td>\n    </tr>\n    <tr>\n      <th>594441</th>\n      <td>98</td>\n      <td>Tidak dirujuk</td>\n    </tr>\n    <tr>\n      <th>3579751</th>\n      <td>3</td>\n      <td>PemKab</td>\n    </tr>\n    <tr>\n      <th>2022491</th>\n      <td>3</td>\n      <td>PemKab</td>\n    </tr>\n    <tr>\n      <th>1842092</th>\n      <td>98</td>\n      <td>Tidak dirujuk</td>\n    </tr>\n    <tr>\n      <th>334661</th>\n      <td>98</td>\n      <td>Tidak dirujuk</td>\n    </tr>\n    <tr>\n      <th>3185243</th>\n      <td>98</td>\n      <td>Tidak dirujuk</td>\n    </tr>\n  </tbody>\n</table>\n</div>"
     },
     "execution_count": 37,
     "metadata": {},
     "output_type": "execute_result"
    }
   ]
  },
  {
   "cell_type": "markdown",
   "source": [
    "## Merge Jenis faskes tujuan rujukan Dengan Label Jenis faskes tujuan rujukan Label"
   ],
   "metadata": {
    "id": "Gv6SXQjipOnA"
   }
  },
  {
   "cell_type": "code",
   "source": [
    "jenis_faskes_tujuan_rujukan['value'] = jenis_faskes_tujuan_rujukan['value'].astype(int)\n",
    "merged_data = pd.merge(left=dataset, right=jenis_faskes_tujuan_rujukan, how='left',left_on='Jenis faskes tujuan rujukan',right_on='value')\n",
    "merged_data.sample(10).filter(items=['Jenis faskes tujuan rujukan', 'label'])"
   ],
   "metadata": {
    "colab": {
     "base_uri": "https://localhost:8080/",
     "height": 363
    },
    "id": "SuiZfek3pcLs",
    "executionInfo": {
     "status": "ok",
     "timestamp": 1666500925455,
     "user_tz": -420,
     "elapsed": 4906,
     "user": {
      "displayName": "Farhan Rahmadi Fajar",
      "userId": "10785679253509263230"
     }
    },
    "outputId": "3878be00-dd5f-4a77-f1bc-3b1e3c85e709"
   },
   "execution_count": 38,
   "outputs": [
    {
     "data": {
      "text/plain": "         Jenis faskes tujuan rujukan          label\n1486226                           98  Tidak dirujuk\n1938693                           98  Tidak dirujuk\n1911095                           98  Tidak dirujuk\n131608                            98  Tidak dirujuk\n212359                            98  Tidak dirujuk\n2764015                           98  Tidak dirujuk\n1568427                           98  Tidak dirujuk\n3281350                           98  Tidak dirujuk\n1535839                           98  Tidak dirujuk\n2190827                           98  Tidak dirujuk",
      "text/html": "<div>\n<style scoped>\n    .dataframe tbody tr th:only-of-type {\n        vertical-align: middle;\n    }\n\n    .dataframe tbody tr th {\n        vertical-align: top;\n    }\n\n    .dataframe thead th {\n        text-align: right;\n    }\n</style>\n<table border=\"1\" class=\"dataframe\">\n  <thead>\n    <tr style=\"text-align: right;\">\n      <th></th>\n      <th>Jenis faskes tujuan rujukan</th>\n      <th>label</th>\n    </tr>\n  </thead>\n  <tbody>\n    <tr>\n      <th>1486226</th>\n      <td>98</td>\n      <td>Tidak dirujuk</td>\n    </tr>\n    <tr>\n      <th>1938693</th>\n      <td>98</td>\n      <td>Tidak dirujuk</td>\n    </tr>\n    <tr>\n      <th>1911095</th>\n      <td>98</td>\n      <td>Tidak dirujuk</td>\n    </tr>\n    <tr>\n      <th>131608</th>\n      <td>98</td>\n      <td>Tidak dirujuk</td>\n    </tr>\n    <tr>\n      <th>212359</th>\n      <td>98</td>\n      <td>Tidak dirujuk</td>\n    </tr>\n    <tr>\n      <th>2764015</th>\n      <td>98</td>\n      <td>Tidak dirujuk</td>\n    </tr>\n    <tr>\n      <th>1568427</th>\n      <td>98</td>\n      <td>Tidak dirujuk</td>\n    </tr>\n    <tr>\n      <th>3281350</th>\n      <td>98</td>\n      <td>Tidak dirujuk</td>\n    </tr>\n    <tr>\n      <th>1535839</th>\n      <td>98</td>\n      <td>Tidak dirujuk</td>\n    </tr>\n    <tr>\n      <th>2190827</th>\n      <td>98</td>\n      <td>Tidak dirujuk</td>\n    </tr>\n  </tbody>\n</table>\n</div>"
     },
     "execution_count": 38,
     "metadata": {},
     "output_type": "execute_result"
    }
   ]
  },
  {
   "cell_type": "code",
   "source": [
    "dataset['Jenis faskes tujuan rujukan label'] = merged_data['label']\n",
    "dataset.sample(10).filter(items=['Jenis faskes tujuan rujukan', 'Jenis faskes tujuan rujukan label'])"
   ],
   "metadata": {
    "colab": {
     "base_uri": "https://localhost:8080/",
     "height": 363
    },
    "id": "xZKb4ngup6gP",
    "executionInfo": {
     "status": "ok",
     "timestamp": 1666500927075,
     "user_tz": -420,
     "elapsed": 1628,
     "user": {
      "displayName": "Farhan Rahmadi Fajar",
      "userId": "10785679253509263230"
     }
    },
    "outputId": "d6af84af-6a2c-48db-93f6-2de677762b1b"
   },
   "execution_count": 39,
   "outputs": [
    {
     "data": {
      "text/plain": "         Jenis faskes tujuan rujukan Jenis faskes tujuan rujukan label\n1050658                           98                     Tidak dirujuk\n2921170                            2                    Klinik Pratama\n3491573                           98                     Tidak dirujuk\n1094089                           98                     Tidak dirujuk\n3777205                           98                     Tidak dirujuk\n185133                            98                     Tidak dirujuk\n648776                            98                     Tidak dirujuk\n3904267                           98                     Tidak dirujuk\n1694899                           98                     Tidak dirujuk\n108639                            98                     Tidak dirujuk",
      "text/html": "<div>\n<style scoped>\n    .dataframe tbody tr th:only-of-type {\n        vertical-align: middle;\n    }\n\n    .dataframe tbody tr th {\n        vertical-align: top;\n    }\n\n    .dataframe thead th {\n        text-align: right;\n    }\n</style>\n<table border=\"1\" class=\"dataframe\">\n  <thead>\n    <tr style=\"text-align: right;\">\n      <th></th>\n      <th>Jenis faskes tujuan rujukan</th>\n      <th>Jenis faskes tujuan rujukan label</th>\n    </tr>\n  </thead>\n  <tbody>\n    <tr>\n      <th>1050658</th>\n      <td>98</td>\n      <td>Tidak dirujuk</td>\n    </tr>\n    <tr>\n      <th>2921170</th>\n      <td>2</td>\n      <td>Klinik Pratama</td>\n    </tr>\n    <tr>\n      <th>3491573</th>\n      <td>98</td>\n      <td>Tidak dirujuk</td>\n    </tr>\n    <tr>\n      <th>1094089</th>\n      <td>98</td>\n      <td>Tidak dirujuk</td>\n    </tr>\n    <tr>\n      <th>3777205</th>\n      <td>98</td>\n      <td>Tidak dirujuk</td>\n    </tr>\n    <tr>\n      <th>185133</th>\n      <td>98</td>\n      <td>Tidak dirujuk</td>\n    </tr>\n    <tr>\n      <th>648776</th>\n      <td>98</td>\n      <td>Tidak dirujuk</td>\n    </tr>\n    <tr>\n      <th>3904267</th>\n      <td>98</td>\n      <td>Tidak dirujuk</td>\n    </tr>\n    <tr>\n      <th>1694899</th>\n      <td>98</td>\n      <td>Tidak dirujuk</td>\n    </tr>\n    <tr>\n      <th>108639</th>\n      <td>98</td>\n      <td>Tidak dirujuk</td>\n    </tr>\n  </tbody>\n</table>\n</div>"
     },
     "execution_count": 39,
     "metadata": {},
     "output_type": "execute_result"
    }
   ]
  },
  {
   "cell_type": "markdown",
   "source": [
    "## Merge Tipe faskes tujuan rujukan Dengan Label Tipe faskes tujuan rujukan "
   ],
   "metadata": {
    "id": "KtD_Zmrkrb9b"
   }
  },
  {
   "cell_type": "code",
   "source": [
    "tipe_faskes_tujuan_rujukan['value'] = tipe_faskes_tujuan_rujukan['value'].astype(int)\n",
    "merged_data = pd.merge(left=dataset, right=tipe_faskes_tujuan_rujukan, how='left',left_on='Tipe faskes tujuan rujukan',right_on='value')\n",
    "merged_data.sample(10).filter(items=['Tipe faskes tujuan rujukan', 'label'])"
   ],
   "metadata": {
    "colab": {
     "base_uri": "https://localhost:8080/",
     "height": 363
    },
    "id": "NUpVDbWdqrR2",
    "executionInfo": {
     "status": "ok",
     "timestamp": 1666500932659,
     "user_tz": -420,
     "elapsed": 5590,
     "user": {
      "displayName": "Farhan Rahmadi Fajar",
      "userId": "10785679253509263230"
     }
    },
    "outputId": "5cfe6403-f8e5-45f0-e2de-6a8765962f39"
   },
   "execution_count": 40,
   "outputs": [
    {
     "data": {
      "text/plain": "         Tipe faskes tujuan rujukan                    label\n3304071                          98                      NaN\n3941288                          98                      NaN\n853012                           98                      NaN\n496231                           98                      NaN\n1122868                          35  RS Swasta Setara Type D\n1036754                          98                      NaN\n3686901                          98                      NaN\n2578816                          98                      NaN\n29526                            98                      NaN\n1294339                          98                      NaN",
      "text/html": "<div>\n<style scoped>\n    .dataframe tbody tr th:only-of-type {\n        vertical-align: middle;\n    }\n\n    .dataframe tbody tr th {\n        vertical-align: top;\n    }\n\n    .dataframe thead th {\n        text-align: right;\n    }\n</style>\n<table border=\"1\" class=\"dataframe\">\n  <thead>\n    <tr style=\"text-align: right;\">\n      <th></th>\n      <th>Tipe faskes tujuan rujukan</th>\n      <th>label</th>\n    </tr>\n  </thead>\n  <tbody>\n    <tr>\n      <th>3304071</th>\n      <td>98</td>\n      <td>NaN</td>\n    </tr>\n    <tr>\n      <th>3941288</th>\n      <td>98</td>\n      <td>NaN</td>\n    </tr>\n    <tr>\n      <th>853012</th>\n      <td>98</td>\n      <td>NaN</td>\n    </tr>\n    <tr>\n      <th>496231</th>\n      <td>98</td>\n      <td>NaN</td>\n    </tr>\n    <tr>\n      <th>1122868</th>\n      <td>35</td>\n      <td>RS Swasta Setara Type D</td>\n    </tr>\n    <tr>\n      <th>1036754</th>\n      <td>98</td>\n      <td>NaN</td>\n    </tr>\n    <tr>\n      <th>3686901</th>\n      <td>98</td>\n      <td>NaN</td>\n    </tr>\n    <tr>\n      <th>2578816</th>\n      <td>98</td>\n      <td>NaN</td>\n    </tr>\n    <tr>\n      <th>29526</th>\n      <td>98</td>\n      <td>NaN</td>\n    </tr>\n    <tr>\n      <th>1294339</th>\n      <td>98</td>\n      <td>NaN</td>\n    </tr>\n  </tbody>\n</table>\n</div>"
     },
     "execution_count": 40,
     "metadata": {},
     "output_type": "execute_result"
    }
   ]
  },
  {
   "cell_type": "code",
   "source": [
    "dataset['Tipe faskes tujuan rujukan label'] = merged_data['label']\n",
    "dataset.sample(10).filter(items=['Tipe faskes tujuan rujukan', 'Jenis faskes tujuan rujukan label'])"
   ],
   "metadata": {
    "colab": {
     "base_uri": "https://localhost:8080/",
     "height": 363
    },
    "id": "aYivBphRtCCm",
    "executionInfo": {
     "status": "ok",
     "timestamp": 1666500933215,
     "user_tz": -420,
     "elapsed": 563,
     "user": {
      "displayName": "Farhan Rahmadi Fajar",
      "userId": "10785679253509263230"
     }
    },
    "outputId": "6e493eee-e457-4df8-9575-4b60b0505b57"
   },
   "execution_count": 41,
   "outputs": [
    {
     "data": {
      "text/plain": "         Tipe faskes tujuan rujukan Jenis faskes tujuan rujukan label\n3778652                          98                     Tidak dirujuk\n432167                           98                     Tidak dirujuk\n3232113                          98                     Tidak dirujuk\n2881186                          98                     Tidak dirujuk\n996443                           98                     Tidak dirujuk\n3558146                          98                     Tidak dirujuk\n651270                           98                     Tidak dirujuk\n1630329                          98                     Tidak dirujuk\n3124692                          98                     Tidak dirujuk\n1726458                          98                     Tidak dirujuk",
      "text/html": "<div>\n<style scoped>\n    .dataframe tbody tr th:only-of-type {\n        vertical-align: middle;\n    }\n\n    .dataframe tbody tr th {\n        vertical-align: top;\n    }\n\n    .dataframe thead th {\n        text-align: right;\n    }\n</style>\n<table border=\"1\" class=\"dataframe\">\n  <thead>\n    <tr style=\"text-align: right;\">\n      <th></th>\n      <th>Tipe faskes tujuan rujukan</th>\n      <th>Jenis faskes tujuan rujukan label</th>\n    </tr>\n  </thead>\n  <tbody>\n    <tr>\n      <th>3778652</th>\n      <td>98</td>\n      <td>Tidak dirujuk</td>\n    </tr>\n    <tr>\n      <th>432167</th>\n      <td>98</td>\n      <td>Tidak dirujuk</td>\n    </tr>\n    <tr>\n      <th>3232113</th>\n      <td>98</td>\n      <td>Tidak dirujuk</td>\n    </tr>\n    <tr>\n      <th>2881186</th>\n      <td>98</td>\n      <td>Tidak dirujuk</td>\n    </tr>\n    <tr>\n      <th>996443</th>\n      <td>98</td>\n      <td>Tidak dirujuk</td>\n    </tr>\n    <tr>\n      <th>3558146</th>\n      <td>98</td>\n      <td>Tidak dirujuk</td>\n    </tr>\n    <tr>\n      <th>651270</th>\n      <td>98</td>\n      <td>Tidak dirujuk</td>\n    </tr>\n    <tr>\n      <th>1630329</th>\n      <td>98</td>\n      <td>Tidak dirujuk</td>\n    </tr>\n    <tr>\n      <th>3124692</th>\n      <td>98</td>\n      <td>Tidak dirujuk</td>\n    </tr>\n    <tr>\n      <th>1726458</th>\n      <td>98</td>\n      <td>Tidak dirujuk</td>\n    </tr>\n  </tbody>\n</table>\n</div>"
     },
     "execution_count": 41,
     "metadata": {},
     "output_type": "execute_result"
    }
   ]
  },
  {
   "cell_type": "markdown",
   "source": [
    "## Merge Poli faskes tujuan rujukan Dengan Label Poli faskes tujuan rujukan"
   ],
   "metadata": {
    "id": "oLsFjEHrtQ-c"
   }
  },
  {
   "cell_type": "code",
   "source": [
    "poli_faskes_tujuan_rujukan['value'] = poli_faskes_tujuan_rujukan['value'].astype(int)\n",
    "merged_data = pd.merge(left=dataset, right=poli_faskes_tujuan_rujukan, how='left',left_on='Poli faskes tujuan rujukan',right_on='value')\n",
    "merged_data.sample(10).filter(items=['Poli faskes tujuan rujukan', 'label'])"
   ],
   "metadata": {
    "colab": {
     "base_uri": "https://localhost:8080/",
     "height": 363
    },
    "id": "pnW2dW2ztjuE",
    "executionInfo": {
     "status": "ok",
     "timestamp": 1666500939010,
     "user_tz": -420,
     "elapsed": 5801,
     "user": {
      "displayName": "Farhan Rahmadi Fajar",
      "userId": "10785679253509263230"
     }
    },
    "outputId": "dd0238f0-8648-4e32-a653-9a630b30f7af"
   },
   "execution_count": 42,
   "outputs": [
    {
     "data": {
      "text/plain": "         Poli faskes tujuan rujukan          label\n4015859                          99        MISSING\n1120463                          98  TIDAK DIRUJUK\n3873988                          99        MISSING\n3569484                          98  TIDAK DIRUJUK\n3955894                          98  TIDAK DIRUJUK\n638104                           98  TIDAK DIRUJUK\n628572                           98  TIDAK DIRUJUK\n636815                           99        MISSING\n316849                           98  TIDAK DIRUJUK\n1772263                          98  TIDAK DIRUJUK",
      "text/html": "<div>\n<style scoped>\n    .dataframe tbody tr th:only-of-type {\n        vertical-align: middle;\n    }\n\n    .dataframe tbody tr th {\n        vertical-align: top;\n    }\n\n    .dataframe thead th {\n        text-align: right;\n    }\n</style>\n<table border=\"1\" class=\"dataframe\">\n  <thead>\n    <tr style=\"text-align: right;\">\n      <th></th>\n      <th>Poli faskes tujuan rujukan</th>\n      <th>label</th>\n    </tr>\n  </thead>\n  <tbody>\n    <tr>\n      <th>4015859</th>\n      <td>99</td>\n      <td>MISSING</td>\n    </tr>\n    <tr>\n      <th>1120463</th>\n      <td>98</td>\n      <td>TIDAK DIRUJUK</td>\n    </tr>\n    <tr>\n      <th>3873988</th>\n      <td>99</td>\n      <td>MISSING</td>\n    </tr>\n    <tr>\n      <th>3569484</th>\n      <td>98</td>\n      <td>TIDAK DIRUJUK</td>\n    </tr>\n    <tr>\n      <th>3955894</th>\n      <td>98</td>\n      <td>TIDAK DIRUJUK</td>\n    </tr>\n    <tr>\n      <th>638104</th>\n      <td>98</td>\n      <td>TIDAK DIRUJUK</td>\n    </tr>\n    <tr>\n      <th>628572</th>\n      <td>98</td>\n      <td>TIDAK DIRUJUK</td>\n    </tr>\n    <tr>\n      <th>636815</th>\n      <td>99</td>\n      <td>MISSING</td>\n    </tr>\n    <tr>\n      <th>316849</th>\n      <td>98</td>\n      <td>TIDAK DIRUJUK</td>\n    </tr>\n    <tr>\n      <th>1772263</th>\n      <td>98</td>\n      <td>TIDAK DIRUJUK</td>\n    </tr>\n  </tbody>\n</table>\n</div>"
     },
     "execution_count": 42,
     "metadata": {},
     "output_type": "execute_result"
    }
   ]
  },
  {
   "cell_type": "code",
   "source": [
    "dataset['Poli faskes tujuan rujukan label'] = merged_data['label']\n",
    "dataset.sample(10).filter(items=['Poli faskes tujuan rujukan', 'Poli faskes tujuan rujukan label'])"
   ],
   "metadata": {
    "colab": {
     "base_uri": "https://localhost:8080/",
     "height": 363
    },
    "id": "5NOz6igYtvBm",
    "executionInfo": {
     "status": "ok",
     "timestamp": 1666500939966,
     "user_tz": -420,
     "elapsed": 963,
     "user": {
      "displayName": "Farhan Rahmadi Fajar",
      "userId": "10785679253509263230"
     }
    },
    "outputId": "331e5daa-2b6e-406d-86dc-d66fbdf14d31"
   },
   "execution_count": 43,
   "outputs": [
    {
     "data": {
      "text/plain": "         Poli faskes tujuan rujukan Poli faskes tujuan rujukan label\n3906601                          98                    TIDAK DIRUJUK\n673524                           98                    TIDAK DIRUJUK\n79509                            98                    TIDAK DIRUJUK\n2151914                          98                    TIDAK DIRUJUK\n1716336                          98                    TIDAK DIRUJUK\n1440983                          98                    TIDAK DIRUJUK\n2043292                          98                    TIDAK DIRUJUK\n288218                           98                    TIDAK DIRUJUK\n3632207                          98                    TIDAK DIRUJUK\n2852865                          99                          MISSING",
      "text/html": "<div>\n<style scoped>\n    .dataframe tbody tr th:only-of-type {\n        vertical-align: middle;\n    }\n\n    .dataframe tbody tr th {\n        vertical-align: top;\n    }\n\n    .dataframe thead th {\n        text-align: right;\n    }\n</style>\n<table border=\"1\" class=\"dataframe\">\n  <thead>\n    <tr style=\"text-align: right;\">\n      <th></th>\n      <th>Poli faskes tujuan rujukan</th>\n      <th>Poli faskes tujuan rujukan label</th>\n    </tr>\n  </thead>\n  <tbody>\n    <tr>\n      <th>3906601</th>\n      <td>98</td>\n      <td>TIDAK DIRUJUK</td>\n    </tr>\n    <tr>\n      <th>673524</th>\n      <td>98</td>\n      <td>TIDAK DIRUJUK</td>\n    </tr>\n    <tr>\n      <th>79509</th>\n      <td>98</td>\n      <td>TIDAK DIRUJUK</td>\n    </tr>\n    <tr>\n      <th>2151914</th>\n      <td>98</td>\n      <td>TIDAK DIRUJUK</td>\n    </tr>\n    <tr>\n      <th>1716336</th>\n      <td>98</td>\n      <td>TIDAK DIRUJUK</td>\n    </tr>\n    <tr>\n      <th>1440983</th>\n      <td>98</td>\n      <td>TIDAK DIRUJUK</td>\n    </tr>\n    <tr>\n      <th>2043292</th>\n      <td>98</td>\n      <td>TIDAK DIRUJUK</td>\n    </tr>\n    <tr>\n      <th>288218</th>\n      <td>98</td>\n      <td>TIDAK DIRUJUK</td>\n    </tr>\n    <tr>\n      <th>3632207</th>\n      <td>98</td>\n      <td>TIDAK DIRUJUK</td>\n    </tr>\n    <tr>\n      <th>2852865</th>\n      <td>99</td>\n      <td>MISSING</td>\n    </tr>\n  </tbody>\n</table>\n</div>"
     },
     "execution_count": 43,
     "metadata": {},
     "output_type": "execute_result"
    }
   ]
  },
  {
   "cell_type": "markdown",
   "source": [
    "## Merge Jenis Kunjungan FKTP dengan Label Jenis Kunjungan FKTP"
   ],
   "metadata": {
    "id": "w7BdB8LBvFHF"
   }
  },
  {
   "cell_type": "code",
   "source": [
    "jenis_kunjungan['value'] = jenis_kunjungan['value'].astype(int)\n",
    "merged_data = pd.merge(left=dataset, right=jenis_kunjungan, how='left',left_on='Jenis Kunjungan FKTP',right_on='value')\n",
    "merged_data.sample(10).filter(items=['Jenis Kunjungan FKTP', 'label'])"
   ],
   "metadata": {
    "colab": {
     "base_uri": "https://localhost:8080/",
     "height": 363
    },
    "id": "m7Hb53jBu71v",
    "executionInfo": {
     "status": "ok",
     "timestamp": 1666500945819,
     "user_tz": -420,
     "elapsed": 5859,
     "user": {
      "displayName": "Farhan Rahmadi Fajar",
      "userId": "10785679253509263230"
     }
    },
    "outputId": "c73800cb-3708-4b3d-a65f-bf1a84509693"
   },
   "execution_count": 44,
   "outputs": [
    {
     "data": {
      "text/plain": "         Jenis Kunjungan FKTP             label\n538463                      1   Kunjungan sakit\n2964457                     2  Kunjungan sehat \n2305744                     1   Kunjungan sakit\n772575                      1   Kunjungan sakit\n848600                      1   Kunjungan sakit\n1703612                     2  Kunjungan sehat \n2685160                     2  Kunjungan sehat \n4026452                     1   Kunjungan sakit\n1070031                     2  Kunjungan sehat \n535438                      1   Kunjungan sakit",
      "text/html": "<div>\n<style scoped>\n    .dataframe tbody tr th:only-of-type {\n        vertical-align: middle;\n    }\n\n    .dataframe tbody tr th {\n        vertical-align: top;\n    }\n\n    .dataframe thead th {\n        text-align: right;\n    }\n</style>\n<table border=\"1\" class=\"dataframe\">\n  <thead>\n    <tr style=\"text-align: right;\">\n      <th></th>\n      <th>Jenis Kunjungan FKTP</th>\n      <th>label</th>\n    </tr>\n  </thead>\n  <tbody>\n    <tr>\n      <th>538463</th>\n      <td>1</td>\n      <td>Kunjungan sakit</td>\n    </tr>\n    <tr>\n      <th>2964457</th>\n      <td>2</td>\n      <td>Kunjungan sehat</td>\n    </tr>\n    <tr>\n      <th>2305744</th>\n      <td>1</td>\n      <td>Kunjungan sakit</td>\n    </tr>\n    <tr>\n      <th>772575</th>\n      <td>1</td>\n      <td>Kunjungan sakit</td>\n    </tr>\n    <tr>\n      <th>848600</th>\n      <td>1</td>\n      <td>Kunjungan sakit</td>\n    </tr>\n    <tr>\n      <th>1703612</th>\n      <td>2</td>\n      <td>Kunjungan sehat</td>\n    </tr>\n    <tr>\n      <th>2685160</th>\n      <td>2</td>\n      <td>Kunjungan sehat</td>\n    </tr>\n    <tr>\n      <th>4026452</th>\n      <td>1</td>\n      <td>Kunjungan sakit</td>\n    </tr>\n    <tr>\n      <th>1070031</th>\n      <td>2</td>\n      <td>Kunjungan sehat</td>\n    </tr>\n    <tr>\n      <th>535438</th>\n      <td>1</td>\n      <td>Kunjungan sakit</td>\n    </tr>\n  </tbody>\n</table>\n</div>"
     },
     "execution_count": 44,
     "metadata": {},
     "output_type": "execute_result"
    }
   ]
  },
  {
   "cell_type": "code",
   "source": [
    "dataset['Jenis Kunjungan FKTP label'] = merged_data['label']\n",
    "dataset.sample(10).filter(items=['Jenis Kunjungan FKTP', 'Jenis Kunjungan FKTP label'])"
   ],
   "metadata": {
    "colab": {
     "base_uri": "https://localhost:8080/",
     "height": 363
    },
    "id": "X1fBsYSUvh3P",
    "executionInfo": {
     "status": "ok",
     "timestamp": 1666500946802,
     "user_tz": -420,
     "elapsed": 995,
     "user": {
      "displayName": "Farhan Rahmadi Fajar",
      "userId": "10785679253509263230"
     }
    },
    "outputId": "15042f93-fa67-4bbd-ffb4-26f9f259c640"
   },
   "execution_count": 45,
   "outputs": [
    {
     "data": {
      "text/plain": "         Jenis Kunjungan FKTP Jenis Kunjungan FKTP label\n151122                      1            Kunjungan sakit\n564132                      2           Kunjungan sehat \n2464336                     1            Kunjungan sakit\n1616131                     1            Kunjungan sakit\n2578607                     1            Kunjungan sakit\n1324916                     1            Kunjungan sakit\n220543                      1            Kunjungan sakit\n1763754                     2           Kunjungan sehat \n904229                      2           Kunjungan sehat \n2743994                     2           Kunjungan sehat ",
      "text/html": "<div>\n<style scoped>\n    .dataframe tbody tr th:only-of-type {\n        vertical-align: middle;\n    }\n\n    .dataframe tbody tr th {\n        vertical-align: top;\n    }\n\n    .dataframe thead th {\n        text-align: right;\n    }\n</style>\n<table border=\"1\" class=\"dataframe\">\n  <thead>\n    <tr style=\"text-align: right;\">\n      <th></th>\n      <th>Jenis Kunjungan FKTP</th>\n      <th>Jenis Kunjungan FKTP label</th>\n    </tr>\n  </thead>\n  <tbody>\n    <tr>\n      <th>151122</th>\n      <td>1</td>\n      <td>Kunjungan sakit</td>\n    </tr>\n    <tr>\n      <th>564132</th>\n      <td>2</td>\n      <td>Kunjungan sehat</td>\n    </tr>\n    <tr>\n      <th>2464336</th>\n      <td>1</td>\n      <td>Kunjungan sakit</td>\n    </tr>\n    <tr>\n      <th>1616131</th>\n      <td>1</td>\n      <td>Kunjungan sakit</td>\n    </tr>\n    <tr>\n      <th>2578607</th>\n      <td>1</td>\n      <td>Kunjungan sakit</td>\n    </tr>\n    <tr>\n      <th>1324916</th>\n      <td>1</td>\n      <td>Kunjungan sakit</td>\n    </tr>\n    <tr>\n      <th>220543</th>\n      <td>1</td>\n      <td>Kunjungan sakit</td>\n    </tr>\n    <tr>\n      <th>1763754</th>\n      <td>2</td>\n      <td>Kunjungan sehat</td>\n    </tr>\n    <tr>\n      <th>904229</th>\n      <td>2</td>\n      <td>Kunjungan sehat</td>\n    </tr>\n    <tr>\n      <th>2743994</th>\n      <td>2</td>\n      <td>Kunjungan sehat</td>\n    </tr>\n  </tbody>\n</table>\n</div>"
     },
     "execution_count": 45,
     "metadata": {},
     "output_type": "execute_result"
    }
   ]
  },
  {
   "cell_type": "code",
   "source": [
    "merged_data = []"
   ],
   "metadata": {
    "id": "LfgFd3c0SoR0",
    "executionInfo": {
     "status": "ok",
     "timestamp": 1666502573653,
     "user_tz": -420,
     "elapsed": 539,
     "user": {
      "displayName": "Farhan Rahmadi Fajar",
      "userId": "10785679253509263230"
     }
    }
   },
   "execution_count": 46,
   "outputs": []
  },
  {
   "cell_type": "code",
   "source": [
    "dataset['Kelas Status Pulang Peserta Encoded'] = LabelEncoder().fit(dataset['Kelas Status Pulang Peserta']).transform(dataset['Kelas Status Pulang Peserta'])\n",
    "data_with_9999_code = dataset['Kode dan nama diagnosis ICD 10 (3 digit)'] == 9999\n",
    "data_with_9999_code = dataset[data_with_9999_code].filter(items=[ 'Kode dan nama diagnosis ICD 10 (3 digit)','Kelas Status Pulang Peserta Encoded'])\n",
    "data_with_9999_code.value_counts()"
   ],
   "metadata": {
    "colab": {
     "base_uri": "https://localhost:8080/"
    },
    "id": "o3_2_6V6RzMb",
    "executionInfo": {
     "status": "ok",
     "timestamp": 1666503426299,
     "user_tz": -420,
     "elapsed": 3840,
     "user": {
      "displayName": "Farhan Rahmadi Fajar",
      "userId": "10785679253509263230"
     }
    },
    "outputId": "3d4ea2c4-eb3d-401e-acdd-0ea6c9c81802"
   },
   "execution_count": 47,
   "outputs": [
    {
     "data": {
      "text/plain": "Kode dan nama diagnosis ICD 10 (3 digit)  Kelas Status Pulang Peserta Encoded\n9999                                      1                                      1380241\ndtype: int64"
     },
     "execution_count": 47,
     "metadata": {},
     "output_type": "execute_result"
    }
   ]
  },
  {
   "cell_type": "markdown",
   "source": [
    "## Pembersihan Data dan Feature Engineering"
   ],
   "metadata": {
    "id": "dhkeTR_Pv39h"
   }
  },
  {
   "cell_type": "code",
   "source": [
    "dataset.columns"
   ],
   "metadata": {
    "colab": {
     "base_uri": "https://localhost:8080/"
    },
    "id": "t10XkdRyvzMq",
    "executionInfo": {
     "status": "ok",
     "timestamp": 1666500946808,
     "user_tz": -420,
     "elapsed": 31,
     "user": {
      "displayName": "Farhan Rahmadi Fajar",
      "userId": "10785679253509263230"
     }
    },
    "outputId": "8ed148f6-5a09-4253-938b-579659b81a7f"
   },
   "execution_count": 48,
   "outputs": [
    {
     "data": {
      "text/plain": "Index(['Bobot', 'Tanggal datang kunjungan FKTP',\n       'Tanggal pulang kunjungan FKTP', 'Provinsi FKTP', 'Kabupaten/Kota FKTP',\n       'Kepemilikan FKTP', 'Jenis FKTP', 'Tipe FKTP', 'Tingkat Pelayanan FKTP',\n       'Jenis Poli FKTP', 'Segmen Peserta saat akses layanan FKTP',\n       'Kode dan nama diagnosis ICD 10 (3 digit)',\n       'Kode diagnosis ICD 10 (3 digit)', 'Kode diagnosis (beragam 3-5 digit)',\n       'Nama diagnosis berasal dari kode diagnosis FKP15',\n       'Provinsi faskes tujuan rujukan',\n       'Kabupaten/Kota faskes tujuan rujukan',\n       'Kepemilikan faskes tujuan rujukan', 'Jenis faskes tujuan rujukan',\n       'Tipe faskes tujuan rujukan', 'Poli faskes tujuan rujukan',\n       'Jenis Kunjungan FKTP', 'Kelas Status Pulang Peserta', 'Provinsi',\n       'Kepemilikan', 'Jenis', 'Tipe', 'Tingkat Pelayanan', 'Jenis Poli',\n       'Segemen Akses', 'Provinsi faskes tujuan rujukan label',\n       'Kepemilikan faskes tujuan rujukan label',\n       'Jenis faskes tujuan rujukan label', 'Tipe faskes tujuan rujukan label',\n       'Poli faskes tujuan rujukan label', 'Jenis Kunjungan FKTP label',\n       'Kelas Status Pulang Peserta Encoded'],\n      dtype='object')"
     },
     "execution_count": 48,
     "metadata": {},
     "output_type": "execute_result"
    }
   ]
  },
  {
   "cell_type": "code",
   "source": [
    "dataset['Kode dan nama diagnosis ICD 10 (3 digit)'].value_counts()"
   ],
   "metadata": {
    "colab": {
     "base_uri": "https://localhost:8080/"
    },
    "id": "7_UIZNVfOj_K",
    "executionInfo": {
     "status": "ok",
     "timestamp": 1666502063033,
     "user_tz": -420,
     "elapsed": 338,
     "user": {
      "displayName": "Farhan Rahmadi Fajar",
      "userId": "10785679253509263230"
     }
    },
    "outputId": "d705225c-cbd4-48a1-93a8-360e523a6f57"
   },
   "execution_count": 49,
   "outputs": [
    {
     "data": {
      "text/plain": "9999    1380241\n694      238562\n621      165252\n688      157014\n774      106718\n         ...   \n1260          1\n1178          1\n415           1\n1915          1\n1696          1\nName: Kode dan nama diagnosis ICD 10 (3 digit), Length: 1837, dtype: int64"
     },
     "execution_count": 49,
     "metadata": {},
     "output_type": "execute_result"
    }
   ]
  },
  {
   "cell_type": "code",
   "execution_count": 50,
   "outputs": [
    {
     "data": {
      "text/plain": "9998    3677528\n3578       6974\n3374       6764\n1471       5786\n3273       5363\n         ...   \n9415          7\n9413          6\n1301          3\n8108          3\n5320          2\nName: Kabupaten/Kota faskes tujuan rujukan, Length: 482, dtype: int64"
     },
     "execution_count": 50,
     "metadata": {},
     "output_type": "execute_result"
    }
   ],
   "source": [
    "dataset['Kabupaten/Kota faskes tujuan rujukan'].value_counts()"
   ],
   "metadata": {
    "collapsed": false
   }
  },
  {
   "cell_type": "code",
   "source": [
    "# Delete unnecessary column \n",
    "dataset = dataset.drop(['Tanggal datang kunjungan FKTP','Tanggal pulang kunjungan FKTP','Provinsi FKTP', 'Kabupaten/Kota FKTP',\n",
    "       'Kepemilikan FKTP', 'Jenis FKTP', 'Tipe FKTP', 'Tingkat Pelayanan FKTP',\n",
    "       'Jenis Poli FKTP', 'Segmen Peserta saat akses layanan FKTP',  'Kode diagnosis ICD 10 (3 digit)', 'Kode diagnosis (beragam 3-5 digit)',\n",
    "       'Nama diagnosis berasal dari kode diagnosis FKP15', 'Jenis Kunjungan FKTP','Kelas Status Pulang Peserta', 'Provinsi faskes tujuan rujukan', 'Kepemilikan faskes tujuan rujukan', 'Kepemilikan faskes tujuan rujukan', 'Jenis faskes tujuan rujukan', 'Tipe faskes tujuan rujukan', 'Poli faskes tujuan rujukan'], axis=1)"
   ],
   "metadata": {
    "id": "56XKTPVTM_5s"
   },
   "execution_count": 51,
   "outputs": []
  },
  {
   "cell_type": "code",
   "execution_count": 52,
   "outputs": [
    {
     "data": {
      "text/plain": "Index(['Bobot', 'Kode dan nama diagnosis ICD 10 (3 digit)',\n       'Kabupaten/Kota faskes tujuan rujukan', 'Provinsi', 'Kepemilikan',\n       'Jenis', 'Tipe', 'Tingkat Pelayanan', 'Jenis Poli', 'Segemen Akses',\n       'Provinsi faskes tujuan rujukan label',\n       'Kepemilikan faskes tujuan rujukan label',\n       'Jenis faskes tujuan rujukan label', 'Tipe faskes tujuan rujukan label',\n       'Poli faskes tujuan rujukan label', 'Jenis Kunjungan FKTP label',\n       'Kelas Status Pulang Peserta Encoded'],\n      dtype='object')"
     },
     "execution_count": 52,
     "metadata": {},
     "output_type": "execute_result"
    }
   ],
   "source": [
    "dataset.columns"
   ],
   "metadata": {
    "collapsed": false
   }
  },
  {
   "cell_type": "markdown",
   "source": [
    "## Encode fitur menjadi categorical\n"
   ],
   "metadata": {
    "collapsed": false
   }
  },
  {
   "cell_type": "code",
   "execution_count": 53,
   "outputs": [],
   "source": [
    "dataset['Kode dan nama diagnosis ICD 10 (3 digit)'] = dataset['Kode dan nama diagnosis ICD 10 (3 digit)'] / dataset['Kode dan nama diagnosis ICD 10 (3 digit)'].max()"
   ],
   "metadata": {
    "collapsed": false
   }
  },
  {
   "cell_type": "code",
   "execution_count": 62,
   "outputs": [
    {
     "data": {
      "text/plain": "0    Kalimantan Barat\n1    Kalimantan Barat\n2    Kalimantan Barat\n3    Kalimantan Barat\n4    Kalimantan Barat\n5    Kalimantan Barat\n6    Kalimantan Barat\n7    Kalimantan Barat\n8    Kalimantan Barat\n9    Kalimantan Barat\nName: Provinsi, dtype: object"
     },
     "execution_count": 62,
     "metadata": {},
     "output_type": "execute_result"
    }
   ],
   "source": [
    "dataset['Provinsi'].head(10)"
   ],
   "metadata": {
    "collapsed": false
   }
  },
  {
   "cell_type": "code",
   "execution_count": 67,
   "outputs": [
    {
     "data": {
      "text/plain": "   Provinsi_Aceh  Provinsi_Bali  Provinsi_Banten  Provinsi_Bengkulu  \\\n0              0              0                0                  0   \n1              0              0                0                  0   \n2              0              0                0                  0   \n3              0              0                0                  0   \n4              0              0                0                  0   \n\n   Provinsi_DI Yogyakarta  Provinsi_DKI Jakarta  Provinsi_Gorontalo  \\\n0                       0                     0                   0   \n1                       0                     0                   0   \n2                       0                     0                   0   \n3                       0                     0                   0   \n4                       0                     0                   0   \n\n   Provinsi_Jambi  Provinsi_Jawa Barat  Provinsi_Jawa Tengah  ...  \\\n0               0                    0                     0  ...   \n1               0                    0                     0  ...   \n2               0                    0                     0  ...   \n3               0                    0                     0  ...   \n4               0                    0                     0  ...   \n\n   Tipe faskes tujuan rujukan label_RS Swasta Setara Type C  \\\n0                                                  0          \n1                                                  0          \n2                                                  0          \n3                                                  0          \n4                                                  0          \n\n   Tipe faskes tujuan rujukan label_RS Swasta Setara Type D  \\\n0                                                  0          \n1                                                  0          \n2                                                  0          \n3                                                  0          \n4                                                  0          \n\n   Tipe faskes tujuan rujukan label_RS TNI Polri Kelas I  \\\n0                                                  0       \n1                                                  0       \n2                                                  0       \n3                                                  0       \n4                                                  0       \n\n   Tipe faskes tujuan rujukan label_RS TNI Polri Kelas II  \\\n0                                                  0        \n1                                                  0        \n2                                                  0        \n3                                                  0        \n4                                                  0        \n\n   Tipe faskes tujuan rujukan label_RS TNI Polri Kelas III  \\\n0                                                  0         \n1                                                  0         \n2                                                  0         \n3                                                  0         \n4                                                  0         \n\n   Tipe faskes tujuan rujukan label_RS TNI Polri Kelas IV  \\\n0                                                  0        \n1                                                  0        \n2                                                  0        \n3                                                  0        \n4                                                  0        \n\n   Poli faskes tujuan rujukan label_MISSING  \\\n0                                         0   \n1                                         0   \n2                                         0   \n3                                         0   \n4                                         0   \n\n   Poli faskes tujuan rujukan label_TIDAK DIRUJUK  \\\n0                                               1   \n1                                               1   \n2                                               1   \n3                                               1   \n4                                               1   \n\n   Jenis Kunjungan FKTP label_Kunjungan sakit  \\\n0                                           0   \n1                                           1   \n2                                           1   \n3                                           1   \n4                                           1   \n\n   Jenis Kunjungan FKTP label_Kunjungan sehat   \n0                                            1  \n1                                            0  \n2                                            0  \n3                                            0  \n4                                            0  \n\n[5 rows x 168 columns]",
      "text/html": "<div>\n<style scoped>\n    .dataframe tbody tr th:only-of-type {\n        vertical-align: middle;\n    }\n\n    .dataframe tbody tr th {\n        vertical-align: top;\n    }\n\n    .dataframe thead th {\n        text-align: right;\n    }\n</style>\n<table border=\"1\" class=\"dataframe\">\n  <thead>\n    <tr style=\"text-align: right;\">\n      <th></th>\n      <th>Provinsi_Aceh</th>\n      <th>Provinsi_Bali</th>\n      <th>Provinsi_Banten</th>\n      <th>Provinsi_Bengkulu</th>\n      <th>Provinsi_DI Yogyakarta</th>\n      <th>Provinsi_DKI Jakarta</th>\n      <th>Provinsi_Gorontalo</th>\n      <th>Provinsi_Jambi</th>\n      <th>Provinsi_Jawa Barat</th>\n      <th>Provinsi_Jawa Tengah</th>\n      <th>...</th>\n      <th>Tipe faskes tujuan rujukan label_RS Swasta Setara Type C</th>\n      <th>Tipe faskes tujuan rujukan label_RS Swasta Setara Type D</th>\n      <th>Tipe faskes tujuan rujukan label_RS TNI Polri Kelas I</th>\n      <th>Tipe faskes tujuan rujukan label_RS TNI Polri Kelas II</th>\n      <th>Tipe faskes tujuan rujukan label_RS TNI Polri Kelas III</th>\n      <th>Tipe faskes tujuan rujukan label_RS TNI Polri Kelas IV</th>\n      <th>Poli faskes tujuan rujukan label_MISSING</th>\n      <th>Poli faskes tujuan rujukan label_TIDAK DIRUJUK</th>\n      <th>Jenis Kunjungan FKTP label_Kunjungan sakit</th>\n      <th>Jenis Kunjungan FKTP label_Kunjungan sehat</th>\n    </tr>\n  </thead>\n  <tbody>\n    <tr>\n      <th>0</th>\n      <td>0</td>\n      <td>0</td>\n      <td>0</td>\n      <td>0</td>\n      <td>0</td>\n      <td>0</td>\n      <td>0</td>\n      <td>0</td>\n      <td>0</td>\n      <td>0</td>\n      <td>...</td>\n      <td>0</td>\n      <td>0</td>\n      <td>0</td>\n      <td>0</td>\n      <td>0</td>\n      <td>0</td>\n      <td>0</td>\n      <td>1</td>\n      <td>0</td>\n      <td>1</td>\n    </tr>\n    <tr>\n      <th>1</th>\n      <td>0</td>\n      <td>0</td>\n      <td>0</td>\n      <td>0</td>\n      <td>0</td>\n      <td>0</td>\n      <td>0</td>\n      <td>0</td>\n      <td>0</td>\n      <td>0</td>\n      <td>...</td>\n      <td>0</td>\n      <td>0</td>\n      <td>0</td>\n      <td>0</td>\n      <td>0</td>\n      <td>0</td>\n      <td>0</td>\n      <td>1</td>\n      <td>1</td>\n      <td>0</td>\n    </tr>\n    <tr>\n      <th>2</th>\n      <td>0</td>\n      <td>0</td>\n      <td>0</td>\n      <td>0</td>\n      <td>0</td>\n      <td>0</td>\n      <td>0</td>\n      <td>0</td>\n      <td>0</td>\n      <td>0</td>\n      <td>...</td>\n      <td>0</td>\n      <td>0</td>\n      <td>0</td>\n      <td>0</td>\n      <td>0</td>\n      <td>0</td>\n      <td>0</td>\n      <td>1</td>\n      <td>1</td>\n      <td>0</td>\n    </tr>\n    <tr>\n      <th>3</th>\n      <td>0</td>\n      <td>0</td>\n      <td>0</td>\n      <td>0</td>\n      <td>0</td>\n      <td>0</td>\n      <td>0</td>\n      <td>0</td>\n      <td>0</td>\n      <td>0</td>\n      <td>...</td>\n      <td>0</td>\n      <td>0</td>\n      <td>0</td>\n      <td>0</td>\n      <td>0</td>\n      <td>0</td>\n      <td>0</td>\n      <td>1</td>\n      <td>1</td>\n      <td>0</td>\n    </tr>\n    <tr>\n      <th>4</th>\n      <td>0</td>\n      <td>0</td>\n      <td>0</td>\n      <td>0</td>\n      <td>0</td>\n      <td>0</td>\n      <td>0</td>\n      <td>0</td>\n      <td>0</td>\n      <td>0</td>\n      <td>...</td>\n      <td>0</td>\n      <td>0</td>\n      <td>0</td>\n      <td>0</td>\n      <td>0</td>\n      <td>0</td>\n      <td>0</td>\n      <td>1</td>\n      <td>1</td>\n      <td>0</td>\n    </tr>\n  </tbody>\n</table>\n<p>5 rows × 168 columns</p>\n</div>"
     },
     "execution_count": 67,
     "metadata": {},
     "output_type": "execute_result"
    }
   ],
   "source": [
    "transformed = pd.get_dummies(dataset[['Provinsi','Kepemilikan','Jenis','Tipe','Tingkat Pelayanan','Jenis Poli','Segemen Akses','Provinsi faskes tujuan rujukan label','Kepemilikan faskes tujuan rujukan label','Jenis faskes tujuan rujukan label','Tipe faskes tujuan rujukan label','Poli faskes tujuan rujukan label','Jenis Kunjungan FKTP label']])\n",
    "transformed.head()"
   ],
   "metadata": {
    "collapsed": false
   }
  },
  {
   "cell_type": "code",
   "execution_count": 69,
   "outputs": [],
   "source": [
    "dataset = dataset.drop(['Provinsi','Kepemilikan','Jenis','Tipe','Tingkat Pelayanan','Jenis Poli','Segemen Akses','Provinsi faskes tujuan rujukan label','Kepemilikan faskes tujuan rujukan label','Jenis faskes tujuan rujukan label','Tipe faskes tujuan rujukan label','Poli faskes tujuan rujukan label','Jenis Kunjungan FKTP label'], axis=1)"
   ],
   "metadata": {
    "collapsed": false
   }
  },
  {
   "cell_type": "code",
   "execution_count": 70,
   "outputs": [
    {
     "data": {
      "text/plain": "            Bobot  Kode dan nama diagnosis ICD 10 (3 digit)  \\\n0        0.000661                                  1.000000   \n1        0.000087                                  0.077308   \n2        0.000035                                  0.175718   \n3        0.012016                                  0.062106   \n4        0.000035                                  0.062206   \n...           ...                                       ...   \n4056893  0.000469                                  1.000000   \n4056894  0.000128                                  0.056106   \n4056895  0.000202                                  1.000000   \n4056896  0.000875                                  0.077408   \n4056897  0.002911                                  1.000000   \n\n         Kabupaten/Kota faskes tujuan rujukan  \\\n0                                        9998   \n1                                        9998   \n2                                        9998   \n3                                        9998   \n4                                        9998   \n...                                       ...   \n4056893                                  9998   \n4056894                                  3514   \n4056895                                  9998   \n4056896                                  9998   \n4056897                                  9998   \n\n         Kelas Status Pulang Peserta Encoded  Provinsi_Aceh  Provinsi_Bali  \\\n0                                          1              0              0   \n1                                          0              0              0   \n2                                          0              0              0   \n3                                          0              0              0   \n4                                          0              0              0   \n...                                      ...            ...            ...   \n4056893                                    1              0              0   \n4056894                                    0              0              0   \n4056895                                    1              0              0   \n4056896                                    0              0              0   \n4056897                                    1              0              0   \n\n         Provinsi_Banten  Provinsi_Bengkulu  Provinsi_DI Yogyakarta  \\\n0                      0                  0                       0   \n1                      0                  0                       0   \n2                      0                  0                       0   \n3                      0                  0                       0   \n4                      0                  0                       0   \n...                  ...                ...                     ...   \n4056893                0                  0                       0   \n4056894                0                  0                       0   \n4056895                0                  0                       0   \n4056896                0                  0                       0   \n4056897                0                  0                       0   \n\n         Provinsi_DKI Jakarta  ...  \\\n0                           0  ...   \n1                           0  ...   \n2                           0  ...   \n3                           0  ...   \n4                           0  ...   \n...                       ...  ...   \n4056893                     0  ...   \n4056894                     0  ...   \n4056895                     0  ...   \n4056896                     0  ...   \n4056897                     0  ...   \n\n         Tipe faskes tujuan rujukan label_RS Swasta Setara Type C  \\\n0                                                        0          \n1                                                        0          \n2                                                        0          \n3                                                        0          \n4                                                        0          \n...                                                    ...          \n4056893                                                  0          \n4056894                                                  0          \n4056895                                                  0          \n4056896                                                  0          \n4056897                                                  0          \n\n         Tipe faskes tujuan rujukan label_RS Swasta Setara Type D  \\\n0                                                        0          \n1                                                        0          \n2                                                        0          \n3                                                        0          \n4                                                        0          \n...                                                    ...          \n4056893                                                  0          \n4056894                                                  0          \n4056895                                                  0          \n4056896                                                  0          \n4056897                                                  0          \n\n         Tipe faskes tujuan rujukan label_RS TNI Polri Kelas I  \\\n0                                                        0       \n1                                                        0       \n2                                                        0       \n3                                                        0       \n4                                                        0       \n...                                                    ...       \n4056893                                                  0       \n4056894                                                  0       \n4056895                                                  0       \n4056896                                                  0       \n4056897                                                  0       \n\n         Tipe faskes tujuan rujukan label_RS TNI Polri Kelas II  \\\n0                                                        0        \n1                                                        0        \n2                                                        0        \n3                                                        0        \n4                                                        0        \n...                                                    ...        \n4056893                                                  0        \n4056894                                                  0        \n4056895                                                  0        \n4056896                                                  0        \n4056897                                                  0        \n\n         Tipe faskes tujuan rujukan label_RS TNI Polri Kelas III  \\\n0                                                        0         \n1                                                        0         \n2                                                        0         \n3                                                        0         \n4                                                        0         \n...                                                    ...         \n4056893                                                  0         \n4056894                                                  0         \n4056895                                                  0         \n4056896                                                  0         \n4056897                                                  0         \n\n         Tipe faskes tujuan rujukan label_RS TNI Polri Kelas IV  \\\n0                                                        0        \n1                                                        0        \n2                                                        0        \n3                                                        0        \n4                                                        0        \n...                                                    ...        \n4056893                                                  0        \n4056894                                                  0        \n4056895                                                  0        \n4056896                                                  0        \n4056897                                                  0        \n\n         Poli faskes tujuan rujukan label_MISSING  \\\n0                                               0   \n1                                               0   \n2                                               0   \n3                                               0   \n4                                               0   \n...                                           ...   \n4056893                                         0   \n4056894                                         1   \n4056895                                         0   \n4056896                                         0   \n4056897                                         0   \n\n         Poli faskes tujuan rujukan label_TIDAK DIRUJUK  \\\n0                                                     1   \n1                                                     1   \n2                                                     1   \n3                                                     1   \n4                                                     1   \n...                                                 ...   \n4056893                                               1   \n4056894                                               0   \n4056895                                               1   \n4056896                                               1   \n4056897                                               1   \n\n         Jenis Kunjungan FKTP label_Kunjungan sakit  \\\n0                                                 0   \n1                                                 1   \n2                                                 1   \n3                                                 1   \n4                                                 1   \n...                                             ...   \n4056893                                           0   \n4056894                                           1   \n4056895                                           0   \n4056896                                           1   \n4056897                                           0   \n\n         Jenis Kunjungan FKTP label_Kunjungan sehat   \n0                                                  1  \n1                                                  0  \n2                                                  0  \n3                                                  0  \n4                                                  0  \n...                                              ...  \n4056893                                            1  \n4056894                                            0  \n4056895                                            1  \n4056896                                            0  \n4056897                                            1  \n\n[4056898 rows x 172 columns]",
      "text/html": "<div>\n<style scoped>\n    .dataframe tbody tr th:only-of-type {\n        vertical-align: middle;\n    }\n\n    .dataframe tbody tr th {\n        vertical-align: top;\n    }\n\n    .dataframe thead th {\n        text-align: right;\n    }\n</style>\n<table border=\"1\" class=\"dataframe\">\n  <thead>\n    <tr style=\"text-align: right;\">\n      <th></th>\n      <th>Bobot</th>\n      <th>Kode dan nama diagnosis ICD 10 (3 digit)</th>\n      <th>Kabupaten/Kota faskes tujuan rujukan</th>\n      <th>Kelas Status Pulang Peserta Encoded</th>\n      <th>Provinsi_Aceh</th>\n      <th>Provinsi_Bali</th>\n      <th>Provinsi_Banten</th>\n      <th>Provinsi_Bengkulu</th>\n      <th>Provinsi_DI Yogyakarta</th>\n      <th>Provinsi_DKI Jakarta</th>\n      <th>...</th>\n      <th>Tipe faskes tujuan rujukan label_RS Swasta Setara Type C</th>\n      <th>Tipe faskes tujuan rujukan label_RS Swasta Setara Type D</th>\n      <th>Tipe faskes tujuan rujukan label_RS TNI Polri Kelas I</th>\n      <th>Tipe faskes tujuan rujukan label_RS TNI Polri Kelas II</th>\n      <th>Tipe faskes tujuan rujukan label_RS TNI Polri Kelas III</th>\n      <th>Tipe faskes tujuan rujukan label_RS TNI Polri Kelas IV</th>\n      <th>Poli faskes tujuan rujukan label_MISSING</th>\n      <th>Poli faskes tujuan rujukan label_TIDAK DIRUJUK</th>\n      <th>Jenis Kunjungan FKTP label_Kunjungan sakit</th>\n      <th>Jenis Kunjungan FKTP label_Kunjungan sehat</th>\n    </tr>\n  </thead>\n  <tbody>\n    <tr>\n      <th>0</th>\n      <td>0.000661</td>\n      <td>1.000000</td>\n      <td>9998</td>\n      <td>1</td>\n      <td>0</td>\n      <td>0</td>\n      <td>0</td>\n      <td>0</td>\n      <td>0</td>\n      <td>0</td>\n      <td>...</td>\n      <td>0</td>\n      <td>0</td>\n      <td>0</td>\n      <td>0</td>\n      <td>0</td>\n      <td>0</td>\n      <td>0</td>\n      <td>1</td>\n      <td>0</td>\n      <td>1</td>\n    </tr>\n    <tr>\n      <th>1</th>\n      <td>0.000087</td>\n      <td>0.077308</td>\n      <td>9998</td>\n      <td>0</td>\n      <td>0</td>\n      <td>0</td>\n      <td>0</td>\n      <td>0</td>\n      <td>0</td>\n      <td>0</td>\n      <td>...</td>\n      <td>0</td>\n      <td>0</td>\n      <td>0</td>\n      <td>0</td>\n      <td>0</td>\n      <td>0</td>\n      <td>0</td>\n      <td>1</td>\n      <td>1</td>\n      <td>0</td>\n    </tr>\n    <tr>\n      <th>2</th>\n      <td>0.000035</td>\n      <td>0.175718</td>\n      <td>9998</td>\n      <td>0</td>\n      <td>0</td>\n      <td>0</td>\n      <td>0</td>\n      <td>0</td>\n      <td>0</td>\n      <td>0</td>\n      <td>...</td>\n      <td>0</td>\n      <td>0</td>\n      <td>0</td>\n      <td>0</td>\n      <td>0</td>\n      <td>0</td>\n      <td>0</td>\n      <td>1</td>\n      <td>1</td>\n      <td>0</td>\n    </tr>\n    <tr>\n      <th>3</th>\n      <td>0.012016</td>\n      <td>0.062106</td>\n      <td>9998</td>\n      <td>0</td>\n      <td>0</td>\n      <td>0</td>\n      <td>0</td>\n      <td>0</td>\n      <td>0</td>\n      <td>0</td>\n      <td>...</td>\n      <td>0</td>\n      <td>0</td>\n      <td>0</td>\n      <td>0</td>\n      <td>0</td>\n      <td>0</td>\n      <td>0</td>\n      <td>1</td>\n      <td>1</td>\n      <td>0</td>\n    </tr>\n    <tr>\n      <th>4</th>\n      <td>0.000035</td>\n      <td>0.062206</td>\n      <td>9998</td>\n      <td>0</td>\n      <td>0</td>\n      <td>0</td>\n      <td>0</td>\n      <td>0</td>\n      <td>0</td>\n      <td>0</td>\n      <td>...</td>\n      <td>0</td>\n      <td>0</td>\n      <td>0</td>\n      <td>0</td>\n      <td>0</td>\n      <td>0</td>\n      <td>0</td>\n      <td>1</td>\n      <td>1</td>\n      <td>0</td>\n    </tr>\n    <tr>\n      <th>...</th>\n      <td>...</td>\n      <td>...</td>\n      <td>...</td>\n      <td>...</td>\n      <td>...</td>\n      <td>...</td>\n      <td>...</td>\n      <td>...</td>\n      <td>...</td>\n      <td>...</td>\n      <td>...</td>\n      <td>...</td>\n      <td>...</td>\n      <td>...</td>\n      <td>...</td>\n      <td>...</td>\n      <td>...</td>\n      <td>...</td>\n      <td>...</td>\n      <td>...</td>\n      <td>...</td>\n    </tr>\n    <tr>\n      <th>4056893</th>\n      <td>0.000469</td>\n      <td>1.000000</td>\n      <td>9998</td>\n      <td>1</td>\n      <td>0</td>\n      <td>0</td>\n      <td>0</td>\n      <td>0</td>\n      <td>0</td>\n      <td>0</td>\n      <td>...</td>\n      <td>0</td>\n      <td>0</td>\n      <td>0</td>\n      <td>0</td>\n      <td>0</td>\n      <td>0</td>\n      <td>0</td>\n      <td>1</td>\n      <td>0</td>\n      <td>1</td>\n    </tr>\n    <tr>\n      <th>4056894</th>\n      <td>0.000128</td>\n      <td>0.056106</td>\n      <td>3514</td>\n      <td>0</td>\n      <td>0</td>\n      <td>0</td>\n      <td>0</td>\n      <td>0</td>\n      <td>0</td>\n      <td>0</td>\n      <td>...</td>\n      <td>0</td>\n      <td>0</td>\n      <td>0</td>\n      <td>0</td>\n      <td>0</td>\n      <td>0</td>\n      <td>1</td>\n      <td>0</td>\n      <td>1</td>\n      <td>0</td>\n    </tr>\n    <tr>\n      <th>4056895</th>\n      <td>0.000202</td>\n      <td>1.000000</td>\n      <td>9998</td>\n      <td>1</td>\n      <td>0</td>\n      <td>0</td>\n      <td>0</td>\n      <td>0</td>\n      <td>0</td>\n      <td>0</td>\n      <td>...</td>\n      <td>0</td>\n      <td>0</td>\n      <td>0</td>\n      <td>0</td>\n      <td>0</td>\n      <td>0</td>\n      <td>0</td>\n      <td>1</td>\n      <td>0</td>\n      <td>1</td>\n    </tr>\n    <tr>\n      <th>4056896</th>\n      <td>0.000875</td>\n      <td>0.077408</td>\n      <td>9998</td>\n      <td>0</td>\n      <td>0</td>\n      <td>0</td>\n      <td>0</td>\n      <td>0</td>\n      <td>0</td>\n      <td>0</td>\n      <td>...</td>\n      <td>0</td>\n      <td>0</td>\n      <td>0</td>\n      <td>0</td>\n      <td>0</td>\n      <td>0</td>\n      <td>0</td>\n      <td>1</td>\n      <td>1</td>\n      <td>0</td>\n    </tr>\n    <tr>\n      <th>4056897</th>\n      <td>0.002911</td>\n      <td>1.000000</td>\n      <td>9998</td>\n      <td>1</td>\n      <td>0</td>\n      <td>0</td>\n      <td>0</td>\n      <td>0</td>\n      <td>0</td>\n      <td>0</td>\n      <td>...</td>\n      <td>0</td>\n      <td>0</td>\n      <td>0</td>\n      <td>0</td>\n      <td>0</td>\n      <td>0</td>\n      <td>0</td>\n      <td>1</td>\n      <td>0</td>\n      <td>1</td>\n    </tr>\n  </tbody>\n</table>\n<p>4056898 rows × 172 columns</p>\n</div>"
     },
     "execution_count": 70,
     "metadata": {},
     "output_type": "execute_result"
    }
   ],
   "source": [
    "dataset = dataset.join(transformed)\n",
    "dataset"
   ],
   "metadata": {
    "collapsed": false
   }
  },
  {
   "cell_type": "code",
   "execution_count": 71,
   "outputs": [
    {
     "data": {
      "text/plain": "0          1.00000\n1          1.00000\n2          1.00000\n3          1.00000\n4          1.00000\n            ...   \n4056893    1.00000\n4056894    0.35147\n4056895    1.00000\n4056896    1.00000\n4056897    1.00000\nName: Kabupaten/Kota faskes tujuan rujukan, Length: 4056898, dtype: float64"
     },
     "execution_count": 71,
     "metadata": {},
     "output_type": "execute_result"
    }
   ],
   "source": [
    "dataset['Kabupaten/Kota faskes tujuan rujukan'] = dataset['Kabupaten/Kota faskes tujuan rujukan'] / dataset['Kabupaten/Kota faskes tujuan rujukan'].max()\n",
    "dataset['Kabupaten/Kota faskes tujuan rujukan']"
   ],
   "metadata": {
    "collapsed": false
   }
  },
  {
   "cell_type": "code",
   "execution_count": 72,
   "outputs": [],
   "source": [
    "dataset.to_csv('../data/clean_ftkp.csv')"
   ],
   "metadata": {
    "collapsed": false
   }
  },
  {
   "cell_type": "code",
   "execution_count": null,
   "outputs": [],
   "source": [],
   "metadata": {
    "collapsed": false
   }
  }
 ],
 "metadata": {
  "colab": {
   "provenance": []
  },
  "kernelspec": {
   "display_name": "Python 3",
   "name": "python3"
  },
  "language_info": {
   "name": "python"
  }
 },
 "nbformat": 4,
 "nbformat_minor": 0
}
