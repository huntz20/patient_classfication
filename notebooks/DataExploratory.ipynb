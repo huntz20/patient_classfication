{
 "cells": [
  {
   "cell_type": "code",
   "execution_count": 1,
   "outputs": [],
   "source": [
    "import pandas as pd\n",
    "import numpy as np\n",
    "import matplotlib as plt\n",
    "import seaborn as sns\n",
    "from sklearn.preprocessing import OneHotEncoder,LabelEncoder\n",
    "\n",
    "\n",
    "%matplotlib inline"
   ],
   "metadata": {
    "collapsed": false
   }
  },
  {
   "cell_type": "markdown",
   "source": [
    "# Load Dataset dan Ekplorasi "
   ],
   "metadata": {
    "id": "n91Hh5X4X9Jd"
   }
  },
  {
   "cell_type": "code",
   "execution_count": 2,
   "metadata": {
    "executionInfo": {
     "elapsed": 1129,
     "status": "ok",
     "timestamp": 1666500834703,
     "user": {
      "displayName": "Farhan Rahmadi Fajar",
      "userId": "10785679253509263230"
     },
     "user_tz": -420
    },
    "id": "3cVEhkkK2AxG"
   },
   "outputs": [],
   "source": [
    "jenis_kunjungan = pd.read_excel('../data/Salinan Metadata.xlsx', sheet_name='Jenis Kunjungan FKTP')\n",
    "poli_faskes_tujuan_rujukan = pd.read_excel('../data/Salinan Metadata.xlsx',sheet_name='Poli faskes tujuan rujukan')\n",
    "tipe_faskes_tujuan_rujukan = pd.read_excel('../data/Salinan Metadata.xlsx',sheet_name='Tipe faskes tujuan rujukan')\n",
    "jenis_faskes_tujuan_rujukan = pd.read_excel('../data/Salinan Metadata.xlsx',sheet_name='Jenis faskes tujuan rujukan')\n",
    "provinsi_faskes_tujuan_rujukan = pd.read_excel('../data/Salinan Metadata.xlsx',sheet_name='Provinsi Faskes Tujuan Rujukan')\n",
    "segmen_perkerjaan = pd.read_excel('../data/Salinan Metadata.xlsx',sheet_name='Segmen Pekerjaan FTKP')\n",
    "jenis_poli = pd.read_excel('../data/Salinan Metadata.xlsx',sheet_name='Jenis Poli FTKP')\n",
    "tingkat_pelayanan = pd.read_excel('../data/Salinan Metadata.xlsx',sheet_name='Tingkat Pelayanan FTKP')\n",
    "tipe = pd.read_excel('../data/Salinan Metadata.xlsx',sheet_name='Tipe FTKP')\n",
    "jenis = pd.read_excel('../data/Salinan Metadata.xlsx',sheet_name='Jenis FTKP')\n",
    "kepemilikan = pd.read_excel('../data/Salinan Metadata.xlsx',sheet_name='Kepemilikan FTKP')\n",
    "columns = pd.read_excel('../data/Salinan Metadata.xlsx',sheet_name='Label')\n",
    "provinsi = pd.read_excel('../data/Salinan Metadata.xlsx',sheet_name='Provinsi')\n",
    "kepemilikan_faskes_tujuan_rujukan = pd.read_excel('../data/Salinan Metadata.xlsx',sheet_name='Kepemilikan faskes tujuan rujuk')"
   ]
  },
  {
   "cell_type": "code",
   "execution_count": 3,
   "metadata": {
    "id": "QEru2BQ_px9S",
    "executionInfo": {
     "status": "ok",
     "timestamp": 1666500861820,
     "user_tz": -420,
     "elapsed": 27120,
     "user": {
      "displayName": "Farhan Rahmadi Fajar",
      "userId": "10785679253509263230"
     }
    }
   },
   "outputs": [],
   "source": [
    "dataset = pd.read_csv('../data/train_fktp.txt', names=columns['Label'])"
   ]
  },
  {
   "cell_type": "code",
   "execution_count": 4,
   "metadata": {
    "colab": {
     "base_uri": "https://localhost:8080/",
     "height": 543
    },
    "id": "cS00L9DyqCnb",
    "executionInfo": {
     "status": "ok",
     "timestamp": 1666500861821,
     "user_tz": -420,
     "elapsed": 40,
     "user": {
      "displayName": "Farhan Rahmadi Fajar",
      "userId": "10785679253509263230"
     }
    },
    "outputId": "b7cf5f4d-f17b-4e1a-cb63-5f56bd056d24"
   },
   "outputs": [
    {
     "data": {
      "text/plain": "   Nomor peserta  Nomor keluarga       Bobot ID Kunjungan FKTP  \\\n0    157978748.0        50765420   20.064983         958073632   \n1     95085112.0        26931775    2.626307  449590620P000054   \n2    224470578.0       227368233    1.051830  467490619P000001   \n3     63871289.0        62313678  364.741455  254321219Y002368   \n4     29915626.0       113446188    1.050523   88681119P000020   \n\n  Tanggal datang kunjungan FKTP Tanggal pulang kunjungan FKTP  Provinsi FKTP  \\\n0                    2019-08-01                    2019-08-01             61   \n1                    2020-06-17                    2020-06-17             51   \n2                    2019-06-01                    2019-06-01             35   \n3                    2019-12-21                    2019-12-21             34   \n4                    2019-11-04                    2019-11-04             35   \n\n   Kabupaten/Kota FKTP  Kepemilikan FKTP  Jenis FKTP  ...  \\\n0                 6108                 3           1  ...   \n1                 5171                 9           3  ...   \n2                 3516                 9           2  ...   \n3                 3402                 3           1  ...   \n4                 3509                 3           1  ...   \n\n   Kode diagnosis (beragam 3-5 digit)  \\\n0                                9999   \n1                                K297   \n2                                Z309   \n3                                 I10   \n4                                I110   \n\n    Nama diagnosis berasal dari kode diagnosis FKP15  \\\n0                                               9999   \n1                             Gastritis, unspecified   \n2              Contraceptive management, unspecified   \n3                   Essential (primary) hypertension   \n4  Hypertensive heart disease with (congestive) h...   \n\n   Provinsi faskes tujuan rujukan  Kabupaten/Kota faskes tujuan rujukan  \\\n0                              98                                  9998   \n1                              98                                  9998   \n2                              98                                  9998   \n3                              98                                  9998   \n4                              98                                  9998   \n\n   Kepemilikan faskes tujuan rujukan Jenis faskes tujuan rujukan  \\\n0                                 98                          98   \n1                                 98                          98   \n2                                 98                          98   \n3                                 98                          98   \n4                                 98                          98   \n\n  Tipe faskes tujuan rujukan Poli faskes tujuan rujukan  Jenis Kunjungan FKTP  \\\n0                         98                         98                     2   \n1                         98                         98                     1   \n2                         98                         98                     1   \n3                         98                         98                     1   \n4                         98                         98                     1   \n\n   Kelas Status Pulang Peserta  \n0                        Sehat  \n1                  Belum_Sehat  \n2                  Belum_Sehat  \n3                  Belum_Sehat  \n4                  Belum_Sehat  \n\n[5 rows x 26 columns]",
      "text/html": "<div>\n<style scoped>\n    .dataframe tbody tr th:only-of-type {\n        vertical-align: middle;\n    }\n\n    .dataframe tbody tr th {\n        vertical-align: top;\n    }\n\n    .dataframe thead th {\n        text-align: right;\n    }\n</style>\n<table border=\"1\" class=\"dataframe\">\n  <thead>\n    <tr style=\"text-align: right;\">\n      <th></th>\n      <th>Nomor peserta</th>\n      <th>Nomor keluarga</th>\n      <th>Bobot</th>\n      <th>ID Kunjungan FKTP</th>\n      <th>Tanggal datang kunjungan FKTP</th>\n      <th>Tanggal pulang kunjungan FKTP</th>\n      <th>Provinsi FKTP</th>\n      <th>Kabupaten/Kota FKTP</th>\n      <th>Kepemilikan FKTP</th>\n      <th>Jenis FKTP</th>\n      <th>...</th>\n      <th>Kode diagnosis (beragam 3-5 digit)</th>\n      <th>Nama diagnosis berasal dari kode diagnosis FKP15</th>\n      <th>Provinsi faskes tujuan rujukan</th>\n      <th>Kabupaten/Kota faskes tujuan rujukan</th>\n      <th>Kepemilikan faskes tujuan rujukan</th>\n      <th>Jenis faskes tujuan rujukan</th>\n      <th>Tipe faskes tujuan rujukan</th>\n      <th>Poli faskes tujuan rujukan</th>\n      <th>Jenis Kunjungan FKTP</th>\n      <th>Kelas Status Pulang Peserta</th>\n    </tr>\n  </thead>\n  <tbody>\n    <tr>\n      <th>0</th>\n      <td>157978748.0</td>\n      <td>50765420</td>\n      <td>20.064983</td>\n      <td>958073632</td>\n      <td>2019-08-01</td>\n      <td>2019-08-01</td>\n      <td>61</td>\n      <td>6108</td>\n      <td>3</td>\n      <td>1</td>\n      <td>...</td>\n      <td>9999</td>\n      <td>9999</td>\n      <td>98</td>\n      <td>9998</td>\n      <td>98</td>\n      <td>98</td>\n      <td>98</td>\n      <td>98</td>\n      <td>2</td>\n      <td>Sehat</td>\n    </tr>\n    <tr>\n      <th>1</th>\n      <td>95085112.0</td>\n      <td>26931775</td>\n      <td>2.626307</td>\n      <td>449590620P000054</td>\n      <td>2020-06-17</td>\n      <td>2020-06-17</td>\n      <td>51</td>\n      <td>5171</td>\n      <td>9</td>\n      <td>3</td>\n      <td>...</td>\n      <td>K297</td>\n      <td>Gastritis, unspecified</td>\n      <td>98</td>\n      <td>9998</td>\n      <td>98</td>\n      <td>98</td>\n      <td>98</td>\n      <td>98</td>\n      <td>1</td>\n      <td>Belum_Sehat</td>\n    </tr>\n    <tr>\n      <th>2</th>\n      <td>224470578.0</td>\n      <td>227368233</td>\n      <td>1.051830</td>\n      <td>467490619P000001</td>\n      <td>2019-06-01</td>\n      <td>2019-06-01</td>\n      <td>35</td>\n      <td>3516</td>\n      <td>9</td>\n      <td>2</td>\n      <td>...</td>\n      <td>Z309</td>\n      <td>Contraceptive management, unspecified</td>\n      <td>98</td>\n      <td>9998</td>\n      <td>98</td>\n      <td>98</td>\n      <td>98</td>\n      <td>98</td>\n      <td>1</td>\n      <td>Belum_Sehat</td>\n    </tr>\n    <tr>\n      <th>3</th>\n      <td>63871289.0</td>\n      <td>62313678</td>\n      <td>364.741455</td>\n      <td>254321219Y002368</td>\n      <td>2019-12-21</td>\n      <td>2019-12-21</td>\n      <td>34</td>\n      <td>3402</td>\n      <td>3</td>\n      <td>1</td>\n      <td>...</td>\n      <td>I10</td>\n      <td>Essential (primary) hypertension</td>\n      <td>98</td>\n      <td>9998</td>\n      <td>98</td>\n      <td>98</td>\n      <td>98</td>\n      <td>98</td>\n      <td>1</td>\n      <td>Belum_Sehat</td>\n    </tr>\n    <tr>\n      <th>4</th>\n      <td>29915626.0</td>\n      <td>113446188</td>\n      <td>1.050523</td>\n      <td>88681119P000020</td>\n      <td>2019-11-04</td>\n      <td>2019-11-04</td>\n      <td>35</td>\n      <td>3509</td>\n      <td>3</td>\n      <td>1</td>\n      <td>...</td>\n      <td>I110</td>\n      <td>Hypertensive heart disease with (congestive) h...</td>\n      <td>98</td>\n      <td>9998</td>\n      <td>98</td>\n      <td>98</td>\n      <td>98</td>\n      <td>98</td>\n      <td>1</td>\n      <td>Belum_Sehat</td>\n    </tr>\n  </tbody>\n</table>\n<p>5 rows × 26 columns</p>\n</div>"
     },
     "execution_count": 4,
     "metadata": {},
     "output_type": "execute_result"
    }
   ],
   "source": [
    "dataset.head()"
   ]
  },
  {
   "cell_type": "code",
   "execution_count": 5,
   "metadata": {
    "colab": {
     "base_uri": "https://localhost:8080/"
    },
    "id": "t58A1UDIzTVO",
    "executionInfo": {
     "status": "ok",
     "timestamp": 1666500862437,
     "user_tz": -420,
     "elapsed": 623,
     "user": {
      "displayName": "Farhan Rahmadi Fajar",
      "userId": "10785679253509263230"
     }
    },
    "outputId": "9ffa2a63-ced5-4588-9bbf-f216a56ea327"
   },
   "outputs": [
    {
     "data": {
      "text/plain": "(4056898, 26)"
     },
     "execution_count": 5,
     "metadata": {},
     "output_type": "execute_result"
    }
   ],
   "source": [
    "dataset.shape"
   ]
  },
  {
   "cell_type": "code",
   "execution_count": 6,
   "metadata": {
    "colab": {
     "base_uri": "https://localhost:8080/"
    },
    "id": "pxosabw9qEX6",
    "executionInfo": {
     "status": "ok",
     "timestamp": 1666500863321,
     "user_tz": -420,
     "elapsed": 349,
     "user": {
      "displayName": "Farhan Rahmadi Fajar",
      "userId": "10785679253509263230"
     }
    },
    "outputId": "fa555a1d-da4e-4c78-d41f-83946163442b"
   },
   "outputs": [
    {
     "data": {
      "text/plain": "Belum_Sehat    2634511\nSehat          1422387\nName: Kelas Status Pulang Peserta, dtype: int64"
     },
     "execution_count": 6,
     "metadata": {},
     "output_type": "execute_result"
    }
   ],
   "source": [
    "dataset['Kelas Status Pulang Peserta'].value_counts()"
   ]
  },
  {
   "cell_type": "code",
   "execution_count": 7,
   "metadata": {
    "colab": {
     "base_uri": "https://localhost:8080/"
    },
    "id": "_4DgxehhsO1S",
    "executionInfo": {
     "status": "ok",
     "timestamp": 1666500865958,
     "user_tz": -420,
     "elapsed": 2646,
     "user": {
      "displayName": "Farhan Rahmadi Fajar",
      "userId": "10785679253509263230"
     }
    },
    "outputId": "2348cafa-aa46-441a-f70d-e44f6d9d93fd"
   },
   "outputs": [
    {
     "data": {
      "text/plain": "Nomor peserta                                             0\nNomor keluarga                                            0\nBobot                                                     0\nID Kunjungan FKTP                                         0\nTanggal datang kunjungan FKTP                             0\nTanggal pulang kunjungan FKTP                             0\nProvinsi FKTP                                             0\nKabupaten/Kota FKTP                                       0\nKepemilikan FKTP                                          0\nJenis FKTP                                                0\nTipe FKTP                                                 0\nTingkat Pelayanan FKTP                                    0\nJenis Poli FKTP                                           1\nSegmen Peserta saat akses layanan FKTP                    0\nKode dan nama diagnosis ICD 10 (3 digit)                  0\nKode diagnosis ICD 10 (3 digit)                     1380241\nKode diagnosis (beragam 3-5 digit)                        0\nNama diagnosis berasal dari kode diagnosis FKP15          0\nProvinsi faskes tujuan rujukan                            0\nKabupaten/Kota faskes tujuan rujukan                      0\nKepemilikan faskes tujuan rujukan                         0\nJenis faskes tujuan rujukan                               0\nTipe faskes tujuan rujukan                                0\nPoli faskes tujuan rujukan                                0\nJenis Kunjungan FKTP                                      0\nKelas Status Pulang Peserta                               0\ndtype: int64"
     },
     "execution_count": 7,
     "metadata": {},
     "output_type": "execute_result"
    }
   ],
   "source": [
    "dataset.isnull().sum()"
   ]
  },
  {
   "cell_type": "code",
   "execution_count": 8,
   "metadata": {
    "colab": {
     "base_uri": "https://localhost:8080/"
    },
    "id": "WTaNOxadJvZ3",
    "executionInfo": {
     "status": "ok",
     "timestamp": 1666500866321,
     "user_tz": -420,
     "elapsed": 401,
     "user": {
      "displayName": "Farhan Rahmadi Fajar",
      "userId": "10785679253509263230"
     }
    },
    "outputId": "9d390a5b-77b9-40d4-df20-f9e07c0ef3d8"
   },
   "outputs": [
    {
     "data": {
      "text/plain": "0          NaN\n6          NaN\n7          NaN\n8          NaN\n10         NaN\n          ... \n4056890    NaN\n4056892    NaN\n4056893    NaN\n4056895    NaN\n4056897    NaN\nName: Kode diagnosis ICD 10 (3 digit), Length: 1380241, dtype: object"
     },
     "execution_count": 8,
     "metadata": {},
     "output_type": "execute_result"
    }
   ],
   "source": [
    "empty_data = dataset['Kode diagnosis ICD 10 (3 digit)'][dataset['Kode diagnosis ICD 10 (3 digit)'].isnull()]\n",
    "empty_data"
   ]
  },
  {
   "cell_type": "code",
   "execution_count": 9,
   "metadata": {
    "colab": {
     "base_uri": "https://localhost:8080/",
     "height": 865
    },
    "id": "mnJeoC5X0rAj",
    "executionInfo": {
     "status": "ok",
     "timestamp": 1666500866322,
     "user_tz": -420,
     "elapsed": 22,
     "user": {
      "displayName": "Farhan Rahmadi Fajar",
      "userId": "10785679253509263230"
     }
    },
    "outputId": "7a43590f-e174-496e-a79f-71a4ef97d14d"
   },
   "outputs": [
    {
     "data": {
      "text/plain": "      Variable  Position                                             Label\n0       PSTV01         1                                     Nomor peserta\n1       PSTV02         2                                    Nomor keluarga\n2       PSTV15         3                                             Bobot\n3        FKP02         4                                 ID Kunjungan FKTP\n4        FKP03         5                     Tanggal datang kunjungan FKTP\n5        FKP04         6                     Tanggal pulang kunjungan FKTP\n6        FKP05         7                                     Provinsi FKTP\n7        FKP06         8                               Kabupaten/Kota FKTP\n8        FKP07         9                                  Kepemilikan FKTP\n9        FKP08        10                                        Jenis FKTP\n10       FKP09        11                                         Tipe FKTP\n11       FKP10        12                            Tingkat Pelayanan FKTP\n12       FKP11        13                                   Jenis Poli FKTP\n13       FKP12        14            Segmen Peserta saat akses layanan FKTP\n14       FKP14        16          Kode dan nama diagnosis ICD 10 (3 digit)\n15      FKP14A        17                   Kode diagnosis ICD 10 (3 digit)\n16       FKP15        18                Kode diagnosis (beragam 3-5 digit)\n17      FKP15A        19  Nama diagnosis berasal dari kode diagnosis FKP15\n18       FKP16        20                    Provinsi faskes tujuan rujukan\n19       FKP17        21              Kabupaten/Kota faskes tujuan rujukan\n20       FKP18        22                 Kepemilikan faskes tujuan rujukan\n21       FKP19        23                       Jenis faskes tujuan rujukan\n22       FKP20        24                        Tipe faskes tujuan rujukan\n23       FKP21        25                        Poli faskes tujuan rujukan\n24       FKP22        26                              Jenis Kunjungan FKTP\n25  FKP13Class        26                       Kelas Status Pulang Peserta",
      "text/html": "<div>\n<style scoped>\n    .dataframe tbody tr th:only-of-type {\n        vertical-align: middle;\n    }\n\n    .dataframe tbody tr th {\n        vertical-align: top;\n    }\n\n    .dataframe thead th {\n        text-align: right;\n    }\n</style>\n<table border=\"1\" class=\"dataframe\">\n  <thead>\n    <tr style=\"text-align: right;\">\n      <th></th>\n      <th>Variable</th>\n      <th>Position</th>\n      <th>Label</th>\n    </tr>\n  </thead>\n  <tbody>\n    <tr>\n      <th>0</th>\n      <td>PSTV01</td>\n      <td>1</td>\n      <td>Nomor peserta</td>\n    </tr>\n    <tr>\n      <th>1</th>\n      <td>PSTV02</td>\n      <td>2</td>\n      <td>Nomor keluarga</td>\n    </tr>\n    <tr>\n      <th>2</th>\n      <td>PSTV15</td>\n      <td>3</td>\n      <td>Bobot</td>\n    </tr>\n    <tr>\n      <th>3</th>\n      <td>FKP02</td>\n      <td>4</td>\n      <td>ID Kunjungan FKTP</td>\n    </tr>\n    <tr>\n      <th>4</th>\n      <td>FKP03</td>\n      <td>5</td>\n      <td>Tanggal datang kunjungan FKTP</td>\n    </tr>\n    <tr>\n      <th>5</th>\n      <td>FKP04</td>\n      <td>6</td>\n      <td>Tanggal pulang kunjungan FKTP</td>\n    </tr>\n    <tr>\n      <th>6</th>\n      <td>FKP05</td>\n      <td>7</td>\n      <td>Provinsi FKTP</td>\n    </tr>\n    <tr>\n      <th>7</th>\n      <td>FKP06</td>\n      <td>8</td>\n      <td>Kabupaten/Kota FKTP</td>\n    </tr>\n    <tr>\n      <th>8</th>\n      <td>FKP07</td>\n      <td>9</td>\n      <td>Kepemilikan FKTP</td>\n    </tr>\n    <tr>\n      <th>9</th>\n      <td>FKP08</td>\n      <td>10</td>\n      <td>Jenis FKTP</td>\n    </tr>\n    <tr>\n      <th>10</th>\n      <td>FKP09</td>\n      <td>11</td>\n      <td>Tipe FKTP</td>\n    </tr>\n    <tr>\n      <th>11</th>\n      <td>FKP10</td>\n      <td>12</td>\n      <td>Tingkat Pelayanan FKTP</td>\n    </tr>\n    <tr>\n      <th>12</th>\n      <td>FKP11</td>\n      <td>13</td>\n      <td>Jenis Poli FKTP</td>\n    </tr>\n    <tr>\n      <th>13</th>\n      <td>FKP12</td>\n      <td>14</td>\n      <td>Segmen Peserta saat akses layanan FKTP</td>\n    </tr>\n    <tr>\n      <th>14</th>\n      <td>FKP14</td>\n      <td>16</td>\n      <td>Kode dan nama diagnosis ICD 10 (3 digit)</td>\n    </tr>\n    <tr>\n      <th>15</th>\n      <td>FKP14A</td>\n      <td>17</td>\n      <td>Kode diagnosis ICD 10 (3 digit)</td>\n    </tr>\n    <tr>\n      <th>16</th>\n      <td>FKP15</td>\n      <td>18</td>\n      <td>Kode diagnosis (beragam 3-5 digit)</td>\n    </tr>\n    <tr>\n      <th>17</th>\n      <td>FKP15A</td>\n      <td>19</td>\n      <td>Nama diagnosis berasal dari kode diagnosis FKP15</td>\n    </tr>\n    <tr>\n      <th>18</th>\n      <td>FKP16</td>\n      <td>20</td>\n      <td>Provinsi faskes tujuan rujukan</td>\n    </tr>\n    <tr>\n      <th>19</th>\n      <td>FKP17</td>\n      <td>21</td>\n      <td>Kabupaten/Kota faskes tujuan rujukan</td>\n    </tr>\n    <tr>\n      <th>20</th>\n      <td>FKP18</td>\n      <td>22</td>\n      <td>Kepemilikan faskes tujuan rujukan</td>\n    </tr>\n    <tr>\n      <th>21</th>\n      <td>FKP19</td>\n      <td>23</td>\n      <td>Jenis faskes tujuan rujukan</td>\n    </tr>\n    <tr>\n      <th>22</th>\n      <td>FKP20</td>\n      <td>24</td>\n      <td>Tipe faskes tujuan rujukan</td>\n    </tr>\n    <tr>\n      <th>23</th>\n      <td>FKP21</td>\n      <td>25</td>\n      <td>Poli faskes tujuan rujukan</td>\n    </tr>\n    <tr>\n      <th>24</th>\n      <td>FKP22</td>\n      <td>26</td>\n      <td>Jenis Kunjungan FKTP</td>\n    </tr>\n    <tr>\n      <th>25</th>\n      <td>FKP13Class</td>\n      <td>26</td>\n      <td>Kelas Status Pulang Peserta</td>\n    </tr>\n  </tbody>\n</table>\n</div>"
     },
     "execution_count": 9,
     "metadata": {},
     "output_type": "execute_result"
    }
   ],
   "source": [
    "columns"
   ]
  },
  {
   "cell_type": "code",
   "source": [
    "dataset['Bobot'].describe()"
   ],
   "metadata": {
    "colab": {
     "base_uri": "https://localhost:8080/"
    },
    "id": "Xuk2dEDwCAsg",
    "executionInfo": {
     "status": "ok",
     "timestamp": 1666500866323,
     "user_tz": -420,
     "elapsed": 20,
     "user": {
      "displayName": "Farhan Rahmadi Fajar",
      "userId": "10785679253509263230"
     }
    },
    "outputId": "e7d65213-0498-4e46-e5fb-57b36ca6b406"
   },
   "execution_count": 10,
   "outputs": [
    {
     "data": {
      "text/plain": "count    4.056898e+06\nmean     1.056512e+02\nstd      1.886474e+02\nmin      5.106980e-01\n25%      1.676808e+01\n50%      5.147561e+01\n75%      1.282688e+02\nmax      3.035342e+04\nName: Bobot, dtype: float64"
     },
     "execution_count": 10,
     "metadata": {},
     "output_type": "execute_result"
    }
   ]
  },
  {
   "cell_type": "markdown",
   "source": [
    "## Melakukan scaling terhadap column bobot agar data bisa seragam"
   ],
   "metadata": {
    "id": "7jyrUPxgYNZy"
   }
  },
  {
   "cell_type": "code",
   "source": [
    "dataset['Bobot'] = dataset['Bobot'] / dataset['Bobot'].max()\n",
    "dataset['Bobot']"
   ],
   "metadata": {
    "colab": {
     "base_uri": "https://localhost:8080/"
    },
    "id": "Z_XvWKSG0Tyl",
    "executionInfo": {
     "status": "ok",
     "timestamp": 1666500866837,
     "user_tz": -420,
     "elapsed": 27,
     "user": {
      "displayName": "Farhan Rahmadi Fajar",
      "userId": "10785679253509263230"
     }
    },
    "outputId": "700db5ba-a80f-4083-bfb8-ed22d39a2f7c"
   },
   "execution_count": 11,
   "outputs": [
    {
     "data": {
      "text/plain": "0          0.000661\n1          0.000087\n2          0.000035\n3          0.012016\n4          0.000035\n             ...   \n4056893    0.000469\n4056894    0.000128\n4056895    0.000202\n4056896    0.000875\n4056897    0.002911\nName: Bobot, Length: 4056898, dtype: float64"
     },
     "execution_count": 11,
     "metadata": {},
     "output_type": "execute_result"
    }
   ]
  },
  {
   "cell_type": "code",
   "source": [
    "dataset = dataset.drop(['Nomor peserta', 'Nomor keluarga', 'ID Kunjungan FKTP'], axis=1)"
   ],
   "metadata": {
    "id": "ulHCnPkw0xfj",
    "executionInfo": {
     "status": "ok",
     "timestamp": 1666500866839,
     "user_tz": -420,
     "elapsed": 15,
     "user": {
      "displayName": "Farhan Rahmadi Fajar",
      "userId": "10785679253509263230"
     }
    }
   },
   "execution_count": 12,
   "outputs": []
  },
  {
   "cell_type": "markdown",
   "source": [
    "## Merge data Provinsi FKTP dengan Label Provinsi"
   ],
   "metadata": {
    "id": "HG8V3M0dYZyT"
   }
  },
  {
   "cell_type": "code",
   "source": [
    "dataset['Provinsi FKTP'] = dataset['Provinsi FKTP'].astype(int)"
   ],
   "metadata": {
    "id": "agCfFRay2fp0",
    "executionInfo": {
     "status": "ok",
     "timestamp": 1666500866840,
     "user_tz": -420,
     "elapsed": 14,
     "user": {
      "displayName": "Farhan Rahmadi Fajar",
      "userId": "10785679253509263230"
     }
    }
   },
   "execution_count": 13,
   "outputs": []
  },
  {
   "cell_type": "code",
   "source": [
    "provinsi['value'] = provinsi['value'].astype(int)"
   ],
   "metadata": {
    "id": "WueR2_lr5kOL",
    "executionInfo": {
     "status": "ok",
     "timestamp": 1666500866841,
     "user_tz": -420,
     "elapsed": 14,
     "user": {
      "displayName": "Farhan Rahmadi Fajar",
      "userId": "10785679253509263230"
     }
    }
   },
   "execution_count": 14,
   "outputs": []
  },
  {
   "cell_type": "code",
   "source": [
    "merged_data = pd.merge(left=dataset, right=provinsi, how='inner',left_on='Provinsi FKTP',right_on='value')"
   ],
   "metadata": {
    "id": "N4dGJorsRPaR",
    "executionInfo": {
     "status": "ok",
     "timestamp": 1666500873438,
     "user_tz": -420,
     "elapsed": 6610,
     "user": {
      "displayName": "Farhan Rahmadi Fajar",
      "userId": "10785679253509263230"
     }
    }
   },
   "execution_count": 15,
   "outputs": []
  },
  {
   "cell_type": "code",
   "source": [
    "merged_data.sample(10).filter(items=['Provinsi FKTP', 'label'])"
   ],
   "metadata": {
    "colab": {
     "base_uri": "https://localhost:8080/",
     "height": 363
    },
    "id": "dl8ec_dlRtov",
    "executionInfo": {
     "status": "ok",
     "timestamp": 1666500875865,
     "user_tz": -420,
     "elapsed": 2475,
     "user": {
      "displayName": "Farhan Rahmadi Fajar",
      "userId": "10785679253509263230"
     }
    },
    "outputId": "5108406f-b5ad-4cc7-aa12-fd95044c72cf"
   },
   "execution_count": 16,
   "outputs": [
    {
     "data": {
      "text/plain": "         Provinsi FKTP           label\n310351              35      Jawa Timur\n1146003             33     Jawa Tengah\n176303              51            Bali\n2218089             31     DKI Jakarta\n1101979             33     Jawa Tengah\n2045039             21  Kepulauan Riau\n3612954             32      Jawa Barat\n3308060             32      Jawa Barat\n1291245             33     Jawa Tengah\n3417050             32      Jawa Barat",
      "text/html": "<div>\n<style scoped>\n    .dataframe tbody tr th:only-of-type {\n        vertical-align: middle;\n    }\n\n    .dataframe tbody tr th {\n        vertical-align: top;\n    }\n\n    .dataframe thead th {\n        text-align: right;\n    }\n</style>\n<table border=\"1\" class=\"dataframe\">\n  <thead>\n    <tr style=\"text-align: right;\">\n      <th></th>\n      <th>Provinsi FKTP</th>\n      <th>label</th>\n    </tr>\n  </thead>\n  <tbody>\n    <tr>\n      <th>310351</th>\n      <td>35</td>\n      <td>Jawa Timur</td>\n    </tr>\n    <tr>\n      <th>1146003</th>\n      <td>33</td>\n      <td>Jawa Tengah</td>\n    </tr>\n    <tr>\n      <th>176303</th>\n      <td>51</td>\n      <td>Bali</td>\n    </tr>\n    <tr>\n      <th>2218089</th>\n      <td>31</td>\n      <td>DKI Jakarta</td>\n    </tr>\n    <tr>\n      <th>1101979</th>\n      <td>33</td>\n      <td>Jawa Tengah</td>\n    </tr>\n    <tr>\n      <th>2045039</th>\n      <td>21</td>\n      <td>Kepulauan Riau</td>\n    </tr>\n    <tr>\n      <th>3612954</th>\n      <td>32</td>\n      <td>Jawa Barat</td>\n    </tr>\n    <tr>\n      <th>3308060</th>\n      <td>32</td>\n      <td>Jawa Barat</td>\n    </tr>\n    <tr>\n      <th>1291245</th>\n      <td>33</td>\n      <td>Jawa Tengah</td>\n    </tr>\n    <tr>\n      <th>3417050</th>\n      <td>32</td>\n      <td>Jawa Barat</td>\n    </tr>\n  </tbody>\n</table>\n</div>"
     },
     "execution_count": 16,
     "metadata": {},
     "output_type": "execute_result"
    }
   ]
  },
  {
   "cell_type": "code",
   "source": [
    "dataset['Provinsi'] = merged_data['label']\n",
    "dataset.sample(10).filter(items=['Provinsi FKTP', 'Provinsi'])"
   ],
   "metadata": {
    "colab": {
     "base_uri": "https://localhost:8080/",
     "height": 363
    },
    "id": "2vyFBTEnVXi4",
    "executionInfo": {
     "status": "ok",
     "timestamp": 1666500876444,
     "user_tz": -420,
     "elapsed": 582,
     "user": {
      "displayName": "Farhan Rahmadi Fajar",
      "userId": "10785679253509263230"
     }
    },
    "outputId": "b35214ce-f817-47ca-a3ef-7aaa3a38b823"
   },
   "execution_count": 17,
   "outputs": [
    {
     "data": {
      "text/plain": "         Provinsi FKTP             Provinsi\n1879527             73     Sulawesi Selatan\n1374348             74          Jawa Tengah\n2902899             32      Sulawesi Tengah\n809586              76    Kalimantan Tengah\n282571              33           Jawa Timur\n1083754             31          Jawa Tengah\n3161128             35           Jawa Barat\n371779              34           Jawa Timur\n1103406             15          Jawa Tengah\n2535916             73  Nusa Tenggara Timur",
      "text/html": "<div>\n<style scoped>\n    .dataframe tbody tr th:only-of-type {\n        vertical-align: middle;\n    }\n\n    .dataframe tbody tr th {\n        vertical-align: top;\n    }\n\n    .dataframe thead th {\n        text-align: right;\n    }\n</style>\n<table border=\"1\" class=\"dataframe\">\n  <thead>\n    <tr style=\"text-align: right;\">\n      <th></th>\n      <th>Provinsi FKTP</th>\n      <th>Provinsi</th>\n    </tr>\n  </thead>\n  <tbody>\n    <tr>\n      <th>1879527</th>\n      <td>73</td>\n      <td>Sulawesi Selatan</td>\n    </tr>\n    <tr>\n      <th>1374348</th>\n      <td>74</td>\n      <td>Jawa Tengah</td>\n    </tr>\n    <tr>\n      <th>2902899</th>\n      <td>32</td>\n      <td>Sulawesi Tengah</td>\n    </tr>\n    <tr>\n      <th>809586</th>\n      <td>76</td>\n      <td>Kalimantan Tengah</td>\n    </tr>\n    <tr>\n      <th>282571</th>\n      <td>33</td>\n      <td>Jawa Timur</td>\n    </tr>\n    <tr>\n      <th>1083754</th>\n      <td>31</td>\n      <td>Jawa Tengah</td>\n    </tr>\n    <tr>\n      <th>3161128</th>\n      <td>35</td>\n      <td>Jawa Barat</td>\n    </tr>\n    <tr>\n      <th>371779</th>\n      <td>34</td>\n      <td>Jawa Timur</td>\n    </tr>\n    <tr>\n      <th>1103406</th>\n      <td>15</td>\n      <td>Jawa Tengah</td>\n    </tr>\n    <tr>\n      <th>2535916</th>\n      <td>73</td>\n      <td>Nusa Tenggara Timur</td>\n    </tr>\n  </tbody>\n</table>\n</div>"
     },
     "execution_count": 17,
     "metadata": {},
     "output_type": "execute_result"
    }
   ]
  },
  {
   "cell_type": "markdown",
   "source": [
    "## Merge Kepemilikan FTKP dengan Label Kepemilikan"
   ],
   "metadata": {
    "id": "4ZR3pdw8YnmE"
   }
  },
  {
   "cell_type": "code",
   "source": [
    "kepemilikan['label'][8] = 'Swasta'\n",
    "kepemilikan['value'] = kepemilikan['value'].astype(int)\n",
    "merged_data = pd.merge(left=dataset, right=kepemilikan, how='inner',left_on='Kepemilikan FKTP',right_on='value')\n",
    "merged_data.sample(10).filter(items=['Kepemilikan FKTP', 'label'])"
   ],
   "metadata": {
    "colab": {
     "base_uri": "https://localhost:8080/",
     "height": 363
    },
    "id": "V-KaD_P7VlCq",
    "executionInfo": {
     "status": "ok",
     "timestamp": 1666500879914,
     "user_tz": -420,
     "elapsed": 3478,
     "user": {
      "displayName": "Farhan Rahmadi Fajar",
      "userId": "10785679253509263230"
     }
    },
    "outputId": "e6e63579-1fbf-4329-ca75-64511070d5a1"
   },
   "execution_count": 18,
   "outputs": [
    {
     "name": "stderr",
     "output_type": "stream",
     "text": [
      "/tmp/ipykernel_190878/3237086925.py:1: SettingWithCopyWarning: \n",
      "A value is trying to be set on a copy of a slice from a DataFrame\n",
      "\n",
      "See the caveats in the documentation: https://pandas.pydata.org/pandas-docs/stable/user_guide/indexing.html#returning-a-view-versus-a-copy\n",
      "  kepemilikan['label'][8] = 'Swasta'\n"
     ]
    },
    {
     "data": {
      "text/plain": "         Kepemilikan FKTP   label\n173949                  3  PemKab\n1504356                 3  PemKab\n3861702                 4   POLRI\n1123098                 3  PemKab\n3257271                 9  Swasta\n2035088                 3  PemKab\n892612                  3  PemKab\n1845558                 3  PemKab\n730638                  3  PemKab\n3551618                 9  Swasta",
      "text/html": "<div>\n<style scoped>\n    .dataframe tbody tr th:only-of-type {\n        vertical-align: middle;\n    }\n\n    .dataframe tbody tr th {\n        vertical-align: top;\n    }\n\n    .dataframe thead th {\n        text-align: right;\n    }\n</style>\n<table border=\"1\" class=\"dataframe\">\n  <thead>\n    <tr style=\"text-align: right;\">\n      <th></th>\n      <th>Kepemilikan FKTP</th>\n      <th>label</th>\n    </tr>\n  </thead>\n  <tbody>\n    <tr>\n      <th>173949</th>\n      <td>3</td>\n      <td>PemKab</td>\n    </tr>\n    <tr>\n      <th>1504356</th>\n      <td>3</td>\n      <td>PemKab</td>\n    </tr>\n    <tr>\n      <th>3861702</th>\n      <td>4</td>\n      <td>POLRI</td>\n    </tr>\n    <tr>\n      <th>1123098</th>\n      <td>3</td>\n      <td>PemKab</td>\n    </tr>\n    <tr>\n      <th>3257271</th>\n      <td>9</td>\n      <td>Swasta</td>\n    </tr>\n    <tr>\n      <th>2035088</th>\n      <td>3</td>\n      <td>PemKab</td>\n    </tr>\n    <tr>\n      <th>892612</th>\n      <td>3</td>\n      <td>PemKab</td>\n    </tr>\n    <tr>\n      <th>1845558</th>\n      <td>3</td>\n      <td>PemKab</td>\n    </tr>\n    <tr>\n      <th>730638</th>\n      <td>3</td>\n      <td>PemKab</td>\n    </tr>\n    <tr>\n      <th>3551618</th>\n      <td>9</td>\n      <td>Swasta</td>\n    </tr>\n  </tbody>\n</table>\n</div>"
     },
     "execution_count": 18,
     "metadata": {},
     "output_type": "execute_result"
    }
   ]
  },
  {
   "cell_type": "code",
   "source": [
    "dataset['Kepemilikan'] = merged_data['label']\n",
    "dataset.sample(10).filter(items=['Kepemilikan FKTP', 'Kepemilikan'])"
   ],
   "metadata": {
    "colab": {
     "base_uri": "https://localhost:8080/",
     "height": 363
    },
    "id": "gbB555AvaqvU",
    "executionInfo": {
     "status": "ok",
     "timestamp": 1666500880465,
     "user_tz": -420,
     "elapsed": 554,
     "user": {
      "displayName": "Farhan Rahmadi Fajar",
      "userId": "10785679253509263230"
     }
    },
    "outputId": "f710435e-7bbd-4ca9-b790-0d19fe55d6de"
   },
   "execution_count": 19,
   "outputs": [
    {
     "data": {
      "text/plain": "         Kepemilikan FKTP Kepemilikan\n2789668                 3      Swasta\n1507537                 9      PemKab\n3195568                 3      Swasta\n538173                  3      PemKab\n1664203                 9      PemKab\n3474085                 9      Swasta\n941999                  4      PemKab\n2921269                 9      Swasta\n1631866                 3      PemKab\n1122283                 3      PemKab",
      "text/html": "<div>\n<style scoped>\n    .dataframe tbody tr th:only-of-type {\n        vertical-align: middle;\n    }\n\n    .dataframe tbody tr th {\n        vertical-align: top;\n    }\n\n    .dataframe thead th {\n        text-align: right;\n    }\n</style>\n<table border=\"1\" class=\"dataframe\">\n  <thead>\n    <tr style=\"text-align: right;\">\n      <th></th>\n      <th>Kepemilikan FKTP</th>\n      <th>Kepemilikan</th>\n    </tr>\n  </thead>\n  <tbody>\n    <tr>\n      <th>2789668</th>\n      <td>3</td>\n      <td>Swasta</td>\n    </tr>\n    <tr>\n      <th>1507537</th>\n      <td>9</td>\n      <td>PemKab</td>\n    </tr>\n    <tr>\n      <th>3195568</th>\n      <td>3</td>\n      <td>Swasta</td>\n    </tr>\n    <tr>\n      <th>538173</th>\n      <td>3</td>\n      <td>PemKab</td>\n    </tr>\n    <tr>\n      <th>1664203</th>\n      <td>9</td>\n      <td>PemKab</td>\n    </tr>\n    <tr>\n      <th>3474085</th>\n      <td>9</td>\n      <td>Swasta</td>\n    </tr>\n    <tr>\n      <th>941999</th>\n      <td>4</td>\n      <td>PemKab</td>\n    </tr>\n    <tr>\n      <th>2921269</th>\n      <td>9</td>\n      <td>Swasta</td>\n    </tr>\n    <tr>\n      <th>1631866</th>\n      <td>3</td>\n      <td>PemKab</td>\n    </tr>\n    <tr>\n      <th>1122283</th>\n      <td>3</td>\n      <td>PemKab</td>\n    </tr>\n  </tbody>\n</table>\n</div>"
     },
     "execution_count": 19,
     "metadata": {},
     "output_type": "execute_result"
    }
   ]
  },
  {
   "cell_type": "markdown",
   "source": [
    "## Merge Jenis FKTP dengan Label Jenis"
   ],
   "metadata": {
    "id": "DUbmHK6mbITA"
   }
  },
  {
   "cell_type": "code",
   "source": [
    "jenis['value'] = jenis['value'].astype(int)\n",
    "merged_data = pd.merge(left=dataset, right=jenis, how='inner',left_on='Jenis FKTP',right_on='value')\n",
    "merged_data.sample(10).filter(items=['Jenis FKTP', 'label'])"
   ],
   "metadata": {
    "colab": {
     "base_uri": "https://localhost:8080/",
     "height": 363
    },
    "id": "v17DrKSlawwQ",
    "executionInfo": {
     "status": "ok",
     "timestamp": 1666500884823,
     "user_tz": -420,
     "elapsed": 4362,
     "user": {
      "displayName": "Farhan Rahmadi Fajar",
      "userId": "10785679253509263230"
     }
    },
    "outputId": "edb00b7a-31b8-4e40-fe3f-0d50f18f3bdb"
   },
   "execution_count": 20,
   "outputs": [
    {
     "data": {
      "text/plain": "         Jenis FKTP           label\n2763772           3     Dokter Umum\n3639216           2  Klinik Pratama\n3102904           2  Klinik Pratama\n714560            1       Puskesmas\n2802978           3     Dokter Umum\n3281290           2  Klinik Pratama\n1967015           1       Puskesmas\n2199853           3     Dokter Umum\n2042539           1       Puskesmas\n3328790           2  Klinik Pratama",
      "text/html": "<div>\n<style scoped>\n    .dataframe tbody tr th:only-of-type {\n        vertical-align: middle;\n    }\n\n    .dataframe tbody tr th {\n        vertical-align: top;\n    }\n\n    .dataframe thead th {\n        text-align: right;\n    }\n</style>\n<table border=\"1\" class=\"dataframe\">\n  <thead>\n    <tr style=\"text-align: right;\">\n      <th></th>\n      <th>Jenis FKTP</th>\n      <th>label</th>\n    </tr>\n  </thead>\n  <tbody>\n    <tr>\n      <th>2763772</th>\n      <td>3</td>\n      <td>Dokter Umum</td>\n    </tr>\n    <tr>\n      <th>3639216</th>\n      <td>2</td>\n      <td>Klinik Pratama</td>\n    </tr>\n    <tr>\n      <th>3102904</th>\n      <td>2</td>\n      <td>Klinik Pratama</td>\n    </tr>\n    <tr>\n      <th>714560</th>\n      <td>1</td>\n      <td>Puskesmas</td>\n    </tr>\n    <tr>\n      <th>2802978</th>\n      <td>3</td>\n      <td>Dokter Umum</td>\n    </tr>\n    <tr>\n      <th>3281290</th>\n      <td>2</td>\n      <td>Klinik Pratama</td>\n    </tr>\n    <tr>\n      <th>1967015</th>\n      <td>1</td>\n      <td>Puskesmas</td>\n    </tr>\n    <tr>\n      <th>2199853</th>\n      <td>3</td>\n      <td>Dokter Umum</td>\n    </tr>\n    <tr>\n      <th>2042539</th>\n      <td>1</td>\n      <td>Puskesmas</td>\n    </tr>\n    <tr>\n      <th>3328790</th>\n      <td>2</td>\n      <td>Klinik Pratama</td>\n    </tr>\n  </tbody>\n</table>\n</div>"
     },
     "execution_count": 20,
     "metadata": {},
     "output_type": "execute_result"
    }
   ]
  },
  {
   "cell_type": "code",
   "source": [
    "dataset['Jenis'] = merged_data['label']\n",
    "dataset.sample(10).filter(items=['Kepemilikan FKTP', 'Jenis'])"
   ],
   "metadata": {
    "colab": {
     "base_uri": "https://localhost:8080/",
     "height": 363
    },
    "id": "PyqNiHQccBdv",
    "executionInfo": {
     "status": "ok",
     "timestamp": 1666500885163,
     "user_tz": -420,
     "elapsed": 348,
     "user": {
      "displayName": "Farhan Rahmadi Fajar",
      "userId": "10785679253509263230"
     }
    },
    "outputId": "b2b549d1-6564-4401-976b-707a8afa492d"
   },
   "execution_count": 21,
   "outputs": [
    {
     "data": {
      "text/plain": "         Kepemilikan FKTP           Jenis\n2678838                 9     Dokter Umum\n259296                  4       Puskesmas\n1201632                 9       Puskesmas\n180948                  9       Puskesmas\n1372955                 9       Puskesmas\n1650124                 9       Puskesmas\n1107891                 9       Puskesmas\n1613363                 9       Puskesmas\n3886881                 9  Klinik Pratama\n2915889                 9  Klinik Pratama",
      "text/html": "<div>\n<style scoped>\n    .dataframe tbody tr th:only-of-type {\n        vertical-align: middle;\n    }\n\n    .dataframe tbody tr th {\n        vertical-align: top;\n    }\n\n    .dataframe thead th {\n        text-align: right;\n    }\n</style>\n<table border=\"1\" class=\"dataframe\">\n  <thead>\n    <tr style=\"text-align: right;\">\n      <th></th>\n      <th>Kepemilikan FKTP</th>\n      <th>Jenis</th>\n    </tr>\n  </thead>\n  <tbody>\n    <tr>\n      <th>2678838</th>\n      <td>9</td>\n      <td>Dokter Umum</td>\n    </tr>\n    <tr>\n      <th>259296</th>\n      <td>4</td>\n      <td>Puskesmas</td>\n    </tr>\n    <tr>\n      <th>1201632</th>\n      <td>9</td>\n      <td>Puskesmas</td>\n    </tr>\n    <tr>\n      <th>180948</th>\n      <td>9</td>\n      <td>Puskesmas</td>\n    </tr>\n    <tr>\n      <th>1372955</th>\n      <td>9</td>\n      <td>Puskesmas</td>\n    </tr>\n    <tr>\n      <th>1650124</th>\n      <td>9</td>\n      <td>Puskesmas</td>\n    </tr>\n    <tr>\n      <th>1107891</th>\n      <td>9</td>\n      <td>Puskesmas</td>\n    </tr>\n    <tr>\n      <th>1613363</th>\n      <td>9</td>\n      <td>Puskesmas</td>\n    </tr>\n    <tr>\n      <th>3886881</th>\n      <td>9</td>\n      <td>Klinik Pratama</td>\n    </tr>\n    <tr>\n      <th>2915889</th>\n      <td>9</td>\n      <td>Klinik Pratama</td>\n    </tr>\n  </tbody>\n</table>\n</div>"
     },
     "execution_count": 21,
     "metadata": {},
     "output_type": "execute_result"
    }
   ]
  },
  {
   "cell_type": "markdown",
   "source": [
    "##Merge Tipe FTKP dengan Label Kepemilikan"
   ],
   "metadata": {
    "id": "cMIOV-0Vcrz8"
   }
  },
  {
   "cell_type": "code",
   "source": [
    "tipe['value'] = tipe['value'].astype(int)\n",
    "merged_data = pd.merge(left=dataset, right=tipe, how='inner',left_on='Tipe FKTP',right_on='value')\n",
    "merged_data.sample(10).filter(items=['Tipe FKTP', 'label'])"
   ],
   "metadata": {
    "colab": {
     "base_uri": "https://localhost:8080/",
     "height": 363
    },
    "id": "JLKR4sUocaix",
    "executionInfo": {
     "status": "ok",
     "timestamp": 1666500890079,
     "user_tz": -420,
     "elapsed": 4920,
     "user": {
      "displayName": "Farhan Rahmadi Fajar",
      "userId": "10785679253509263230"
     }
    },
    "outputId": "68dce2c5-405d-493a-cc78-44eabdc05a04"
   },
   "execution_count": 22,
   "outputs": [
    {
     "data": {
      "text/plain": "         Tipe FKTP                  label\n3367054          3         Non Rawat Inap\n4013244          5      Klinik Rawat Inap\n1760798          1  Klinik Non Rawat Inap\n297717           4             Rawat Inap\n2793229          3         Non Rawat Inap\n1878016          1  Klinik Non Rawat Inap\n62638            4             Rawat Inap\n477955           4             Rawat Inap\n3567587          3         Non Rawat Inap\n3523720          3         Non Rawat Inap",
      "text/html": "<div>\n<style scoped>\n    .dataframe tbody tr th:only-of-type {\n        vertical-align: middle;\n    }\n\n    .dataframe tbody tr th {\n        vertical-align: top;\n    }\n\n    .dataframe thead th {\n        text-align: right;\n    }\n</style>\n<table border=\"1\" class=\"dataframe\">\n  <thead>\n    <tr style=\"text-align: right;\">\n      <th></th>\n      <th>Tipe FKTP</th>\n      <th>label</th>\n    </tr>\n  </thead>\n  <tbody>\n    <tr>\n      <th>3367054</th>\n      <td>3</td>\n      <td>Non Rawat Inap</td>\n    </tr>\n    <tr>\n      <th>4013244</th>\n      <td>5</td>\n      <td>Klinik Rawat Inap</td>\n    </tr>\n    <tr>\n      <th>1760798</th>\n      <td>1</td>\n      <td>Klinik Non Rawat Inap</td>\n    </tr>\n    <tr>\n      <th>297717</th>\n      <td>4</td>\n      <td>Rawat Inap</td>\n    </tr>\n    <tr>\n      <th>2793229</th>\n      <td>3</td>\n      <td>Non Rawat Inap</td>\n    </tr>\n    <tr>\n      <th>1878016</th>\n      <td>1</td>\n      <td>Klinik Non Rawat Inap</td>\n    </tr>\n    <tr>\n      <th>62638</th>\n      <td>4</td>\n      <td>Rawat Inap</td>\n    </tr>\n    <tr>\n      <th>477955</th>\n      <td>4</td>\n      <td>Rawat Inap</td>\n    </tr>\n    <tr>\n      <th>3567587</th>\n      <td>3</td>\n      <td>Non Rawat Inap</td>\n    </tr>\n    <tr>\n      <th>3523720</th>\n      <td>3</td>\n      <td>Non Rawat Inap</td>\n    </tr>\n  </tbody>\n</table>\n</div>"
     },
     "execution_count": 22,
     "metadata": {},
     "output_type": "execute_result"
    }
   ]
  },
  {
   "cell_type": "code",
   "source": [
    "dataset['Tipe'] = merged_data['label']\n",
    "dataset.sample(10).filter(items=['Tipe FKTP', 'Tipe'])"
   ],
   "metadata": {
    "colab": {
     "base_uri": "https://localhost:8080/",
     "height": 363
    },
    "id": "o-NJ1wToc6jy",
    "executionInfo": {
     "status": "ok",
     "timestamp": 1666500890619,
     "user_tz": -420,
     "elapsed": 544,
     "user": {
      "displayName": "Farhan Rahmadi Fajar",
      "userId": "10785679253509263230"
     }
    },
    "outputId": "13ca4f8b-8460-4505-c252-f1ae8a973d0c"
   },
   "execution_count": 23,
   "outputs": [
    {
     "data": {
      "text/plain": "         Tipe FKTP                       Tipe\n708559           3                 Rawat Inap\n2011882          4      Klinik Non Rawat Inap\n3053343          3             Non Rawat Inap\n1103325          4  Dokter Prakter Perorangan\n3905024          2          Klinik Rawat Inap\n698867           2                 Rawat Inap\n2494645          4      Klinik Non Rawat Inap\n2164918          2      Klinik Non Rawat Inap\n2868364          1             Non Rawat Inap\n1611796          1      Klinik Non Rawat Inap",
      "text/html": "<div>\n<style scoped>\n    .dataframe tbody tr th:only-of-type {\n        vertical-align: middle;\n    }\n\n    .dataframe tbody tr th {\n        vertical-align: top;\n    }\n\n    .dataframe thead th {\n        text-align: right;\n    }\n</style>\n<table border=\"1\" class=\"dataframe\">\n  <thead>\n    <tr style=\"text-align: right;\">\n      <th></th>\n      <th>Tipe FKTP</th>\n      <th>Tipe</th>\n    </tr>\n  </thead>\n  <tbody>\n    <tr>\n      <th>708559</th>\n      <td>3</td>\n      <td>Rawat Inap</td>\n    </tr>\n    <tr>\n      <th>2011882</th>\n      <td>4</td>\n      <td>Klinik Non Rawat Inap</td>\n    </tr>\n    <tr>\n      <th>3053343</th>\n      <td>3</td>\n      <td>Non Rawat Inap</td>\n    </tr>\n    <tr>\n      <th>1103325</th>\n      <td>4</td>\n      <td>Dokter Prakter Perorangan</td>\n    </tr>\n    <tr>\n      <th>3905024</th>\n      <td>2</td>\n      <td>Klinik Rawat Inap</td>\n    </tr>\n    <tr>\n      <th>698867</th>\n      <td>2</td>\n      <td>Rawat Inap</td>\n    </tr>\n    <tr>\n      <th>2494645</th>\n      <td>4</td>\n      <td>Klinik Non Rawat Inap</td>\n    </tr>\n    <tr>\n      <th>2164918</th>\n      <td>2</td>\n      <td>Klinik Non Rawat Inap</td>\n    </tr>\n    <tr>\n      <th>2868364</th>\n      <td>1</td>\n      <td>Non Rawat Inap</td>\n    </tr>\n    <tr>\n      <th>1611796</th>\n      <td>1</td>\n      <td>Klinik Non Rawat Inap</td>\n    </tr>\n  </tbody>\n</table>\n</div>"
     },
     "execution_count": 23,
     "metadata": {},
     "output_type": "execute_result"
    }
   ]
  },
  {
   "cell_type": "markdown",
   "source": [
    "## Merge Tingkat Pelayanan FTKP dengan Label Tingkat Pelayanan"
   ],
   "metadata": {
    "id": "0M3rZuu6dWsU"
   }
  },
  {
   "cell_type": "code",
   "source": [
    "tingkat_pelayanan['value'] = tingkat_pelayanan['value'].astype(int)\n",
    "merged_data = pd.merge(left=dataset, right=tingkat_pelayanan, how='inner',left_on='Tingkat Pelayanan FKTP',right_on='value')\n",
    "merged_data.sample(10).filter(items=['Tingkat Pelayanan FKTP', 'label'])"
   ],
   "metadata": {
    "colab": {
     "base_uri": "https://localhost:8080/",
     "height": 363
    },
    "id": "65bsNR87eEFz",
    "executionInfo": {
     "status": "ok",
     "timestamp": 1666500894392,
     "user_tz": -420,
     "elapsed": 3777,
     "user": {
      "displayName": "Farhan Rahmadi Fajar",
      "userId": "10785679253509263230"
     }
    },
    "outputId": "7b8c5511-fe00-4d07-ccde-ed3762fc881b"
   },
   "execution_count": 24,
   "outputs": [
    {
     "data": {
      "text/plain": "         Tingkat Pelayanan FKTP     label\n3733799                       1      RJTP\n3931367                       3  Promotif\n973229                        1      RJTP\n1125106                       1      RJTP\n296414                        1      RJTP\n1678981                       1      RJTP\n2896847                       1      RJTP\n3073606                       1      RJTP\n3531120                       1      RJTP\n2979435                       1      RJTP",
      "text/html": "<div>\n<style scoped>\n    .dataframe tbody tr th:only-of-type {\n        vertical-align: middle;\n    }\n\n    .dataframe tbody tr th {\n        vertical-align: top;\n    }\n\n    .dataframe thead th {\n        text-align: right;\n    }\n</style>\n<table border=\"1\" class=\"dataframe\">\n  <thead>\n    <tr style=\"text-align: right;\">\n      <th></th>\n      <th>Tingkat Pelayanan FKTP</th>\n      <th>label</th>\n    </tr>\n  </thead>\n  <tbody>\n    <tr>\n      <th>3733799</th>\n      <td>1</td>\n      <td>RJTP</td>\n    </tr>\n    <tr>\n      <th>3931367</th>\n      <td>3</td>\n      <td>Promotif</td>\n    </tr>\n    <tr>\n      <th>973229</th>\n      <td>1</td>\n      <td>RJTP</td>\n    </tr>\n    <tr>\n      <th>1125106</th>\n      <td>1</td>\n      <td>RJTP</td>\n    </tr>\n    <tr>\n      <th>296414</th>\n      <td>1</td>\n      <td>RJTP</td>\n    </tr>\n    <tr>\n      <th>1678981</th>\n      <td>1</td>\n      <td>RJTP</td>\n    </tr>\n    <tr>\n      <th>2896847</th>\n      <td>1</td>\n      <td>RJTP</td>\n    </tr>\n    <tr>\n      <th>3073606</th>\n      <td>1</td>\n      <td>RJTP</td>\n    </tr>\n    <tr>\n      <th>3531120</th>\n      <td>1</td>\n      <td>RJTP</td>\n    </tr>\n    <tr>\n      <th>2979435</th>\n      <td>1</td>\n      <td>RJTP</td>\n    </tr>\n  </tbody>\n</table>\n</div>"
     },
     "execution_count": 24,
     "metadata": {},
     "output_type": "execute_result"
    }
   ]
  },
  {
   "cell_type": "code",
   "source": [
    "dataset['Tingkat Pelayanan'] = merged_data['label']\n",
    "dataset.sample(10).filter(items=['Tingkat Pelayanan FKTP', 'Tingkat Pelayanan'])"
   ],
   "metadata": {
    "colab": {
     "base_uri": "https://localhost:8080/",
     "height": 363
    },
    "id": "NduIWjgfecrR",
    "executionInfo": {
     "status": "ok",
     "timestamp": 1666500894914,
     "user_tz": -420,
     "elapsed": 530,
     "user": {
      "displayName": "Farhan Rahmadi Fajar",
      "userId": "10785679253509263230"
     }
    },
    "outputId": "8303c394-ada2-43de-ea93-f7466ebfaa9c"
   },
   "execution_count": 25,
   "outputs": [
    {
     "data": {
      "text/plain": "         Tingkat Pelayanan FKTP Tingkat Pelayanan\n1428270                       1              RJTP\n2656872                       1              RJTP\n940842                        1              RJTP\n92151                         1              RJTP\n2192545                       1              RJTP\n1321138                       1              RJTP\n2474069                       1              RJTP\n3197322                       1              RJTP\n3895110                       1              RJTP\n3167284                       1              RJTP",
      "text/html": "<div>\n<style scoped>\n    .dataframe tbody tr th:only-of-type {\n        vertical-align: middle;\n    }\n\n    .dataframe tbody tr th {\n        vertical-align: top;\n    }\n\n    .dataframe thead th {\n        text-align: right;\n    }\n</style>\n<table border=\"1\" class=\"dataframe\">\n  <thead>\n    <tr style=\"text-align: right;\">\n      <th></th>\n      <th>Tingkat Pelayanan FKTP</th>\n      <th>Tingkat Pelayanan</th>\n    </tr>\n  </thead>\n  <tbody>\n    <tr>\n      <th>1428270</th>\n      <td>1</td>\n      <td>RJTP</td>\n    </tr>\n    <tr>\n      <th>2656872</th>\n      <td>1</td>\n      <td>RJTP</td>\n    </tr>\n    <tr>\n      <th>940842</th>\n      <td>1</td>\n      <td>RJTP</td>\n    </tr>\n    <tr>\n      <th>92151</th>\n      <td>1</td>\n      <td>RJTP</td>\n    </tr>\n    <tr>\n      <th>2192545</th>\n      <td>1</td>\n      <td>RJTP</td>\n    </tr>\n    <tr>\n      <th>1321138</th>\n      <td>1</td>\n      <td>RJTP</td>\n    </tr>\n    <tr>\n      <th>2474069</th>\n      <td>1</td>\n      <td>RJTP</td>\n    </tr>\n    <tr>\n      <th>3197322</th>\n      <td>1</td>\n      <td>RJTP</td>\n    </tr>\n    <tr>\n      <th>3895110</th>\n      <td>1</td>\n      <td>RJTP</td>\n    </tr>\n    <tr>\n      <th>3167284</th>\n      <td>1</td>\n      <td>RJTP</td>\n    </tr>\n  </tbody>\n</table>\n</div>"
     },
     "execution_count": 25,
     "metadata": {},
     "output_type": "execute_result"
    }
   ]
  },
  {
   "cell_type": "markdown",
   "source": [
    "## Merge Jenis Poli FTKP dengan Label Jenis Poli"
   ],
   "metadata": {
    "collapsed": false
   }
  },
  {
   "cell_type": "code",
   "source": [
    "jenis_poli['value'] = jenis_poli['value'].astype(int)\n",
    "merged_data = pd.merge(left=dataset, right=jenis_poli, how='inner',left_on='Jenis Poli FKTP',right_on='value')\n",
    "merged_data.sample(10).filter(items=['Tingkat Pelayanan FKTP', 'label'])"
   ],
   "metadata": {
    "colab": {
     "base_uri": "https://localhost:8080/",
     "height": 363
    },
    "id": "Ys-sGAXue4yZ",
    "executionInfo": {
     "status": "ok",
     "timestamp": 1666500900402,
     "user_tz": -420,
     "elapsed": 5490,
     "user": {
      "displayName": "Farhan Rahmadi Fajar",
      "userId": "10785679253509263230"
     }
    },
    "outputId": "1de8e98d-bb4d-4b14-c4cc-7047fd372268"
   },
   "execution_count": 26,
   "outputs": [
    {
     "data": {
      "text/plain": "         Tingkat Pelayanan FKTP       label\n1022012                       1   POLI UMUM\n271353                        1  Home-Visit\n698316                        1   POLI UMUM\n3287728                       1   Konseling\n2091324                       1   POLI UMUM\n2325331                       1   POLI UMUM\n2347538                       1   POLI UMUM\n3403123                       1   Konseling\n3605526                       1   Konseling\n1880706                       1   POLI UMUM",
      "text/html": "<div>\n<style scoped>\n    .dataframe tbody tr th:only-of-type {\n        vertical-align: middle;\n    }\n\n    .dataframe tbody tr th {\n        vertical-align: top;\n    }\n\n    .dataframe thead th {\n        text-align: right;\n    }\n</style>\n<table border=\"1\" class=\"dataframe\">\n  <thead>\n    <tr style=\"text-align: right;\">\n      <th></th>\n      <th>Tingkat Pelayanan FKTP</th>\n      <th>label</th>\n    </tr>\n  </thead>\n  <tbody>\n    <tr>\n      <th>1022012</th>\n      <td>1</td>\n      <td>POLI UMUM</td>\n    </tr>\n    <tr>\n      <th>271353</th>\n      <td>1</td>\n      <td>Home-Visit</td>\n    </tr>\n    <tr>\n      <th>698316</th>\n      <td>1</td>\n      <td>POLI UMUM</td>\n    </tr>\n    <tr>\n      <th>3287728</th>\n      <td>1</td>\n      <td>Konseling</td>\n    </tr>\n    <tr>\n      <th>2091324</th>\n      <td>1</td>\n      <td>POLI UMUM</td>\n    </tr>\n    <tr>\n      <th>2325331</th>\n      <td>1</td>\n      <td>POLI UMUM</td>\n    </tr>\n    <tr>\n      <th>2347538</th>\n      <td>1</td>\n      <td>POLI UMUM</td>\n    </tr>\n    <tr>\n      <th>3403123</th>\n      <td>1</td>\n      <td>Konseling</td>\n    </tr>\n    <tr>\n      <th>3605526</th>\n      <td>1</td>\n      <td>Konseling</td>\n    </tr>\n    <tr>\n      <th>1880706</th>\n      <td>1</td>\n      <td>POLI UMUM</td>\n    </tr>\n  </tbody>\n</table>\n</div>"
     },
     "execution_count": 26,
     "metadata": {},
     "output_type": "execute_result"
    }
   ]
  },
  {
   "cell_type": "code",
   "source": [
    "dataset['Jenis Poli'] = merged_data['label']\n",
    "dataset.sample(10).filter(items=['Tingkat Pelayanan FKTP', 'Jenis Poli'])"
   ],
   "metadata": {
    "colab": {
     "base_uri": "https://localhost:8080/",
     "height": 363
    },
    "id": "NG68enaMfqy_",
    "executionInfo": {
     "status": "ok",
     "timestamp": 1666500901587,
     "user_tz": -420,
     "elapsed": 1196,
     "user": {
      "displayName": "Farhan Rahmadi Fajar",
      "userId": "10785679253509263230"
     }
    },
    "outputId": "bdbf2855-96e1-40a1-9112-f0774f7ecda6"
   },
   "execution_count": 27,
   "outputs": [
    {
     "data": {
      "text/plain": "         Tingkat Pelayanan FKTP         Jenis Poli\n1192811                       1          POLI UMUM\n194279                        1         Home-Visit\n2878733                       1           POLI KIA\n1659425                       1          POLI UMUM\n3371026                       1          Konseling\n2294796                       1          POLI UMUM\n861075                        1          POLI UMUM\n3860256                       1  POLI GIGI & MULUT\n1877079                       1          POLI UMUM\n1183675                       1          POLI UMUM",
      "text/html": "<div>\n<style scoped>\n    .dataframe tbody tr th:only-of-type {\n        vertical-align: middle;\n    }\n\n    .dataframe tbody tr th {\n        vertical-align: top;\n    }\n\n    .dataframe thead th {\n        text-align: right;\n    }\n</style>\n<table border=\"1\" class=\"dataframe\">\n  <thead>\n    <tr style=\"text-align: right;\">\n      <th></th>\n      <th>Tingkat Pelayanan FKTP</th>\n      <th>Jenis Poli</th>\n    </tr>\n  </thead>\n  <tbody>\n    <tr>\n      <th>1192811</th>\n      <td>1</td>\n      <td>POLI UMUM</td>\n    </tr>\n    <tr>\n      <th>194279</th>\n      <td>1</td>\n      <td>Home-Visit</td>\n    </tr>\n    <tr>\n      <th>2878733</th>\n      <td>1</td>\n      <td>POLI KIA</td>\n    </tr>\n    <tr>\n      <th>1659425</th>\n      <td>1</td>\n      <td>POLI UMUM</td>\n    </tr>\n    <tr>\n      <th>3371026</th>\n      <td>1</td>\n      <td>Konseling</td>\n    </tr>\n    <tr>\n      <th>2294796</th>\n      <td>1</td>\n      <td>POLI UMUM</td>\n    </tr>\n    <tr>\n      <th>861075</th>\n      <td>1</td>\n      <td>POLI UMUM</td>\n    </tr>\n    <tr>\n      <th>3860256</th>\n      <td>1</td>\n      <td>POLI GIGI &amp; MULUT</td>\n    </tr>\n    <tr>\n      <th>1877079</th>\n      <td>1</td>\n      <td>POLI UMUM</td>\n    </tr>\n    <tr>\n      <th>1183675</th>\n      <td>1</td>\n      <td>POLI UMUM</td>\n    </tr>\n  </tbody>\n</table>\n</div>"
     },
     "execution_count": 27,
     "metadata": {},
     "output_type": "execute_result"
    }
   ]
  },
  {
   "cell_type": "markdown",
   "source": [
    "## Merge Segmen Peserta saat akses layanan FKTP dengan Label Segmen Peserta saat akses layanan FKTP"
   ],
   "metadata": {
    "id": "lNqxyKUvgFkj"
   }
  },
  {
   "cell_type": "code",
   "source": [
    "segmen_perkerjaan['value'] = segmen_perkerjaan['value'].astype(int)\n",
    "merged_data = pd.merge(left=dataset, right=segmen_perkerjaan, how='inner',left_on='Segmen Peserta saat akses layanan FKTP',right_on='value')\n",
    "merged_data.sample(10).filter(items=['Segmen Peserta saat akses layanan FKTP', 'label'])"
   ],
   "metadata": {
    "colab": {
     "base_uri": "https://localhost:8080/",
     "height": 363
    },
    "id": "NhN2NWVGgIj3",
    "executionInfo": {
     "status": "ok",
     "timestamp": 1666500906859,
     "user_tz": -420,
     "elapsed": 5275,
     "user": {
      "displayName": "Farhan Rahmadi Fajar",
      "userId": "10785679253509263230"
     }
    },
    "outputId": "53490012-8816-478d-bda0-aa91b6379fa0"
   },
   "execution_count": 28,
   "outputs": [
    {
     "data": {
      "text/plain": "         Segmen Peserta saat akses layanan FKTP          label\n3075219                                       5           PPU \n2995555                                       5           PPU \n2932793                                       5           PPU \n3256604                                       5           PPU \n2670345                                       5           PPU \n1599547                                       4           PBPU\n902961                                        2       PBI APBN\n3593521                                       1  Bukan pekerja\n51166                                         2       PBI APBN\n3664022                                       1  Bukan pekerja",
      "text/html": "<div>\n<style scoped>\n    .dataframe tbody tr th:only-of-type {\n        vertical-align: middle;\n    }\n\n    .dataframe tbody tr th {\n        vertical-align: top;\n    }\n\n    .dataframe thead th {\n        text-align: right;\n    }\n</style>\n<table border=\"1\" class=\"dataframe\">\n  <thead>\n    <tr style=\"text-align: right;\">\n      <th></th>\n      <th>Segmen Peserta saat akses layanan FKTP</th>\n      <th>label</th>\n    </tr>\n  </thead>\n  <tbody>\n    <tr>\n      <th>3075219</th>\n      <td>5</td>\n      <td>PPU</td>\n    </tr>\n    <tr>\n      <th>2995555</th>\n      <td>5</td>\n      <td>PPU</td>\n    </tr>\n    <tr>\n      <th>2932793</th>\n      <td>5</td>\n      <td>PPU</td>\n    </tr>\n    <tr>\n      <th>3256604</th>\n      <td>5</td>\n      <td>PPU</td>\n    </tr>\n    <tr>\n      <th>2670345</th>\n      <td>5</td>\n      <td>PPU</td>\n    </tr>\n    <tr>\n      <th>1599547</th>\n      <td>4</td>\n      <td>PBPU</td>\n    </tr>\n    <tr>\n      <th>902961</th>\n      <td>2</td>\n      <td>PBI APBN</td>\n    </tr>\n    <tr>\n      <th>3593521</th>\n      <td>1</td>\n      <td>Bukan pekerja</td>\n    </tr>\n    <tr>\n      <th>51166</th>\n      <td>2</td>\n      <td>PBI APBN</td>\n    </tr>\n    <tr>\n      <th>3664022</th>\n      <td>1</td>\n      <td>Bukan pekerja</td>\n    </tr>\n  </tbody>\n</table>\n</div>"
     },
     "execution_count": 28,
     "metadata": {},
     "output_type": "execute_result"
    }
   ]
  },
  {
   "cell_type": "code",
   "source": [
    "dataset['Segemen Akses'] = merged_data['label']\n",
    "dataset.sample(10).filter(items=['Segmen Peserta saat akses layanan FKTP', 'Segemen Akses'])"
   ],
   "metadata": {
    "colab": {
     "base_uri": "https://localhost:8080/",
     "height": 363
    },
    "id": "U_Qa5rVjhTSY",
    "executionInfo": {
     "status": "ok",
     "timestamp": 1666500907491,
     "user_tz": -420,
     "elapsed": 644,
     "user": {
      "displayName": "Farhan Rahmadi Fajar",
      "userId": "10785679253509263230"
     }
    },
    "outputId": "26f55380-7eea-4808-9b0d-3cf55c0195ee"
   },
   "execution_count": 29,
   "outputs": [
    {
     "data": {
      "text/plain": "         Segmen Peserta saat akses layanan FKTP Segemen Akses\n3014496                                       2          PPU \n3091862                                       3          PPU \n2961824                                       5          PPU \n2795513                                       2          PPU \n3334397                                       5          PPU \n2647562                                       5          PPU \n3159703                                       5          PPU \n383429                                        5      PBI APBN\n2081706                                       5          PPU \n2646260                                       5          PPU ",
      "text/html": "<div>\n<style scoped>\n    .dataframe tbody tr th:only-of-type {\n        vertical-align: middle;\n    }\n\n    .dataframe tbody tr th {\n        vertical-align: top;\n    }\n\n    .dataframe thead th {\n        text-align: right;\n    }\n</style>\n<table border=\"1\" class=\"dataframe\">\n  <thead>\n    <tr style=\"text-align: right;\">\n      <th></th>\n      <th>Segmen Peserta saat akses layanan FKTP</th>\n      <th>Segemen Akses</th>\n    </tr>\n  </thead>\n  <tbody>\n    <tr>\n      <th>3014496</th>\n      <td>2</td>\n      <td>PPU</td>\n    </tr>\n    <tr>\n      <th>3091862</th>\n      <td>3</td>\n      <td>PPU</td>\n    </tr>\n    <tr>\n      <th>2961824</th>\n      <td>5</td>\n      <td>PPU</td>\n    </tr>\n    <tr>\n      <th>2795513</th>\n      <td>2</td>\n      <td>PPU</td>\n    </tr>\n    <tr>\n      <th>3334397</th>\n      <td>5</td>\n      <td>PPU</td>\n    </tr>\n    <tr>\n      <th>2647562</th>\n      <td>5</td>\n      <td>PPU</td>\n    </tr>\n    <tr>\n      <th>3159703</th>\n      <td>5</td>\n      <td>PPU</td>\n    </tr>\n    <tr>\n      <th>383429</th>\n      <td>5</td>\n      <td>PBI APBN</td>\n    </tr>\n    <tr>\n      <th>2081706</th>\n      <td>5</td>\n      <td>PPU</td>\n    </tr>\n    <tr>\n      <th>2646260</th>\n      <td>5</td>\n      <td>PPU</td>\n    </tr>\n  </tbody>\n</table>\n</div>"
     },
     "execution_count": 29,
     "metadata": {},
     "output_type": "execute_result"
    }
   ]
  },
  {
   "cell_type": "markdown",
   "source": [
    "## Merge Provinsi faskes tujuan rujukan Dengan Label Provinsi\n"
   ],
   "metadata": {
    "id": "hdOYA2THjYns"
   }
  },
  {
   "cell_type": "code",
   "source": [
    "dataset['Provinsi faskes tujuan rujukan'] = dataset['Provinsi faskes tujuan rujukan'].replace(98,99)\n",
    "dataset['Provinsi faskes tujuan rujukan'] "
   ],
   "metadata": {
    "colab": {
     "base_uri": "https://localhost:8080/"
    },
    "id": "SufAa11_iV4p",
    "executionInfo": {
     "status": "ok",
     "timestamp": 1666500907491,
     "user_tz": -420,
     "elapsed": 10,
     "user": {
      "displayName": "Farhan Rahmadi Fajar",
      "userId": "10785679253509263230"
     }
    },
    "outputId": "056cd37a-0f26-4155-ddc1-183d50b9f2d9"
   },
   "execution_count": 30,
   "outputs": [
    {
     "data": {
      "text/plain": "0          99\n1          99\n2          99\n3          99\n4          99\n           ..\n4056893    99\n4056894    35\n4056895    99\n4056896    99\n4056897    99\nName: Provinsi faskes tujuan rujukan, Length: 4056898, dtype: int64"
     },
     "execution_count": 30,
     "metadata": {},
     "output_type": "execute_result"
    }
   ]
  },
  {
   "cell_type": "code",
   "source": [
    "provinsi_faskes_tujuan_rujukan['value'] = provinsi_faskes_tujuan_rujukan['value'].astype(int)\n",
    "merged_data = pd.merge(left=dataset, right=provinsi_faskes_tujuan_rujukan, how='inner',left_on='Provinsi faskes tujuan rujukan',right_on='value')\n",
    "merged_data.sample(10).filter(items=['Provinsi faskes tujuan rujukan', 'label'])"
   ],
   "metadata": {
    "colab": {
     "base_uri": "https://localhost:8080/",
     "height": 363
    },
    "id": "mzTmY7aPjc7x",
    "executionInfo": {
     "status": "ok",
     "timestamp": 1666500913790,
     "user_tz": -420,
     "elapsed": 6304,
     "user": {
      "displayName": "Farhan Rahmadi Fajar",
      "userId": "10785679253509263230"
     }
    },
    "outputId": "ac0ad8eb-9896-4a19-ad4b-6f3accb21f96"
   },
   "execution_count": 31,
   "outputs": [
    {
     "data": {
      "text/plain": "         Provinsi faskes tujuan rujukan                    label\n101862                               99  Tidak dilakukan rujukan\n2155251                              99  Tidak dilakukan rujukan\n2121676                              99  Tidak dilakukan rujukan\n3077536                              99  Tidak dilakukan rujukan\n2750579                              99  Tidak dilakukan rujukan\n961091                               99  Tidak dilakukan rujukan\n2334301                              99  Tidak dilakukan rujukan\n75631                                99  Tidak dilakukan rujukan\n2933504                              99  Tidak dilakukan rujukan\n385616                               99  Tidak dilakukan rujukan",
      "text/html": "<div>\n<style scoped>\n    .dataframe tbody tr th:only-of-type {\n        vertical-align: middle;\n    }\n\n    .dataframe tbody tr th {\n        vertical-align: top;\n    }\n\n    .dataframe thead th {\n        text-align: right;\n    }\n</style>\n<table border=\"1\" class=\"dataframe\">\n  <thead>\n    <tr style=\"text-align: right;\">\n      <th></th>\n      <th>Provinsi faskes tujuan rujukan</th>\n      <th>label</th>\n    </tr>\n  </thead>\n  <tbody>\n    <tr>\n      <th>101862</th>\n      <td>99</td>\n      <td>Tidak dilakukan rujukan</td>\n    </tr>\n    <tr>\n      <th>2155251</th>\n      <td>99</td>\n      <td>Tidak dilakukan rujukan</td>\n    </tr>\n    <tr>\n      <th>2121676</th>\n      <td>99</td>\n      <td>Tidak dilakukan rujukan</td>\n    </tr>\n    <tr>\n      <th>3077536</th>\n      <td>99</td>\n      <td>Tidak dilakukan rujukan</td>\n    </tr>\n    <tr>\n      <th>2750579</th>\n      <td>99</td>\n      <td>Tidak dilakukan rujukan</td>\n    </tr>\n    <tr>\n      <th>961091</th>\n      <td>99</td>\n      <td>Tidak dilakukan rujukan</td>\n    </tr>\n    <tr>\n      <th>2334301</th>\n      <td>99</td>\n      <td>Tidak dilakukan rujukan</td>\n    </tr>\n    <tr>\n      <th>75631</th>\n      <td>99</td>\n      <td>Tidak dilakukan rujukan</td>\n    </tr>\n    <tr>\n      <th>2933504</th>\n      <td>99</td>\n      <td>Tidak dilakukan rujukan</td>\n    </tr>\n    <tr>\n      <th>385616</th>\n      <td>99</td>\n      <td>Tidak dilakukan rujukan</td>\n    </tr>\n  </tbody>\n</table>\n</div>"
     },
     "execution_count": 31,
     "metadata": {},
     "output_type": "execute_result"
    }
   ]
  },
  {
   "cell_type": "code",
   "source": [
    "merged_data.shape"
   ],
   "metadata": {
    "colab": {
     "base_uri": "https://localhost:8080/"
    },
    "id": "vRpnO0rrguQy",
    "executionInfo": {
     "status": "ok",
     "timestamp": 1666500913792,
     "user_tz": -420,
     "elapsed": 15,
     "user": {
      "displayName": "Farhan Rahmadi Fajar",
      "userId": "10785679253509263230"
     }
    },
    "outputId": "a1049c8f-d00d-4c10-e2d5-f47fb7fc8f2a"
   },
   "execution_count": 32,
   "outputs": [
    {
     "data": {
      "text/plain": "(4056898, 32)"
     },
     "execution_count": 32,
     "metadata": {},
     "output_type": "execute_result"
    }
   ]
  },
  {
   "cell_type": "code",
   "source": [
    "dataset['Provinsi faskes tujuan rujukan label'] = merged_data['label']\n",
    "dataset.sample(10).filter(items=['Provinsi faskes tujuan rujukan label', 'Provinsi faskes tujuan rujukan label'])"
   ],
   "metadata": {
    "colab": {
     "base_uri": "https://localhost:8080/",
     "height": 363
    },
    "id": "BYhKMg_ujtcs",
    "executionInfo": {
     "status": "ok",
     "timestamp": 1666500914919,
     "user_tz": -420,
     "elapsed": 1136,
     "user": {
      "displayName": "Farhan Rahmadi Fajar",
      "userId": "10785679253509263230"
     }
    },
    "outputId": "dbaa2de9-6b92-4a20-f2bc-53b4036a41ff"
   },
   "execution_count": 33,
   "outputs": [
    {
     "data": {
      "text/plain": "        Provinsi faskes tujuan rujukan label  \\\n2625192              Tidak dilakukan rujukan   \n980077               Tidak dilakukan rujukan   \n1809861              Tidak dilakukan rujukan   \n544273               Tidak dilakukan rujukan   \n884484               Tidak dilakukan rujukan   \n33973                Tidak dilakukan rujukan   \n25274                Tidak dilakukan rujukan   \n1926016              Tidak dilakukan rujukan   \n3279888              Tidak dilakukan rujukan   \n1493644              Tidak dilakukan rujukan   \n\n        Provinsi faskes tujuan rujukan label  \n2625192              Tidak dilakukan rujukan  \n980077               Tidak dilakukan rujukan  \n1809861              Tidak dilakukan rujukan  \n544273               Tidak dilakukan rujukan  \n884484               Tidak dilakukan rujukan  \n33973                Tidak dilakukan rujukan  \n25274                Tidak dilakukan rujukan  \n1926016              Tidak dilakukan rujukan  \n3279888              Tidak dilakukan rujukan  \n1493644              Tidak dilakukan rujukan  ",
      "text/html": "<div>\n<style scoped>\n    .dataframe tbody tr th:only-of-type {\n        vertical-align: middle;\n    }\n\n    .dataframe tbody tr th {\n        vertical-align: top;\n    }\n\n    .dataframe thead th {\n        text-align: right;\n    }\n</style>\n<table border=\"1\" class=\"dataframe\">\n  <thead>\n    <tr style=\"text-align: right;\">\n      <th></th>\n      <th>Provinsi faskes tujuan rujukan label</th>\n      <th>Provinsi faskes tujuan rujukan label</th>\n    </tr>\n  </thead>\n  <tbody>\n    <tr>\n      <th>2625192</th>\n      <td>Tidak dilakukan rujukan</td>\n      <td>Tidak dilakukan rujukan</td>\n    </tr>\n    <tr>\n      <th>980077</th>\n      <td>Tidak dilakukan rujukan</td>\n      <td>Tidak dilakukan rujukan</td>\n    </tr>\n    <tr>\n      <th>1809861</th>\n      <td>Tidak dilakukan rujukan</td>\n      <td>Tidak dilakukan rujukan</td>\n    </tr>\n    <tr>\n      <th>544273</th>\n      <td>Tidak dilakukan rujukan</td>\n      <td>Tidak dilakukan rujukan</td>\n    </tr>\n    <tr>\n      <th>884484</th>\n      <td>Tidak dilakukan rujukan</td>\n      <td>Tidak dilakukan rujukan</td>\n    </tr>\n    <tr>\n      <th>33973</th>\n      <td>Tidak dilakukan rujukan</td>\n      <td>Tidak dilakukan rujukan</td>\n    </tr>\n    <tr>\n      <th>25274</th>\n      <td>Tidak dilakukan rujukan</td>\n      <td>Tidak dilakukan rujukan</td>\n    </tr>\n    <tr>\n      <th>1926016</th>\n      <td>Tidak dilakukan rujukan</td>\n      <td>Tidak dilakukan rujukan</td>\n    </tr>\n    <tr>\n      <th>3279888</th>\n      <td>Tidak dilakukan rujukan</td>\n      <td>Tidak dilakukan rujukan</td>\n    </tr>\n    <tr>\n      <th>1493644</th>\n      <td>Tidak dilakukan rujukan</td>\n      <td>Tidak dilakukan rujukan</td>\n    </tr>\n  </tbody>\n</table>\n</div>"
     },
     "execution_count": 33,
     "metadata": {},
     "output_type": "execute_result"
    }
   ]
  },
  {
   "cell_type": "markdown",
   "source": [
    "## Merge Kepemilikan faskes tujuan rujukan Dengan Label Kepemilikan faskes tujuan rujukan"
   ],
   "metadata": {
    "id": "OG8km4-fkD2t"
   }
  },
  {
   "cell_type": "code",
   "source": [
    "dataset['Kepemilikan faskes tujuan rujukan'].value_counts()"
   ],
   "metadata": {
    "colab": {
     "base_uri": "https://localhost:8080/"
    },
    "id": "oQ825G3Dmyqb",
    "executionInfo": {
     "status": "ok",
     "timestamp": 1666500914921,
     "user_tz": -420,
     "elapsed": 19,
     "user": {
      "displayName": "Farhan Rahmadi Fajar",
      "userId": "10785679253509263230"
     }
    },
    "outputId": "2227aa64-d27d-45cc-c712-e14474ea21a3"
   },
   "execution_count": 34,
   "outputs": [
    {
     "data": {
      "text/plain": "98    3677528\n9      208800\n3      117312\n2       16614\n5       13834\n4        8464\n8        7550\n7        2329\n1        2244\n6        2223\nName: Kepemilikan faskes tujuan rujukan, dtype: int64"
     },
     "execution_count": 34,
     "metadata": {},
     "output_type": "execute_result"
    }
   ]
  },
  {
   "cell_type": "code",
   "source": [
    "kepemilikan_faskes_tujuan_rujukan['value'] = kepemilikan_faskes_tujuan_rujukan['value'].astype(int)\n",
    "merged_data = pd.merge(left=dataset, right=kepemilikan_faskes_tujuan_rujukan, how='left',left_on='Kepemilikan faskes tujuan rujukan',right_on='value')\n",
    "merged_data.sample(10).filter(items=['Kepemilikan faskes tujuan rujukan', 'label'])"
   ],
   "metadata": {
    "colab": {
     "base_uri": "https://localhost:8080/",
     "height": 363
    },
    "id": "cckXsPBbkaug",
    "executionInfo": {
     "status": "ok",
     "timestamp": 1666500919118,
     "user_tz": -420,
     "elapsed": 4211,
     "user": {
      "displayName": "Farhan Rahmadi Fajar",
      "userId": "10785679253509263230"
     }
    },
    "outputId": "2b909442-51e6-4060-ddd4-21c3b7c82efb"
   },
   "execution_count": 35,
   "outputs": [
    {
     "data": {
      "text/plain": "         Kepemilikan faskes tujuan rujukan                      label\n2729426                                 98              Tidak dirujuk\n2377299                                 98              Tidak dirujuk\n577197                                   3  Pemerintah kabupaten/kota\n679618                                  98              Tidak dirujuk\n3046422                                 98              Tidak dirujuk\n3080788                                 98              Tidak dirujuk\n3959990                                 98              Tidak dirujuk\n2864349                                 98              Tidak dirujuk\n3875558                                 98              Tidak dirujuk\n2783147                                 98              Tidak dirujuk",
      "text/html": "<div>\n<style scoped>\n    .dataframe tbody tr th:only-of-type {\n        vertical-align: middle;\n    }\n\n    .dataframe tbody tr th {\n        vertical-align: top;\n    }\n\n    .dataframe thead th {\n        text-align: right;\n    }\n</style>\n<table border=\"1\" class=\"dataframe\">\n  <thead>\n    <tr style=\"text-align: right;\">\n      <th></th>\n      <th>Kepemilikan faskes tujuan rujukan</th>\n      <th>label</th>\n    </tr>\n  </thead>\n  <tbody>\n    <tr>\n      <th>2729426</th>\n      <td>98</td>\n      <td>Tidak dirujuk</td>\n    </tr>\n    <tr>\n      <th>2377299</th>\n      <td>98</td>\n      <td>Tidak dirujuk</td>\n    </tr>\n    <tr>\n      <th>577197</th>\n      <td>3</td>\n      <td>Pemerintah kabupaten/kota</td>\n    </tr>\n    <tr>\n      <th>679618</th>\n      <td>98</td>\n      <td>Tidak dirujuk</td>\n    </tr>\n    <tr>\n      <th>3046422</th>\n      <td>98</td>\n      <td>Tidak dirujuk</td>\n    </tr>\n    <tr>\n      <th>3080788</th>\n      <td>98</td>\n      <td>Tidak dirujuk</td>\n    </tr>\n    <tr>\n      <th>3959990</th>\n      <td>98</td>\n      <td>Tidak dirujuk</td>\n    </tr>\n    <tr>\n      <th>2864349</th>\n      <td>98</td>\n      <td>Tidak dirujuk</td>\n    </tr>\n    <tr>\n      <th>3875558</th>\n      <td>98</td>\n      <td>Tidak dirujuk</td>\n    </tr>\n    <tr>\n      <th>2783147</th>\n      <td>98</td>\n      <td>Tidak dirujuk</td>\n    </tr>\n  </tbody>\n</table>\n</div>"
     },
     "execution_count": 35,
     "metadata": {},
     "output_type": "execute_result"
    }
   ]
  },
  {
   "cell_type": "code",
   "source": [
    "merged_data['label'] = merged_data['label'].fillna('Tidak dirujuk')\n",
    "merged_data['label'].isnull().sum()"
   ],
   "metadata": {
    "colab": {
     "base_uri": "https://localhost:8080/"
    },
    "id": "9mhO9t9cnjH2",
    "executionInfo": {
     "status": "ok",
     "timestamp": 1666500919666,
     "user_tz": -420,
     "elapsed": 556,
     "user": {
      "displayName": "Farhan Rahmadi Fajar",
      "userId": "10785679253509263230"
     }
    },
    "outputId": "61082d25-beac-41dd-81a3-e6cf42474b01"
   },
   "execution_count": 36,
   "outputs": [
    {
     "data": {
      "text/plain": "0"
     },
     "execution_count": 36,
     "metadata": {},
     "output_type": "execute_result"
    }
   ]
  },
  {
   "cell_type": "code",
   "source": [
    "dataset['Kepemilikan faskes tujuan rujukan label'] = merged_data['label']\n",
    "dataset.sample(10).filter(items=['Kepemilikan faskes tujuan rujukan', 'Kepemilikan faskes tujuan rujukan label'])"
   ],
   "metadata": {
    "colab": {
     "base_uri": "https://localhost:8080/",
     "height": 363
    },
    "id": "Qc7blbkLklut",
    "executionInfo": {
     "status": "ok",
     "timestamp": 1666500920555,
     "user_tz": -420,
     "elapsed": 891,
     "user": {
      "displayName": "Farhan Rahmadi Fajar",
      "userId": "10785679253509263230"
     }
    },
    "outputId": "6d48ace6-20f2-46b5-f3ac-5ffb26b8bfb2"
   },
   "execution_count": 37,
   "outputs": [
    {
     "data": {
      "text/plain": "         Kepemilikan faskes tujuan rujukan  \\\n3238878                                  3   \n3526382                                 98   \n1924614                                 98   \n2181465                                 98   \n1521105                                 98   \n2569802                                 98   \n1812250                                 98   \n1918145                                 98   \n715798                                  98   \n2134606                                 98   \n\n        Kepemilikan faskes tujuan rujukan label  \n3238878               Pemerintah kabupaten/kota  \n3526382                           Tidak dirujuk  \n1924614                           Tidak dirujuk  \n2181465                           Tidak dirujuk  \n1521105                           Tidak dirujuk  \n2569802                           Tidak dirujuk  \n1812250                           Tidak dirujuk  \n1918145                           Tidak dirujuk  \n715798                            Tidak dirujuk  \n2134606                           Tidak dirujuk  ",
      "text/html": "<div>\n<style scoped>\n    .dataframe tbody tr th:only-of-type {\n        vertical-align: middle;\n    }\n\n    .dataframe tbody tr th {\n        vertical-align: top;\n    }\n\n    .dataframe thead th {\n        text-align: right;\n    }\n</style>\n<table border=\"1\" class=\"dataframe\">\n  <thead>\n    <tr style=\"text-align: right;\">\n      <th></th>\n      <th>Kepemilikan faskes tujuan rujukan</th>\n      <th>Kepemilikan faskes tujuan rujukan label</th>\n    </tr>\n  </thead>\n  <tbody>\n    <tr>\n      <th>3238878</th>\n      <td>3</td>\n      <td>Pemerintah kabupaten/kota</td>\n    </tr>\n    <tr>\n      <th>3526382</th>\n      <td>98</td>\n      <td>Tidak dirujuk</td>\n    </tr>\n    <tr>\n      <th>1924614</th>\n      <td>98</td>\n      <td>Tidak dirujuk</td>\n    </tr>\n    <tr>\n      <th>2181465</th>\n      <td>98</td>\n      <td>Tidak dirujuk</td>\n    </tr>\n    <tr>\n      <th>1521105</th>\n      <td>98</td>\n      <td>Tidak dirujuk</td>\n    </tr>\n    <tr>\n      <th>2569802</th>\n      <td>98</td>\n      <td>Tidak dirujuk</td>\n    </tr>\n    <tr>\n      <th>1812250</th>\n      <td>98</td>\n      <td>Tidak dirujuk</td>\n    </tr>\n    <tr>\n      <th>1918145</th>\n      <td>98</td>\n      <td>Tidak dirujuk</td>\n    </tr>\n    <tr>\n      <th>715798</th>\n      <td>98</td>\n      <td>Tidak dirujuk</td>\n    </tr>\n    <tr>\n      <th>2134606</th>\n      <td>98</td>\n      <td>Tidak dirujuk</td>\n    </tr>\n  </tbody>\n</table>\n</div>"
     },
     "execution_count": 37,
     "metadata": {},
     "output_type": "execute_result"
    }
   ]
  },
  {
   "cell_type": "markdown",
   "source": [
    "## Merge Jenis faskes tujuan rujukan Dengan Label Jenis faskes tujuan rujukan Label"
   ],
   "metadata": {
    "id": "Gv6SXQjipOnA"
   }
  },
  {
   "cell_type": "code",
   "source": [
    "jenis_faskes_tujuan_rujukan['value'] = jenis_faskes_tujuan_rujukan['value'].astype(int)\n",
    "merged_data = pd.merge(left=dataset, right=jenis_faskes_tujuan_rujukan, how='left',left_on='Jenis faskes tujuan rujukan',right_on='value')\n",
    "merged_data.sample(10).filter(items=['Jenis faskes tujuan rujukan', 'label'])"
   ],
   "metadata": {
    "colab": {
     "base_uri": "https://localhost:8080/",
     "height": 363
    },
    "id": "SuiZfek3pcLs",
    "executionInfo": {
     "status": "ok",
     "timestamp": 1666500925455,
     "user_tz": -420,
     "elapsed": 4906,
     "user": {
      "displayName": "Farhan Rahmadi Fajar",
      "userId": "10785679253509263230"
     }
    },
    "outputId": "3878be00-dd5f-4a77-f1bc-3b1e3c85e709"
   },
   "execution_count": 38,
   "outputs": [
    {
     "data": {
      "text/plain": "         Jenis faskes tujuan rujukan          label\n1222132                           98  Tidak dirujuk\n1916328                           98  Tidak dirujuk\n3298758                           98  Tidak dirujuk\n2222534                           98  Tidak dirujuk\n2313269                           98  Tidak dirujuk\n2440965                           98  Tidak dirujuk\n2124695                           98  Tidak dirujuk\n1883134                           98  Tidak dirujuk\n1566328                           98  Tidak dirujuk\n2832080                           98  Tidak dirujuk",
      "text/html": "<div>\n<style scoped>\n    .dataframe tbody tr th:only-of-type {\n        vertical-align: middle;\n    }\n\n    .dataframe tbody tr th {\n        vertical-align: top;\n    }\n\n    .dataframe thead th {\n        text-align: right;\n    }\n</style>\n<table border=\"1\" class=\"dataframe\">\n  <thead>\n    <tr style=\"text-align: right;\">\n      <th></th>\n      <th>Jenis faskes tujuan rujukan</th>\n      <th>label</th>\n    </tr>\n  </thead>\n  <tbody>\n    <tr>\n      <th>1222132</th>\n      <td>98</td>\n      <td>Tidak dirujuk</td>\n    </tr>\n    <tr>\n      <th>1916328</th>\n      <td>98</td>\n      <td>Tidak dirujuk</td>\n    </tr>\n    <tr>\n      <th>3298758</th>\n      <td>98</td>\n      <td>Tidak dirujuk</td>\n    </tr>\n    <tr>\n      <th>2222534</th>\n      <td>98</td>\n      <td>Tidak dirujuk</td>\n    </tr>\n    <tr>\n      <th>2313269</th>\n      <td>98</td>\n      <td>Tidak dirujuk</td>\n    </tr>\n    <tr>\n      <th>2440965</th>\n      <td>98</td>\n      <td>Tidak dirujuk</td>\n    </tr>\n    <tr>\n      <th>2124695</th>\n      <td>98</td>\n      <td>Tidak dirujuk</td>\n    </tr>\n    <tr>\n      <th>1883134</th>\n      <td>98</td>\n      <td>Tidak dirujuk</td>\n    </tr>\n    <tr>\n      <th>1566328</th>\n      <td>98</td>\n      <td>Tidak dirujuk</td>\n    </tr>\n    <tr>\n      <th>2832080</th>\n      <td>98</td>\n      <td>Tidak dirujuk</td>\n    </tr>\n  </tbody>\n</table>\n</div>"
     },
     "execution_count": 38,
     "metadata": {},
     "output_type": "execute_result"
    }
   ]
  },
  {
   "cell_type": "code",
   "source": [
    "dataset['Jenis faskes tujuan rujukan label'] = merged_data['label']\n",
    "dataset.sample(10).filter(items=['Jenis faskes tujuan rujukan', 'Jenis faskes tujuan rujukan label'])"
   ],
   "metadata": {
    "colab": {
     "base_uri": "https://localhost:8080/",
     "height": 363
    },
    "id": "xZKb4ngup6gP",
    "executionInfo": {
     "status": "ok",
     "timestamp": 1666500927075,
     "user_tz": -420,
     "elapsed": 1628,
     "user": {
      "displayName": "Farhan Rahmadi Fajar",
      "userId": "10785679253509263230"
     }
    },
    "outputId": "d6af84af-6a2c-48db-93f6-2de677762b1b"
   },
   "execution_count": 39,
   "outputs": [
    {
     "data": {
      "text/plain": "         Jenis faskes tujuan rujukan Jenis faskes tujuan rujukan label\n916375                            98                     Tidak dirujuk\n29780                             98                     Tidak dirujuk\n869094                            98                     Tidak dirujuk\n2232515                           98                     Tidak dirujuk\n3432392                           98                     Tidak dirujuk\n393522                            98                     Tidak dirujuk\n3727459                           98                     Tidak dirujuk\n1079959                           98                     Tidak dirujuk\n3643676                           98                     Tidak dirujuk\n517                               98                     Tidak dirujuk",
      "text/html": "<div>\n<style scoped>\n    .dataframe tbody tr th:only-of-type {\n        vertical-align: middle;\n    }\n\n    .dataframe tbody tr th {\n        vertical-align: top;\n    }\n\n    .dataframe thead th {\n        text-align: right;\n    }\n</style>\n<table border=\"1\" class=\"dataframe\">\n  <thead>\n    <tr style=\"text-align: right;\">\n      <th></th>\n      <th>Jenis faskes tujuan rujukan</th>\n      <th>Jenis faskes tujuan rujukan label</th>\n    </tr>\n  </thead>\n  <tbody>\n    <tr>\n      <th>916375</th>\n      <td>98</td>\n      <td>Tidak dirujuk</td>\n    </tr>\n    <tr>\n      <th>29780</th>\n      <td>98</td>\n      <td>Tidak dirujuk</td>\n    </tr>\n    <tr>\n      <th>869094</th>\n      <td>98</td>\n      <td>Tidak dirujuk</td>\n    </tr>\n    <tr>\n      <th>2232515</th>\n      <td>98</td>\n      <td>Tidak dirujuk</td>\n    </tr>\n    <tr>\n      <th>3432392</th>\n      <td>98</td>\n      <td>Tidak dirujuk</td>\n    </tr>\n    <tr>\n      <th>393522</th>\n      <td>98</td>\n      <td>Tidak dirujuk</td>\n    </tr>\n    <tr>\n      <th>3727459</th>\n      <td>98</td>\n      <td>Tidak dirujuk</td>\n    </tr>\n    <tr>\n      <th>1079959</th>\n      <td>98</td>\n      <td>Tidak dirujuk</td>\n    </tr>\n    <tr>\n      <th>3643676</th>\n      <td>98</td>\n      <td>Tidak dirujuk</td>\n    </tr>\n    <tr>\n      <th>517</th>\n      <td>98</td>\n      <td>Tidak dirujuk</td>\n    </tr>\n  </tbody>\n</table>\n</div>"
     },
     "execution_count": 39,
     "metadata": {},
     "output_type": "execute_result"
    }
   ]
  },
  {
   "cell_type": "markdown",
   "source": [
    "## Merge Tipe faskes tujuan rujukan Dengan Label Tipe faskes tujuan rujukan "
   ],
   "metadata": {
    "id": "KtD_Zmrkrb9b"
   }
  },
  {
   "cell_type": "code",
   "source": [
    "tipe_faskes_tujuan_rujukan['value'] = tipe_faskes_tujuan_rujukan['value'].astype(int)\n",
    "merged_data = pd.merge(left=dataset, right=tipe_faskes_tujuan_rujukan, how='left',left_on='Tipe faskes tujuan rujukan',right_on='value')\n",
    "merged_data.sample(10).filter(items=['Tipe faskes tujuan rujukan', 'label'])"
   ],
   "metadata": {
    "colab": {
     "base_uri": "https://localhost:8080/",
     "height": 363
    },
    "id": "NUpVDbWdqrR2",
    "executionInfo": {
     "status": "ok",
     "timestamp": 1666500932659,
     "user_tz": -420,
     "elapsed": 5590,
     "user": {
      "displayName": "Farhan Rahmadi Fajar",
      "userId": "10785679253509263230"
     }
    },
    "outputId": "5cfe6403-f8e5-45f0-e2de-6a8765962f39"
   },
   "execution_count": 40,
   "outputs": [
    {
     "data": {
      "text/plain": "         Tipe faskes tujuan rujukan                    label\n2346381                          98            Tidak Dirujuk\n1314389                          34  RS Swasta Setara Type C\n1154643                          28               RS Kelas C\n3097674                          98            Tidak Dirujuk\n650219                           98            Tidak Dirujuk\n3160569                          98            Tidak Dirujuk\n153298                           98            Tidak Dirujuk\n3584547                          28               RS Kelas C\n3895979                          98            Tidak Dirujuk\n4004115                          98            Tidak Dirujuk",
      "text/html": "<div>\n<style scoped>\n    .dataframe tbody tr th:only-of-type {\n        vertical-align: middle;\n    }\n\n    .dataframe tbody tr th {\n        vertical-align: top;\n    }\n\n    .dataframe thead th {\n        text-align: right;\n    }\n</style>\n<table border=\"1\" class=\"dataframe\">\n  <thead>\n    <tr style=\"text-align: right;\">\n      <th></th>\n      <th>Tipe faskes tujuan rujukan</th>\n      <th>label</th>\n    </tr>\n  </thead>\n  <tbody>\n    <tr>\n      <th>2346381</th>\n      <td>98</td>\n      <td>Tidak Dirujuk</td>\n    </tr>\n    <tr>\n      <th>1314389</th>\n      <td>34</td>\n      <td>RS Swasta Setara Type C</td>\n    </tr>\n    <tr>\n      <th>1154643</th>\n      <td>28</td>\n      <td>RS Kelas C</td>\n    </tr>\n    <tr>\n      <th>3097674</th>\n      <td>98</td>\n      <td>Tidak Dirujuk</td>\n    </tr>\n    <tr>\n      <th>650219</th>\n      <td>98</td>\n      <td>Tidak Dirujuk</td>\n    </tr>\n    <tr>\n      <th>3160569</th>\n      <td>98</td>\n      <td>Tidak Dirujuk</td>\n    </tr>\n    <tr>\n      <th>153298</th>\n      <td>98</td>\n      <td>Tidak Dirujuk</td>\n    </tr>\n    <tr>\n      <th>3584547</th>\n      <td>28</td>\n      <td>RS Kelas C</td>\n    </tr>\n    <tr>\n      <th>3895979</th>\n      <td>98</td>\n      <td>Tidak Dirujuk</td>\n    </tr>\n    <tr>\n      <th>4004115</th>\n      <td>98</td>\n      <td>Tidak Dirujuk</td>\n    </tr>\n  </tbody>\n</table>\n</div>"
     },
     "execution_count": 40,
     "metadata": {},
     "output_type": "execute_result"
    }
   ]
  },
  {
   "cell_type": "code",
   "source": [
    "dataset['Tipe faskes tujuan rujukan label'] = merged_data['label']\n",
    "dataset.sample(10).filter(items=['Tipe faskes tujuan rujukan', 'Jenis faskes tujuan rujukan label'])"
   ],
   "metadata": {
    "colab": {
     "base_uri": "https://localhost:8080/",
     "height": 363
    },
    "id": "aYivBphRtCCm",
    "executionInfo": {
     "status": "ok",
     "timestamp": 1666500933215,
     "user_tz": -420,
     "elapsed": 563,
     "user": {
      "displayName": "Farhan Rahmadi Fajar",
      "userId": "10785679253509263230"
     }
    },
    "outputId": "6e493eee-e457-4df8-9575-4b60b0505b57"
   },
   "execution_count": 41,
   "outputs": [
    {
     "data": {
      "text/plain": "         Tipe faskes tujuan rujukan Jenis faskes tujuan rujukan label\n583225                           98                     Tidak dirujuk\n3273277                          98                     Tidak dirujuk\n603422                           28                         Puskesmas\n465871                           34                         Puskesmas\n448394                           98                     Tidak dirujuk\n995668                           98                     Tidak dirujuk\n473425                           98                     Tidak dirujuk\n3041734                          28                         Puskesmas\n3027638                          98                     Tidak dirujuk\n734064                           98                     Tidak dirujuk",
      "text/html": "<div>\n<style scoped>\n    .dataframe tbody tr th:only-of-type {\n        vertical-align: middle;\n    }\n\n    .dataframe tbody tr th {\n        vertical-align: top;\n    }\n\n    .dataframe thead th {\n        text-align: right;\n    }\n</style>\n<table border=\"1\" class=\"dataframe\">\n  <thead>\n    <tr style=\"text-align: right;\">\n      <th></th>\n      <th>Tipe faskes tujuan rujukan</th>\n      <th>Jenis faskes tujuan rujukan label</th>\n    </tr>\n  </thead>\n  <tbody>\n    <tr>\n      <th>583225</th>\n      <td>98</td>\n      <td>Tidak dirujuk</td>\n    </tr>\n    <tr>\n      <th>3273277</th>\n      <td>98</td>\n      <td>Tidak dirujuk</td>\n    </tr>\n    <tr>\n      <th>603422</th>\n      <td>28</td>\n      <td>Puskesmas</td>\n    </tr>\n    <tr>\n      <th>465871</th>\n      <td>34</td>\n      <td>Puskesmas</td>\n    </tr>\n    <tr>\n      <th>448394</th>\n      <td>98</td>\n      <td>Tidak dirujuk</td>\n    </tr>\n    <tr>\n      <th>995668</th>\n      <td>98</td>\n      <td>Tidak dirujuk</td>\n    </tr>\n    <tr>\n      <th>473425</th>\n      <td>98</td>\n      <td>Tidak dirujuk</td>\n    </tr>\n    <tr>\n      <th>3041734</th>\n      <td>28</td>\n      <td>Puskesmas</td>\n    </tr>\n    <tr>\n      <th>3027638</th>\n      <td>98</td>\n      <td>Tidak dirujuk</td>\n    </tr>\n    <tr>\n      <th>734064</th>\n      <td>98</td>\n      <td>Tidak dirujuk</td>\n    </tr>\n  </tbody>\n</table>\n</div>"
     },
     "execution_count": 41,
     "metadata": {},
     "output_type": "execute_result"
    }
   ]
  },
  {
   "cell_type": "markdown",
   "source": [
    "## Merge Poli faskes tujuan rujukan Dengan Label Poli faskes tujuan rujukan"
   ],
   "metadata": {
    "id": "oLsFjEHrtQ-c"
   }
  },
  {
   "cell_type": "code",
   "source": [
    "poli_faskes_tujuan_rujukan['value'] = poli_faskes_tujuan_rujukan['value'].astype(int)\n",
    "merged_data = pd.merge(left=dataset, right=poli_faskes_tujuan_rujukan, how='left',left_on='Poli faskes tujuan rujukan',right_on='value')\n",
    "merged_data.sample(10).filter(items=['Poli faskes tujuan rujukan', 'label'])"
   ],
   "metadata": {
    "colab": {
     "base_uri": "https://localhost:8080/",
     "height": 363
    },
    "id": "pnW2dW2ztjuE",
    "executionInfo": {
     "status": "ok",
     "timestamp": 1666500939010,
     "user_tz": -420,
     "elapsed": 5801,
     "user": {
      "displayName": "Farhan Rahmadi Fajar",
      "userId": "10785679253509263230"
     }
    },
    "outputId": "dd0238f0-8648-4e32-a653-9a630b30f7af"
   },
   "execution_count": 42,
   "outputs": [
    {
     "data": {
      "text/plain": "         Poli faskes tujuan rujukan          label\n411572                           98  TIDAK DIRUJUK\n3737470                          98  TIDAK DIRUJUK\n1291482                          98  TIDAK DIRUJUK\n2079686                          98  TIDAK DIRUJUK\n2707254                          98  TIDAK DIRUJUK\n2796150                          98  TIDAK DIRUJUK\n2853013                          99        MISSING\n1586138                          98  TIDAK DIRUJUK\n1525354                          98  TIDAK DIRUJUK\n720611                           98  TIDAK DIRUJUK",
      "text/html": "<div>\n<style scoped>\n    .dataframe tbody tr th:only-of-type {\n        vertical-align: middle;\n    }\n\n    .dataframe tbody tr th {\n        vertical-align: top;\n    }\n\n    .dataframe thead th {\n        text-align: right;\n    }\n</style>\n<table border=\"1\" class=\"dataframe\">\n  <thead>\n    <tr style=\"text-align: right;\">\n      <th></th>\n      <th>Poli faskes tujuan rujukan</th>\n      <th>label</th>\n    </tr>\n  </thead>\n  <tbody>\n    <tr>\n      <th>411572</th>\n      <td>98</td>\n      <td>TIDAK DIRUJUK</td>\n    </tr>\n    <tr>\n      <th>3737470</th>\n      <td>98</td>\n      <td>TIDAK DIRUJUK</td>\n    </tr>\n    <tr>\n      <th>1291482</th>\n      <td>98</td>\n      <td>TIDAK DIRUJUK</td>\n    </tr>\n    <tr>\n      <th>2079686</th>\n      <td>98</td>\n      <td>TIDAK DIRUJUK</td>\n    </tr>\n    <tr>\n      <th>2707254</th>\n      <td>98</td>\n      <td>TIDAK DIRUJUK</td>\n    </tr>\n    <tr>\n      <th>2796150</th>\n      <td>98</td>\n      <td>TIDAK DIRUJUK</td>\n    </tr>\n    <tr>\n      <th>2853013</th>\n      <td>99</td>\n      <td>MISSING</td>\n    </tr>\n    <tr>\n      <th>1586138</th>\n      <td>98</td>\n      <td>TIDAK DIRUJUK</td>\n    </tr>\n    <tr>\n      <th>1525354</th>\n      <td>98</td>\n      <td>TIDAK DIRUJUK</td>\n    </tr>\n    <tr>\n      <th>720611</th>\n      <td>98</td>\n      <td>TIDAK DIRUJUK</td>\n    </tr>\n  </tbody>\n</table>\n</div>"
     },
     "execution_count": 42,
     "metadata": {},
     "output_type": "execute_result"
    }
   ]
  },
  {
   "cell_type": "code",
   "source": [
    "dataset['Poli faskes tujuan rujukan label'] = merged_data['label']\n",
    "dataset.sample(10).filter(items=['Poli faskes tujuan rujukan', 'Poli faskes tujuan rujukan label'])"
   ],
   "metadata": {
    "colab": {
     "base_uri": "https://localhost:8080/",
     "height": 363
    },
    "id": "5NOz6igYtvBm",
    "executionInfo": {
     "status": "ok",
     "timestamp": 1666500939966,
     "user_tz": -420,
     "elapsed": 963,
     "user": {
      "displayName": "Farhan Rahmadi Fajar",
      "userId": "10785679253509263230"
     }
    },
    "outputId": "331e5daa-2b6e-406d-86dc-d66fbdf14d31"
   },
   "execution_count": 43,
   "outputs": [
    {
     "data": {
      "text/plain": "         Poli faskes tujuan rujukan Poli faskes tujuan rujukan label\n2646761                          98                    TIDAK DIRUJUK\n3823666                          98                    TIDAK DIRUJUK\n350000                           98                    TIDAK DIRUJUK\n2267893                          98                    TIDAK DIRUJUK\n3044820                          98                    TIDAK DIRUJUK\n524122                           98                    TIDAK DIRUJUK\n1112936                          98                    TIDAK DIRUJUK\n3386258                          98                    TIDAK DIRUJUK\n2160000                          98                    TIDAK DIRUJUK\n3657039                          98                    TIDAK DIRUJUK",
      "text/html": "<div>\n<style scoped>\n    .dataframe tbody tr th:only-of-type {\n        vertical-align: middle;\n    }\n\n    .dataframe tbody tr th {\n        vertical-align: top;\n    }\n\n    .dataframe thead th {\n        text-align: right;\n    }\n</style>\n<table border=\"1\" class=\"dataframe\">\n  <thead>\n    <tr style=\"text-align: right;\">\n      <th></th>\n      <th>Poli faskes tujuan rujukan</th>\n      <th>Poli faskes tujuan rujukan label</th>\n    </tr>\n  </thead>\n  <tbody>\n    <tr>\n      <th>2646761</th>\n      <td>98</td>\n      <td>TIDAK DIRUJUK</td>\n    </tr>\n    <tr>\n      <th>3823666</th>\n      <td>98</td>\n      <td>TIDAK DIRUJUK</td>\n    </tr>\n    <tr>\n      <th>350000</th>\n      <td>98</td>\n      <td>TIDAK DIRUJUK</td>\n    </tr>\n    <tr>\n      <th>2267893</th>\n      <td>98</td>\n      <td>TIDAK DIRUJUK</td>\n    </tr>\n    <tr>\n      <th>3044820</th>\n      <td>98</td>\n      <td>TIDAK DIRUJUK</td>\n    </tr>\n    <tr>\n      <th>524122</th>\n      <td>98</td>\n      <td>TIDAK DIRUJUK</td>\n    </tr>\n    <tr>\n      <th>1112936</th>\n      <td>98</td>\n      <td>TIDAK DIRUJUK</td>\n    </tr>\n    <tr>\n      <th>3386258</th>\n      <td>98</td>\n      <td>TIDAK DIRUJUK</td>\n    </tr>\n    <tr>\n      <th>2160000</th>\n      <td>98</td>\n      <td>TIDAK DIRUJUK</td>\n    </tr>\n    <tr>\n      <th>3657039</th>\n      <td>98</td>\n      <td>TIDAK DIRUJUK</td>\n    </tr>\n  </tbody>\n</table>\n</div>"
     },
     "execution_count": 43,
     "metadata": {},
     "output_type": "execute_result"
    }
   ]
  },
  {
   "cell_type": "markdown",
   "source": [
    "## Merge Jenis Kunjungan FKTP dengan Label Jenis Kunjungan FKTP"
   ],
   "metadata": {
    "id": "w7BdB8LBvFHF"
   }
  },
  {
   "cell_type": "code",
   "source": [
    "jenis_kunjungan['value'] = jenis_kunjungan['value'].astype(int)\n",
    "merged_data = pd.merge(left=dataset, right=jenis_kunjungan, how='left',left_on='Jenis Kunjungan FKTP',right_on='value')\n",
    "merged_data.sample(10).filter(items=['Jenis Kunjungan FKTP', 'label'])"
   ],
   "metadata": {
    "colab": {
     "base_uri": "https://localhost:8080/",
     "height": 363
    },
    "id": "m7Hb53jBu71v",
    "executionInfo": {
     "status": "ok",
     "timestamp": 1666500945819,
     "user_tz": -420,
     "elapsed": 5859,
     "user": {
      "displayName": "Farhan Rahmadi Fajar",
      "userId": "10785679253509263230"
     }
    },
    "outputId": "c73800cb-3708-4b3d-a65f-bf1a84509693"
   },
   "execution_count": 44,
   "outputs": [
    {
     "data": {
      "text/plain": "         Jenis Kunjungan FKTP             label\n652984                      1   Kunjungan sakit\n169222                      1   Kunjungan sakit\n3089482                     1   Kunjungan sakit\n150814                      2  Kunjungan sehat \n3096652                     1   Kunjungan sakit\n2864939                     1   Kunjungan sakit\n2822724                     1   Kunjungan sakit\n949536                      1   Kunjungan sakit\n3181051                     2  Kunjungan sehat \n2824724                     1   Kunjungan sakit",
      "text/html": "<div>\n<style scoped>\n    .dataframe tbody tr th:only-of-type {\n        vertical-align: middle;\n    }\n\n    .dataframe tbody tr th {\n        vertical-align: top;\n    }\n\n    .dataframe thead th {\n        text-align: right;\n    }\n</style>\n<table border=\"1\" class=\"dataframe\">\n  <thead>\n    <tr style=\"text-align: right;\">\n      <th></th>\n      <th>Jenis Kunjungan FKTP</th>\n      <th>label</th>\n    </tr>\n  </thead>\n  <tbody>\n    <tr>\n      <th>652984</th>\n      <td>1</td>\n      <td>Kunjungan sakit</td>\n    </tr>\n    <tr>\n      <th>169222</th>\n      <td>1</td>\n      <td>Kunjungan sakit</td>\n    </tr>\n    <tr>\n      <th>3089482</th>\n      <td>1</td>\n      <td>Kunjungan sakit</td>\n    </tr>\n    <tr>\n      <th>150814</th>\n      <td>2</td>\n      <td>Kunjungan sehat</td>\n    </tr>\n    <tr>\n      <th>3096652</th>\n      <td>1</td>\n      <td>Kunjungan sakit</td>\n    </tr>\n    <tr>\n      <th>2864939</th>\n      <td>1</td>\n      <td>Kunjungan sakit</td>\n    </tr>\n    <tr>\n      <th>2822724</th>\n      <td>1</td>\n      <td>Kunjungan sakit</td>\n    </tr>\n    <tr>\n      <th>949536</th>\n      <td>1</td>\n      <td>Kunjungan sakit</td>\n    </tr>\n    <tr>\n      <th>3181051</th>\n      <td>2</td>\n      <td>Kunjungan sehat</td>\n    </tr>\n    <tr>\n      <th>2824724</th>\n      <td>1</td>\n      <td>Kunjungan sakit</td>\n    </tr>\n  </tbody>\n</table>\n</div>"
     },
     "execution_count": 44,
     "metadata": {},
     "output_type": "execute_result"
    }
   ]
  },
  {
   "cell_type": "code",
   "source": [
    "dataset['Jenis Kunjungan FKTP label'] = merged_data['label']\n",
    "dataset.sample(10).filter(items=['Jenis Kunjungan FKTP', 'Jenis Kunjungan FKTP label'])"
   ],
   "metadata": {
    "colab": {
     "base_uri": "https://localhost:8080/",
     "height": 363
    },
    "id": "X1fBsYSUvh3P",
    "executionInfo": {
     "status": "ok",
     "timestamp": 1666500946802,
     "user_tz": -420,
     "elapsed": 995,
     "user": {
      "displayName": "Farhan Rahmadi Fajar",
      "userId": "10785679253509263230"
     }
    },
    "outputId": "15042f93-fa67-4bbd-ffb4-26f9f259c640"
   },
   "execution_count": 45,
   "outputs": [
    {
     "data": {
      "text/plain": "         Jenis Kunjungan FKTP Jenis Kunjungan FKTP label\n2634114                     1            Kunjungan sakit\n683977                      2           Kunjungan sehat \n3788106                     1            Kunjungan sakit\n1924036                     2           Kunjungan sehat \n1194542                     1            Kunjungan sakit\n1422717                     1            Kunjungan sakit\n3392172                     1            Kunjungan sakit\n3258762                     2           Kunjungan sehat \n1298295                     1            Kunjungan sakit\n2234237                     1            Kunjungan sakit",
      "text/html": "<div>\n<style scoped>\n    .dataframe tbody tr th:only-of-type {\n        vertical-align: middle;\n    }\n\n    .dataframe tbody tr th {\n        vertical-align: top;\n    }\n\n    .dataframe thead th {\n        text-align: right;\n    }\n</style>\n<table border=\"1\" class=\"dataframe\">\n  <thead>\n    <tr style=\"text-align: right;\">\n      <th></th>\n      <th>Jenis Kunjungan FKTP</th>\n      <th>Jenis Kunjungan FKTP label</th>\n    </tr>\n  </thead>\n  <tbody>\n    <tr>\n      <th>2634114</th>\n      <td>1</td>\n      <td>Kunjungan sakit</td>\n    </tr>\n    <tr>\n      <th>683977</th>\n      <td>2</td>\n      <td>Kunjungan sehat</td>\n    </tr>\n    <tr>\n      <th>3788106</th>\n      <td>1</td>\n      <td>Kunjungan sakit</td>\n    </tr>\n    <tr>\n      <th>1924036</th>\n      <td>2</td>\n      <td>Kunjungan sehat</td>\n    </tr>\n    <tr>\n      <th>1194542</th>\n      <td>1</td>\n      <td>Kunjungan sakit</td>\n    </tr>\n    <tr>\n      <th>1422717</th>\n      <td>1</td>\n      <td>Kunjungan sakit</td>\n    </tr>\n    <tr>\n      <th>3392172</th>\n      <td>1</td>\n      <td>Kunjungan sakit</td>\n    </tr>\n    <tr>\n      <th>3258762</th>\n      <td>2</td>\n      <td>Kunjungan sehat</td>\n    </tr>\n    <tr>\n      <th>1298295</th>\n      <td>1</td>\n      <td>Kunjungan sakit</td>\n    </tr>\n    <tr>\n      <th>2234237</th>\n      <td>1</td>\n      <td>Kunjungan sakit</td>\n    </tr>\n  </tbody>\n</table>\n</div>"
     },
     "execution_count": 45,
     "metadata": {},
     "output_type": "execute_result"
    }
   ]
  },
  {
   "cell_type": "code",
   "source": [
    "merged_data = []"
   ],
   "metadata": {
    "id": "LfgFd3c0SoR0",
    "executionInfo": {
     "status": "ok",
     "timestamp": 1666502573653,
     "user_tz": -420,
     "elapsed": 539,
     "user": {
      "displayName": "Farhan Rahmadi Fajar",
      "userId": "10785679253509263230"
     }
    }
   },
   "execution_count": 46,
   "outputs": []
  },
  {
   "cell_type": "code",
   "source": [
    "dataset['Kelas Status Pulang Peserta Encoded'] = LabelEncoder().fit(dataset['Kelas Status Pulang Peserta']).transform(dataset['Kelas Status Pulang Peserta'])\n",
    "data_with_9999_code = dataset['Kode dan nama diagnosis ICD 10 (3 digit)'] == 9999\n",
    "data_with_9999_code = dataset[data_with_9999_code].filter(items=[ 'Kode dan nama diagnosis ICD 10 (3 digit)','Kelas Status Pulang Peserta Encoded'])\n",
    "data_with_9999_code.value_counts()"
   ],
   "metadata": {
    "colab": {
     "base_uri": "https://localhost:8080/"
    },
    "id": "o3_2_6V6RzMb",
    "executionInfo": {
     "status": "ok",
     "timestamp": 1666503426299,
     "user_tz": -420,
     "elapsed": 3840,
     "user": {
      "displayName": "Farhan Rahmadi Fajar",
      "userId": "10785679253509263230"
     }
    },
    "outputId": "3d4ea2c4-eb3d-401e-acdd-0ea6c9c81802"
   },
   "execution_count": 47,
   "outputs": [
    {
     "data": {
      "text/plain": "Kode dan nama diagnosis ICD 10 (3 digit)  Kelas Status Pulang Peserta Encoded\n9999                                      1                                      1380241\ndtype: int64"
     },
     "execution_count": 47,
     "metadata": {},
     "output_type": "execute_result"
    }
   ]
  },
  {
   "cell_type": "markdown",
   "source": [
    "## Pembersihan Data dan Feature Engineering"
   ],
   "metadata": {
    "id": "dhkeTR_Pv39h"
   }
  },
  {
   "cell_type": "code",
   "source": [
    "dataset.columns"
   ],
   "metadata": {
    "colab": {
     "base_uri": "https://localhost:8080/"
    },
    "id": "t10XkdRyvzMq",
    "executionInfo": {
     "status": "ok",
     "timestamp": 1666500946808,
     "user_tz": -420,
     "elapsed": 31,
     "user": {
      "displayName": "Farhan Rahmadi Fajar",
      "userId": "10785679253509263230"
     }
    },
    "outputId": "8ed148f6-5a09-4253-938b-579659b81a7f"
   },
   "execution_count": 48,
   "outputs": [
    {
     "data": {
      "text/plain": "Index(['Bobot', 'Tanggal datang kunjungan FKTP',\n       'Tanggal pulang kunjungan FKTP', 'Provinsi FKTP', 'Kabupaten/Kota FKTP',\n       'Kepemilikan FKTP', 'Jenis FKTP', 'Tipe FKTP', 'Tingkat Pelayanan FKTP',\n       'Jenis Poli FKTP', 'Segmen Peserta saat akses layanan FKTP',\n       'Kode dan nama diagnosis ICD 10 (3 digit)',\n       'Kode diagnosis ICD 10 (3 digit)', 'Kode diagnosis (beragam 3-5 digit)',\n       'Nama diagnosis berasal dari kode diagnosis FKP15',\n       'Provinsi faskes tujuan rujukan',\n       'Kabupaten/Kota faskes tujuan rujukan',\n       'Kepemilikan faskes tujuan rujukan', 'Jenis faskes tujuan rujukan',\n       'Tipe faskes tujuan rujukan', 'Poli faskes tujuan rujukan',\n       'Jenis Kunjungan FKTP', 'Kelas Status Pulang Peserta', 'Provinsi',\n       'Kepemilikan', 'Jenis', 'Tipe', 'Tingkat Pelayanan', 'Jenis Poli',\n       'Segemen Akses', 'Provinsi faskes tujuan rujukan label',\n       'Kepemilikan faskes tujuan rujukan label',\n       'Jenis faskes tujuan rujukan label', 'Tipe faskes tujuan rujukan label',\n       'Poli faskes tujuan rujukan label', 'Jenis Kunjungan FKTP label',\n       'Kelas Status Pulang Peserta Encoded'],\n      dtype='object')"
     },
     "execution_count": 48,
     "metadata": {},
     "output_type": "execute_result"
    }
   ]
  },
  {
   "cell_type": "code",
   "source": [
    "dataset['Kode dan nama diagnosis ICD 10 (3 digit)'].value_counts()"
   ],
   "metadata": {
    "colab": {
     "base_uri": "https://localhost:8080/"
    },
    "id": "7_UIZNVfOj_K",
    "executionInfo": {
     "status": "ok",
     "timestamp": 1666502063033,
     "user_tz": -420,
     "elapsed": 338,
     "user": {
      "displayName": "Farhan Rahmadi Fajar",
      "userId": "10785679253509263230"
     }
    },
    "outputId": "d705225c-cbd4-48a1-93a8-360e523a6f57"
   },
   "execution_count": 49,
   "outputs": [
    {
     "data": {
      "text/plain": "9999    1380241\n694      238562\n621      165252\n688      157014\n774      106718\n         ...   \n1260          1\n1178          1\n415           1\n1915          1\n1696          1\nName: Kode dan nama diagnosis ICD 10 (3 digit), Length: 1837, dtype: int64"
     },
     "execution_count": 49,
     "metadata": {},
     "output_type": "execute_result"
    }
   ]
  },
  {
   "cell_type": "code",
   "execution_count": 50,
   "outputs": [
    {
     "data": {
      "text/plain": "9998    3677528\n3578       6974\n3374       6764\n1471       5786\n3273       5363\n         ...   \n9415          7\n9413          6\n1301          3\n8108          3\n5320          2\nName: Kabupaten/Kota faskes tujuan rujukan, Length: 482, dtype: int64"
     },
     "execution_count": 50,
     "metadata": {},
     "output_type": "execute_result"
    }
   ],
   "source": [
    "dataset['Kabupaten/Kota faskes tujuan rujukan'].value_counts()"
   ],
   "metadata": {
    "collapsed": false
   }
  },
  {
   "cell_type": "code",
   "execution_count": 51,
   "outputs": [],
   "source": [
    "provinsi_ordinal_label = {k:i for i, k in enumerate(provinsi['label'].unique(), 0)}\n",
    "kepemilikan_ordinal_label = {k:i for i, k in enumerate(kepemilikan['label'].unique(), 0)}\n",
    "jenis_ordinal_label = {k:i for i, k in enumerate(jenis['label'].unique(), 0)}\n",
    "tipe_ordinal_label = {k:i for i, k in enumerate(tipe['label'].unique(), 0)}\n",
    "tingkat_pelayanan_ordinal_label = {k:i for i, k in enumerate(tingkat_pelayanan['label'].unique(), 0)}\n",
    "jenis_poli_ordinal_label = {k:i for i, k in enumerate(jenis_poli['label'].unique(), 0)}\n",
    "segmen_akses_ordinal_label = {k:i for i, k in enumerate(segmen_perkerjaan['label'].unique(), 0)}\n",
    "provinsi_faskes_tujuan_rujukan_ordinal_label = {k:i for i, k in enumerate(provinsi_faskes_tujuan_rujukan['label'].unique(), 0)}\n",
    "kepemilikan_faskes_tujuan_rujukan_ordinal_label = {k:i for i, k in enumerate(kepemilikan_faskes_tujuan_rujukan['label'].unique(), 0)}\n",
    "jenis_faskes_tujuan_rujukan_ordinal_label = {k:i for i, k in enumerate(jenis_faskes_tujuan_rujukan['label'].unique(), 0)}\n",
    "tipe_faskes_tujuan_rujukan_ordinal_label = {k:i for i, k in enumerate(tipe_faskes_tujuan_rujukan['label'].unique(), 0)}\n",
    "poli_faskes_tujuan_rujukan_ordinal_label = {k:i for i, k in enumerate(poli_faskes_tujuan_rujukan['label'].unique(), 0)}\n",
    "jenis_kunjungan_ordinal_label = {k:i for i, k in enumerate(jenis_kunjungan['label'].unique(), 0)}"
   ],
   "metadata": {
    "collapsed": false
   }
  },
  {
   "cell_type": "code",
   "execution_count": 52,
   "outputs": [
    {
     "data": {
      "text/plain": "0            PemKab\n1            PemKab\n2            PemKab\n3            PemKab\n4            PemKab\n             ...   \n4056893    Vertikal\n4056894    Vertikal\n4056895    Vertikal\n4056896    Vertikal\n4056897    Vertikal\nName: Kepemilikan, Length: 4056898, dtype: object"
     },
     "execution_count": 52,
     "metadata": {},
     "output_type": "execute_result"
    }
   ],
   "source": [
    "dataset['Kepemilikan']"
   ],
   "metadata": {
    "collapsed": false
   }
  },
  {
   "cell_type": "code",
   "execution_count": 53,
   "outputs": [],
   "source": [
    "dataset['Provinsi'] = dataset['Provinsi'].map(provinsi_ordinal_label)\n",
    "dataset['Kepemilikan'] = dataset['Kepemilikan'].map(kepemilikan_ordinal_label)\n",
    "dataset['Jenis'] = dataset['Jenis'].map(jenis_ordinal_label)\n",
    "dataset['Tipe'] = dataset['Tipe'].map(tipe_ordinal_label)\n",
    "dataset['Tingkat Pelayanan'] = dataset['Tingkat Pelayanan'].map(tingkat_pelayanan_ordinal_label)\n",
    "dataset['Jenis Poli'] = dataset['Jenis Poli'].map(jenis_poli_ordinal_label)\n",
    "dataset['Segemen Akses'] = dataset['Segemen Akses'].map(segmen_akses_ordinal_label)\n",
    "dataset['Provinsi faskes tujuan rujukan label'] = dataset['Provinsi faskes tujuan rujukan label'].map(provinsi_faskes_tujuan_rujukan_ordinal_label)\n",
    "dataset['Kepemilikan faskes tujuan rujukan label'] = dataset['Kepemilikan faskes tujuan rujukan label'].map(kepemilikan_faskes_tujuan_rujukan_ordinal_label)\n",
    "dataset['Jenis faskes tujuan rujukan label'] = dataset['Jenis faskes tujuan rujukan label'].map(jenis_faskes_tujuan_rujukan_ordinal_label)\n",
    "dataset['Tipe faskes tujuan rujukan label'] = dataset['Tipe faskes tujuan rujukan label'].map(tipe_faskes_tujuan_rujukan_ordinal_label)\n",
    "dataset['Poli faskes tujuan rujukan label'] = dataset['Poli faskes tujuan rujukan label'].map(poli_faskes_tujuan_rujukan_ordinal_label)\n",
    "dataset['Jenis Kunjungan FKTP label'] = dataset['Jenis Kunjungan FKTP label'].map(jenis_kunjungan_ordinal_label)"
   ],
   "metadata": {
    "collapsed": false
   }
  },
  {
   "cell_type": "code",
   "source": [
    "# Delete unnecessary column\n",
    "dataset = dataset.drop(['Tanggal datang kunjungan FKTP','Tanggal pulang kunjungan FKTP','Kabupaten/Kota FKTP', 'Kode diagnosis ICD 10 (3 digit)', 'Kode diagnosis (beragam 3-5 digit)', 'Nama diagnosis berasal dari kode diagnosis FKP15'], axis=1)"
   ],
   "metadata": {
    "id": "56XKTPVTM_5s"
   },
   "execution_count": 54,
   "outputs": []
  },
  {
   "cell_type": "code",
   "execution_count": 69,
   "outputs": [
    {
     "data": {
      "text/plain": "Index(['Bobot', 'Provinsi FKTP', 'Kepemilikan FKTP', 'Jenis FKTP', 'Tipe FKTP',\n       'Tingkat Pelayanan FKTP', 'Jenis Poli FKTP',\n       'Segmen Peserta saat akses layanan FKTP',\n       'Kode dan nama diagnosis ICD 10 (3 digit)',\n       'Provinsi faskes tujuan rujukan',\n       'Kabupaten/Kota faskes tujuan rujukan',\n       'Kepemilikan faskes tujuan rujukan', 'Jenis faskes tujuan rujukan',\n       'Tipe faskes tujuan rujukan', 'Poli faskes tujuan rujukan',\n       'Jenis Kunjungan FKTP', 'Kelas Status Pulang Peserta', 'Provinsi',\n       'Kepemilikan', 'Jenis', 'Tipe', 'Tingkat Pelayanan', 'Jenis Poli',\n       'Segemen Akses', 'Provinsi faskes tujuan rujukan label',\n       'Kepemilikan faskes tujuan rujukan label',\n       'Jenis faskes tujuan rujukan label', 'Tipe faskes tujuan rujukan label',\n       'Poli faskes tujuan rujukan label', 'Jenis Kunjungan FKTP label',\n       'Kelas Status Pulang Peserta Encoded'],\n      dtype='object')"
     },
     "execution_count": 69,
     "metadata": {},
     "output_type": "execute_result"
    }
   ],
   "source": [
    "dataset.columns"
   ],
   "metadata": {
    "collapsed": false
   }
  },
  {
   "cell_type": "code",
   "execution_count": 70,
   "outputs": [],
   "source": [
    "dataset['Kode dan nama diagnosis ICD 10 (3 digit)'] = dataset['Kode dan nama diagnosis ICD 10 (3 digit)'] / dataset['Kode dan nama diagnosis ICD 10 (3 digit)'].max()"
   ],
   "metadata": {
    "collapsed": false
   }
  },
  {
   "cell_type": "code",
   "execution_count": 71,
   "outputs": [
    {
     "data": {
      "text/plain": "            Bobot  Provinsi FKTP  Kepemilikan FKTP  Jenis FKTP  Tipe FKTP  \\\n0        0.000661             61                 3           1          4   \n1        0.000087             51                 9           3          2   \n2        0.000035             35                 9           2          1   \n3        0.012016             34                 3           1          4   \n4        0.000035             35                 3           1          4   \n...           ...            ...               ...         ...        ...   \n4056893  0.000469             35                 9           3          2   \n4056894  0.000128             35                 9           2          1   \n4056895  0.000202             11                 4           2          1   \n4056896  0.000875             74                 3           1          3   \n4056897  0.002911             73                 3           1          4   \n\n         Tingkat Pelayanan FKTP  Jenis Poli FKTP  \\\n0                             1             12.0   \n1                             1              1.0   \n2                             1              3.0   \n3                             1              1.0   \n4                             1              1.0   \n...                         ...              ...   \n4056893                       1             12.0   \n4056894                       1              1.0   \n4056895                       1             13.0   \n4056896                       1              1.0   \n4056897                       1             13.0   \n\n         Segmen Peserta saat akses layanan FKTP  \\\n0                                             2   \n1                                             4   \n2                                             4   \n3                                             5   \n4                                             1   \n...                                         ...   \n4056893                                       4   \n4056894                                       5   \n4056895                                       5   \n4056896                                       2   \n4056897                                       2   \n\n         Kode dan nama diagnosis ICD 10 (3 digit)  \\\n0                                        1.000000   \n1                                        0.077308   \n2                                        0.175718   \n3                                        0.062106   \n4                                        0.062206   \n...                                           ...   \n4056893                                  1.000000   \n4056894                                  0.056106   \n4056895                                  1.000000   \n4056896                                  0.077408   \n4056897                                  1.000000   \n\n         Provinsi faskes tujuan rujukan  ...  Tingkat Pelayanan  Jenis Poli  \\\n0                                    99  ...                  0        11.0   \n1                                    99  ...                  0        11.0   \n2                                    99  ...                  0        11.0   \n3                                    99  ...                  0        11.0   \n4                                    99  ...                  0        11.0   \n...                                 ...  ...                ...         ...   \n4056893                              99  ...                  1        21.0   \n4056894                              35  ...                  1        21.0   \n4056895                              99  ...                  1        25.0   \n4056896                              99  ...                  1        25.0   \n4056897                              99  ...                  1         NaN   \n\n         Segemen Akses  Provinsi faskes tujuan rujukan label  \\\n0                    1                                    34   \n1                    1                                    34   \n2                    1                                    34   \n3                    1                                    34   \n4                    1                                    34   \n...                ...                                   ...   \n4056893              2                                    28   \n4056894              2                                    28   \n4056895              2                                    28   \n4056896              2                                    28   \n4056897              2                                    28   \n\n         Kepemilikan faskes tujuan rujukan label  \\\n0                                              9   \n1                                              9   \n2                                              9   \n3                                              9   \n4                                              9   \n...                                          ...   \n4056893                                        9   \n4056894                                        8   \n4056895                                        9   \n4056896                                        9   \n4056897                                        9   \n\n         Jenis faskes tujuan rujukan label Tipe faskes tujuan rujukan label  \\\n0                                        3                             40.0   \n1                                        3                             40.0   \n2                                        3                             40.0   \n3                                        3                             40.0   \n4                                        3                             40.0   \n...                                    ...                              ...   \n4056893                                  3                             40.0   \n4056894                                  1                             13.0   \n4056895                                  3                             40.0   \n4056896                                  3                             40.0   \n4056897                                  3                             40.0   \n\n         Poli faskes tujuan rujukan label  Jenis Kunjungan FKTP label  \\\n0                                      95                           1   \n1                                      95                           0   \n2                                      95                           0   \n3                                      95                           0   \n4                                      95                           0   \n...                                   ...                         ...   \n4056893                                95                           1   \n4056894                                96                           0   \n4056895                                95                           1   \n4056896                                95                           0   \n4056897                                95                           1   \n\n         Kelas Status Pulang Peserta Encoded  \n0                                          1  \n1                                          0  \n2                                          0  \n3                                          0  \n4                                          0  \n...                                      ...  \n4056893                                    1  \n4056894                                    0  \n4056895                                    1  \n4056896                                    0  \n4056897                                    1  \n\n[4056898 rows x 31 columns]",
      "text/html": "<div>\n<style scoped>\n    .dataframe tbody tr th:only-of-type {\n        vertical-align: middle;\n    }\n\n    .dataframe tbody tr th {\n        vertical-align: top;\n    }\n\n    .dataframe thead th {\n        text-align: right;\n    }\n</style>\n<table border=\"1\" class=\"dataframe\">\n  <thead>\n    <tr style=\"text-align: right;\">\n      <th></th>\n      <th>Bobot</th>\n      <th>Provinsi FKTP</th>\n      <th>Kepemilikan FKTP</th>\n      <th>Jenis FKTP</th>\n      <th>Tipe FKTP</th>\n      <th>Tingkat Pelayanan FKTP</th>\n      <th>Jenis Poli FKTP</th>\n      <th>Segmen Peserta saat akses layanan FKTP</th>\n      <th>Kode dan nama diagnosis ICD 10 (3 digit)</th>\n      <th>Provinsi faskes tujuan rujukan</th>\n      <th>...</th>\n      <th>Tingkat Pelayanan</th>\n      <th>Jenis Poli</th>\n      <th>Segemen Akses</th>\n      <th>Provinsi faskes tujuan rujukan label</th>\n      <th>Kepemilikan faskes tujuan rujukan label</th>\n      <th>Jenis faskes tujuan rujukan label</th>\n      <th>Tipe faskes tujuan rujukan label</th>\n      <th>Poli faskes tujuan rujukan label</th>\n      <th>Jenis Kunjungan FKTP label</th>\n      <th>Kelas Status Pulang Peserta Encoded</th>\n    </tr>\n  </thead>\n  <tbody>\n    <tr>\n      <th>0</th>\n      <td>0.000661</td>\n      <td>61</td>\n      <td>3</td>\n      <td>1</td>\n      <td>4</td>\n      <td>1</td>\n      <td>12.0</td>\n      <td>2</td>\n      <td>1.000000</td>\n      <td>99</td>\n      <td>...</td>\n      <td>0</td>\n      <td>11.0</td>\n      <td>1</td>\n      <td>34</td>\n      <td>9</td>\n      <td>3</td>\n      <td>40.0</td>\n      <td>95</td>\n      <td>1</td>\n      <td>1</td>\n    </tr>\n    <tr>\n      <th>1</th>\n      <td>0.000087</td>\n      <td>51</td>\n      <td>9</td>\n      <td>3</td>\n      <td>2</td>\n      <td>1</td>\n      <td>1.0</td>\n      <td>4</td>\n      <td>0.077308</td>\n      <td>99</td>\n      <td>...</td>\n      <td>0</td>\n      <td>11.0</td>\n      <td>1</td>\n      <td>34</td>\n      <td>9</td>\n      <td>3</td>\n      <td>40.0</td>\n      <td>95</td>\n      <td>0</td>\n      <td>0</td>\n    </tr>\n    <tr>\n      <th>2</th>\n      <td>0.000035</td>\n      <td>35</td>\n      <td>9</td>\n      <td>2</td>\n      <td>1</td>\n      <td>1</td>\n      <td>3.0</td>\n      <td>4</td>\n      <td>0.175718</td>\n      <td>99</td>\n      <td>...</td>\n      <td>0</td>\n      <td>11.0</td>\n      <td>1</td>\n      <td>34</td>\n      <td>9</td>\n      <td>3</td>\n      <td>40.0</td>\n      <td>95</td>\n      <td>0</td>\n      <td>0</td>\n    </tr>\n    <tr>\n      <th>3</th>\n      <td>0.012016</td>\n      <td>34</td>\n      <td>3</td>\n      <td>1</td>\n      <td>4</td>\n      <td>1</td>\n      <td>1.0</td>\n      <td>5</td>\n      <td>0.062106</td>\n      <td>99</td>\n      <td>...</td>\n      <td>0</td>\n      <td>11.0</td>\n      <td>1</td>\n      <td>34</td>\n      <td>9</td>\n      <td>3</td>\n      <td>40.0</td>\n      <td>95</td>\n      <td>0</td>\n      <td>0</td>\n    </tr>\n    <tr>\n      <th>4</th>\n      <td>0.000035</td>\n      <td>35</td>\n      <td>3</td>\n      <td>1</td>\n      <td>4</td>\n      <td>1</td>\n      <td>1.0</td>\n      <td>1</td>\n      <td>0.062206</td>\n      <td>99</td>\n      <td>...</td>\n      <td>0</td>\n      <td>11.0</td>\n      <td>1</td>\n      <td>34</td>\n      <td>9</td>\n      <td>3</td>\n      <td>40.0</td>\n      <td>95</td>\n      <td>0</td>\n      <td>0</td>\n    </tr>\n    <tr>\n      <th>...</th>\n      <td>...</td>\n      <td>...</td>\n      <td>...</td>\n      <td>...</td>\n      <td>...</td>\n      <td>...</td>\n      <td>...</td>\n      <td>...</td>\n      <td>...</td>\n      <td>...</td>\n      <td>...</td>\n      <td>...</td>\n      <td>...</td>\n      <td>...</td>\n      <td>...</td>\n      <td>...</td>\n      <td>...</td>\n      <td>...</td>\n      <td>...</td>\n      <td>...</td>\n      <td>...</td>\n    </tr>\n    <tr>\n      <th>4056893</th>\n      <td>0.000469</td>\n      <td>35</td>\n      <td>9</td>\n      <td>3</td>\n      <td>2</td>\n      <td>1</td>\n      <td>12.0</td>\n      <td>4</td>\n      <td>1.000000</td>\n      <td>99</td>\n      <td>...</td>\n      <td>1</td>\n      <td>21.0</td>\n      <td>2</td>\n      <td>28</td>\n      <td>9</td>\n      <td>3</td>\n      <td>40.0</td>\n      <td>95</td>\n      <td>1</td>\n      <td>1</td>\n    </tr>\n    <tr>\n      <th>4056894</th>\n      <td>0.000128</td>\n      <td>35</td>\n      <td>9</td>\n      <td>2</td>\n      <td>1</td>\n      <td>1</td>\n      <td>1.0</td>\n      <td>5</td>\n      <td>0.056106</td>\n      <td>35</td>\n      <td>...</td>\n      <td>1</td>\n      <td>21.0</td>\n      <td>2</td>\n      <td>28</td>\n      <td>8</td>\n      <td>1</td>\n      <td>13.0</td>\n      <td>96</td>\n      <td>0</td>\n      <td>0</td>\n    </tr>\n    <tr>\n      <th>4056895</th>\n      <td>0.000202</td>\n      <td>11</td>\n      <td>4</td>\n      <td>2</td>\n      <td>1</td>\n      <td>1</td>\n      <td>13.0</td>\n      <td>5</td>\n      <td>1.000000</td>\n      <td>99</td>\n      <td>...</td>\n      <td>1</td>\n      <td>25.0</td>\n      <td>2</td>\n      <td>28</td>\n      <td>9</td>\n      <td>3</td>\n      <td>40.0</td>\n      <td>95</td>\n      <td>1</td>\n      <td>1</td>\n    </tr>\n    <tr>\n      <th>4056896</th>\n      <td>0.000875</td>\n      <td>74</td>\n      <td>3</td>\n      <td>1</td>\n      <td>3</td>\n      <td>1</td>\n      <td>1.0</td>\n      <td>2</td>\n      <td>0.077408</td>\n      <td>99</td>\n      <td>...</td>\n      <td>1</td>\n      <td>25.0</td>\n      <td>2</td>\n      <td>28</td>\n      <td>9</td>\n      <td>3</td>\n      <td>40.0</td>\n      <td>95</td>\n      <td>0</td>\n      <td>0</td>\n    </tr>\n    <tr>\n      <th>4056897</th>\n      <td>0.002911</td>\n      <td>73</td>\n      <td>3</td>\n      <td>1</td>\n      <td>4</td>\n      <td>1</td>\n      <td>13.0</td>\n      <td>2</td>\n      <td>1.000000</td>\n      <td>99</td>\n      <td>...</td>\n      <td>1</td>\n      <td>NaN</td>\n      <td>2</td>\n      <td>28</td>\n      <td>9</td>\n      <td>3</td>\n      <td>40.0</td>\n      <td>95</td>\n      <td>1</td>\n      <td>1</td>\n    </tr>\n  </tbody>\n</table>\n<p>4056898 rows × 31 columns</p>\n</div>"
     },
     "execution_count": 71,
     "metadata": {},
     "output_type": "execute_result"
    }
   ],
   "source": [
    "dataset"
   ],
   "metadata": {
    "collapsed": false
   }
  },
  {
   "cell_type": "code",
   "execution_count": 73,
   "outputs": [],
   "source": [
    "dataset.to_csv('../data/clean_ftkp.csv')"
   ],
   "metadata": {
    "collapsed": false
   }
  },
  {
   "cell_type": "code",
   "execution_count": 62,
   "outputs": [],
   "source": [],
   "metadata": {
    "collapsed": false
   }
  }
 ],
 "metadata": {
  "colab": {
   "provenance": []
  },
  "kernelspec": {
   "display_name": "Python 3",
   "name": "python3"
  },
  "language_info": {
   "name": "python"
  }
 },
 "nbformat": 4,
 "nbformat_minor": 0
}
